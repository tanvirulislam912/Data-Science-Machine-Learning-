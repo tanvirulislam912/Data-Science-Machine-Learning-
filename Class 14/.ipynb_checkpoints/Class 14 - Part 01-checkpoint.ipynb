{
 "cells": [
  {
   "cell_type": "code",
   "execution_count": 1,
   "id": "af717043",
   "metadata": {},
   "outputs": [],
   "source": [
    "import pandas as pd\n",
    "from sklearn.datasets import make_classification      #make regression for regression data"
   ]
  },
  {
   "cell_type": "code",
   "execution_count": 2,
   "id": "80e390df",
   "metadata": {},
   "outputs": [],
   "source": [
    "x,y = make_classification(n_samples=60000, n_features=25)   #60k samples with 25 features"
   ]
  },
  {
   "cell_type": "code",
   "execution_count": 3,
   "id": "b4983dfc",
   "metadata": {},
   "outputs": [
    {
     "data": {
      "text/plain": [
       "(60000, 25)"
      ]
     },
     "execution_count": 3,
     "metadata": {},
     "output_type": "execute_result"
    }
   ],
   "source": [
    "x.shape"
   ]
  },
  {
   "cell_type": "code",
   "execution_count": 4,
   "id": "2e922797",
   "metadata": {},
   "outputs": [
    {
     "data": {
      "text/plain": [
       "(60000,)"
      ]
     },
     "execution_count": 4,
     "metadata": {},
     "output_type": "execute_result"
    }
   ],
   "source": [
    "y.shape"
   ]
  },
  {
   "cell_type": "code",
   "execution_count": 5,
   "id": "f2f01d76",
   "metadata": {},
   "outputs": [],
   "source": [
    "y = pd.DataFrame(y)"
   ]
  },
  {
   "cell_type": "code",
   "execution_count": 6,
   "id": "f5cd6a9b",
   "metadata": {},
   "outputs": [
    {
     "data": {
      "text/html": [
       "<div>\n",
       "<style scoped>\n",
       "    .dataframe tbody tr th:only-of-type {\n",
       "        vertical-align: middle;\n",
       "    }\n",
       "\n",
       "    .dataframe tbody tr th {\n",
       "        vertical-align: top;\n",
       "    }\n",
       "\n",
       "    .dataframe thead th {\n",
       "        text-align: right;\n",
       "    }\n",
       "</style>\n",
       "<table border=\"1\" class=\"dataframe\">\n",
       "  <thead>\n",
       "    <tr style=\"text-align: right;\">\n",
       "      <th></th>\n",
       "      <th>0</th>\n",
       "    </tr>\n",
       "  </thead>\n",
       "  <tbody>\n",
       "    <tr>\n",
       "      <th>0</th>\n",
       "      <td>1</td>\n",
       "    </tr>\n",
       "    <tr>\n",
       "      <th>1</th>\n",
       "      <td>1</td>\n",
       "    </tr>\n",
       "    <tr>\n",
       "      <th>2</th>\n",
       "      <td>1</td>\n",
       "    </tr>\n",
       "    <tr>\n",
       "      <th>3</th>\n",
       "      <td>1</td>\n",
       "    </tr>\n",
       "    <tr>\n",
       "      <th>4</th>\n",
       "      <td>1</td>\n",
       "    </tr>\n",
       "    <tr>\n",
       "      <th>...</th>\n",
       "      <td>...</td>\n",
       "    </tr>\n",
       "    <tr>\n",
       "      <th>59995</th>\n",
       "      <td>0</td>\n",
       "    </tr>\n",
       "    <tr>\n",
       "      <th>59996</th>\n",
       "      <td>1</td>\n",
       "    </tr>\n",
       "    <tr>\n",
       "      <th>59997</th>\n",
       "      <td>0</td>\n",
       "    </tr>\n",
       "    <tr>\n",
       "      <th>59998</th>\n",
       "      <td>1</td>\n",
       "    </tr>\n",
       "    <tr>\n",
       "      <th>59999</th>\n",
       "      <td>1</td>\n",
       "    </tr>\n",
       "  </tbody>\n",
       "</table>\n",
       "<p>60000 rows × 1 columns</p>\n",
       "</div>"
      ],
      "text/plain": [
       "       0\n",
       "0      1\n",
       "1      1\n",
       "2      1\n",
       "3      1\n",
       "4      1\n",
       "...   ..\n",
       "59995  0\n",
       "59996  1\n",
       "59997  0\n",
       "59998  1\n",
       "59999  1\n",
       "\n",
       "[60000 rows x 1 columns]"
      ]
     },
     "execution_count": 6,
     "metadata": {},
     "output_type": "execute_result"
    }
   ],
   "source": [
    "y"
   ]
  },
  {
   "cell_type": "code",
   "execution_count": 7,
   "id": "7faacee1",
   "metadata": {},
   "outputs": [
    {
     "data": {
      "text/plain": [
       "1    30023\n",
       "0    29977\n",
       "dtype: int64"
      ]
     },
     "execution_count": 7,
     "metadata": {},
     "output_type": "execute_result"
    }
   ],
   "source": [
    "y.value_counts()"
   ]
  },
  {
   "cell_type": "code",
   "execution_count": 8,
   "id": "0e752515",
   "metadata": {},
   "outputs": [],
   "source": [
    "x = pd.DataFrame(x)"
   ]
  },
  {
   "cell_type": "code",
   "execution_count": 9,
   "id": "88a68a3b",
   "metadata": {},
   "outputs": [
    {
     "data": {
      "text/html": [
       "<div>\n",
       "<style scoped>\n",
       "    .dataframe tbody tr th:only-of-type {\n",
       "        vertical-align: middle;\n",
       "    }\n",
       "\n",
       "    .dataframe tbody tr th {\n",
       "        vertical-align: top;\n",
       "    }\n",
       "\n",
       "    .dataframe thead th {\n",
       "        text-align: right;\n",
       "    }\n",
       "</style>\n",
       "<table border=\"1\" class=\"dataframe\">\n",
       "  <thead>\n",
       "    <tr style=\"text-align: right;\">\n",
       "      <th></th>\n",
       "      <th>0</th>\n",
       "      <th>1</th>\n",
       "      <th>2</th>\n",
       "      <th>3</th>\n",
       "      <th>4</th>\n",
       "      <th>5</th>\n",
       "      <th>6</th>\n",
       "      <th>7</th>\n",
       "      <th>8</th>\n",
       "      <th>9</th>\n",
       "      <th>...</th>\n",
       "      <th>15</th>\n",
       "      <th>16</th>\n",
       "      <th>17</th>\n",
       "      <th>18</th>\n",
       "      <th>19</th>\n",
       "      <th>20</th>\n",
       "      <th>21</th>\n",
       "      <th>22</th>\n",
       "      <th>23</th>\n",
       "      <th>24</th>\n",
       "    </tr>\n",
       "  </thead>\n",
       "  <tbody>\n",
       "    <tr>\n",
       "      <th>0</th>\n",
       "      <td>0.853997</td>\n",
       "      <td>0.072963</td>\n",
       "      <td>-2.625030</td>\n",
       "      <td>-0.740395</td>\n",
       "      <td>1.098070</td>\n",
       "      <td>-0.495161</td>\n",
       "      <td>0.439667</td>\n",
       "      <td>0.977241</td>\n",
       "      <td>0.138409</td>\n",
       "      <td>-0.691641</td>\n",
       "      <td>...</td>\n",
       "      <td>-1.556261</td>\n",
       "      <td>-0.450642</td>\n",
       "      <td>0.277917</td>\n",
       "      <td>1.092631</td>\n",
       "      <td>0.971486</td>\n",
       "      <td>0.168661</td>\n",
       "      <td>0.065681</td>\n",
       "      <td>-0.076566</td>\n",
       "      <td>-1.362097</td>\n",
       "      <td>-0.286938</td>\n",
       "    </tr>\n",
       "    <tr>\n",
       "      <th>1</th>\n",
       "      <td>1.480602</td>\n",
       "      <td>-1.561152</td>\n",
       "      <td>-2.486259</td>\n",
       "      <td>-1.609359</td>\n",
       "      <td>0.860712</td>\n",
       "      <td>-0.828714</td>\n",
       "      <td>2.205921</td>\n",
       "      <td>-0.290288</td>\n",
       "      <td>-0.777223</td>\n",
       "      <td>-0.694560</td>\n",
       "      <td>...</td>\n",
       "      <td>-0.514348</td>\n",
       "      <td>-1.790672</td>\n",
       "      <td>-0.992517</td>\n",
       "      <td>0.578962</td>\n",
       "      <td>-0.379741</td>\n",
       "      <td>0.652323</td>\n",
       "      <td>1.042561</td>\n",
       "      <td>-0.040328</td>\n",
       "      <td>0.134057</td>\n",
       "      <td>0.576933</td>\n",
       "    </tr>\n",
       "    <tr>\n",
       "      <th>2</th>\n",
       "      <td>1.005130</td>\n",
       "      <td>-1.339189</td>\n",
       "      <td>-0.904163</td>\n",
       "      <td>0.312832</td>\n",
       "      <td>1.235016</td>\n",
       "      <td>-2.489224</td>\n",
       "      <td>-1.547957</td>\n",
       "      <td>-0.697211</td>\n",
       "      <td>1.618189</td>\n",
       "      <td>-0.209871</td>\n",
       "      <td>...</td>\n",
       "      <td>0.248251</td>\n",
       "      <td>0.173244</td>\n",
       "      <td>0.972259</td>\n",
       "      <td>-1.751500</td>\n",
       "      <td>0.758604</td>\n",
       "      <td>1.408857</td>\n",
       "      <td>-1.840138</td>\n",
       "      <td>-0.449837</td>\n",
       "      <td>-0.894880</td>\n",
       "      <td>-1.111211</td>\n",
       "    </tr>\n",
       "    <tr>\n",
       "      <th>3</th>\n",
       "      <td>0.592432</td>\n",
       "      <td>-2.144373</td>\n",
       "      <td>-0.189981</td>\n",
       "      <td>-0.690915</td>\n",
       "      <td>-0.358543</td>\n",
       "      <td>1.908848</td>\n",
       "      <td>0.669005</td>\n",
       "      <td>0.513972</td>\n",
       "      <td>-0.160455</td>\n",
       "      <td>-0.675317</td>\n",
       "      <td>...</td>\n",
       "      <td>-0.357600</td>\n",
       "      <td>0.918742</td>\n",
       "      <td>1.557536</td>\n",
       "      <td>1.128866</td>\n",
       "      <td>0.690854</td>\n",
       "      <td>-0.881298</td>\n",
       "      <td>1.631487</td>\n",
       "      <td>-0.718352</td>\n",
       "      <td>0.585961</td>\n",
       "      <td>0.757404</td>\n",
       "    </tr>\n",
       "    <tr>\n",
       "      <th>4</th>\n",
       "      <td>1.034515</td>\n",
       "      <td>0.298225</td>\n",
       "      <td>1.090259</td>\n",
       "      <td>-0.109999</td>\n",
       "      <td>0.216397</td>\n",
       "      <td>-0.752769</td>\n",
       "      <td>-0.069823</td>\n",
       "      <td>-1.684027</td>\n",
       "      <td>0.592131</td>\n",
       "      <td>0.550047</td>\n",
       "      <td>...</td>\n",
       "      <td>1.337356</td>\n",
       "      <td>-0.265624</td>\n",
       "      <td>-1.404008</td>\n",
       "      <td>0.567755</td>\n",
       "      <td>0.020968</td>\n",
       "      <td>0.219008</td>\n",
       "      <td>0.364324</td>\n",
       "      <td>0.092433</td>\n",
       "      <td>0.836420</td>\n",
       "      <td>0.372500</td>\n",
       "    </tr>\n",
       "    <tr>\n",
       "      <th>...</th>\n",
       "      <td>...</td>\n",
       "      <td>...</td>\n",
       "      <td>...</td>\n",
       "      <td>...</td>\n",
       "      <td>...</td>\n",
       "      <td>...</td>\n",
       "      <td>...</td>\n",
       "      <td>...</td>\n",
       "      <td>...</td>\n",
       "      <td>...</td>\n",
       "      <td>...</td>\n",
       "      <td>...</td>\n",
       "      <td>...</td>\n",
       "      <td>...</td>\n",
       "      <td>...</td>\n",
       "      <td>...</td>\n",
       "      <td>...</td>\n",
       "      <td>...</td>\n",
       "      <td>...</td>\n",
       "      <td>...</td>\n",
       "      <td>...</td>\n",
       "    </tr>\n",
       "    <tr>\n",
       "      <th>59995</th>\n",
       "      <td>-0.343108</td>\n",
       "      <td>0.326430</td>\n",
       "      <td>-0.124678</td>\n",
       "      <td>1.158921</td>\n",
       "      <td>-0.059320</td>\n",
       "      <td>3.165003</td>\n",
       "      <td>-0.933745</td>\n",
       "      <td>-1.694082</td>\n",
       "      <td>0.477839</td>\n",
       "      <td>0.405023</td>\n",
       "      <td>...</td>\n",
       "      <td>0.882859</td>\n",
       "      <td>-1.292167</td>\n",
       "      <td>-1.370512</td>\n",
       "      <td>0.172578</td>\n",
       "      <td>-1.689800</td>\n",
       "      <td>0.270117</td>\n",
       "      <td>0.178356</td>\n",
       "      <td>-0.774900</td>\n",
       "      <td>-0.821687</td>\n",
       "      <td>-0.991275</td>\n",
       "    </tr>\n",
       "    <tr>\n",
       "      <th>59996</th>\n",
       "      <td>1.140560</td>\n",
       "      <td>3.027335</td>\n",
       "      <td>-1.121394</td>\n",
       "      <td>0.164208</td>\n",
       "      <td>-0.344250</td>\n",
       "      <td>0.643195</td>\n",
       "      <td>-3.831103</td>\n",
       "      <td>-0.047161</td>\n",
       "      <td>3.297950</td>\n",
       "      <td>-0.719513</td>\n",
       "      <td>...</td>\n",
       "      <td>-0.653748</td>\n",
       "      <td>1.286584</td>\n",
       "      <td>1.173797</td>\n",
       "      <td>-0.615650</td>\n",
       "      <td>-0.765064</td>\n",
       "      <td>-1.154714</td>\n",
       "      <td>1.624774</td>\n",
       "      <td>0.135449</td>\n",
       "      <td>0.269016</td>\n",
       "      <td>1.148015</td>\n",
       "    </tr>\n",
       "    <tr>\n",
       "      <th>59997</th>\n",
       "      <td>-1.202681</td>\n",
       "      <td>-0.075352</td>\n",
       "      <td>1.932366</td>\n",
       "      <td>-0.481390</td>\n",
       "      <td>-0.016536</td>\n",
       "      <td>-1.996066</td>\n",
       "      <td>0.708492</td>\n",
       "      <td>-0.126382</td>\n",
       "      <td>-1.130389</td>\n",
       "      <td>-0.144494</td>\n",
       "      <td>...</td>\n",
       "      <td>-1.134266</td>\n",
       "      <td>0.924381</td>\n",
       "      <td>0.504099</td>\n",
       "      <td>-0.462377</td>\n",
       "      <td>-0.077021</td>\n",
       "      <td>-0.304011</td>\n",
       "      <td>0.741766</td>\n",
       "      <td>-0.232458</td>\n",
       "      <td>0.112653</td>\n",
       "      <td>-1.372311</td>\n",
       "    </tr>\n",
       "    <tr>\n",
       "      <th>59998</th>\n",
       "      <td>0.593647</td>\n",
       "      <td>-1.573661</td>\n",
       "      <td>-0.442678</td>\n",
       "      <td>0.572789</td>\n",
       "      <td>0.842061</td>\n",
       "      <td>0.326829</td>\n",
       "      <td>0.295291</td>\n",
       "      <td>1.051074</td>\n",
       "      <td>0.103498</td>\n",
       "      <td>-1.897084</td>\n",
       "      <td>...</td>\n",
       "      <td>0.757321</td>\n",
       "      <td>-0.391532</td>\n",
       "      <td>1.439919</td>\n",
       "      <td>-1.970808</td>\n",
       "      <td>0.395358</td>\n",
       "      <td>2.218826</td>\n",
       "      <td>-0.802557</td>\n",
       "      <td>3.113936</td>\n",
       "      <td>0.838212</td>\n",
       "      <td>0.220693</td>\n",
       "    </tr>\n",
       "    <tr>\n",
       "      <th>59999</th>\n",
       "      <td>1.248486</td>\n",
       "      <td>0.043121</td>\n",
       "      <td>-0.623038</td>\n",
       "      <td>-1.337736</td>\n",
       "      <td>0.319497</td>\n",
       "      <td>0.812949</td>\n",
       "      <td>1.744237</td>\n",
       "      <td>-0.326554</td>\n",
       "      <td>-0.573744</td>\n",
       "      <td>-2.222009</td>\n",
       "      <td>...</td>\n",
       "      <td>0.910263</td>\n",
       "      <td>-0.552010</td>\n",
       "      <td>0.863908</td>\n",
       "      <td>-1.352413</td>\n",
       "      <td>0.064293</td>\n",
       "      <td>0.859814</td>\n",
       "      <td>0.979393</td>\n",
       "      <td>-1.068665</td>\n",
       "      <td>1.016438</td>\n",
       "      <td>-1.265059</td>\n",
       "    </tr>\n",
       "  </tbody>\n",
       "</table>\n",
       "<p>60000 rows × 25 columns</p>\n",
       "</div>"
      ],
      "text/plain": [
       "             0         1         2         3         4         5         6   \\\n",
       "0      0.853997  0.072963 -2.625030 -0.740395  1.098070 -0.495161  0.439667   \n",
       "1      1.480602 -1.561152 -2.486259 -1.609359  0.860712 -0.828714  2.205921   \n",
       "2      1.005130 -1.339189 -0.904163  0.312832  1.235016 -2.489224 -1.547957   \n",
       "3      0.592432 -2.144373 -0.189981 -0.690915 -0.358543  1.908848  0.669005   \n",
       "4      1.034515  0.298225  1.090259 -0.109999  0.216397 -0.752769 -0.069823   \n",
       "...         ...       ...       ...       ...       ...       ...       ...   \n",
       "59995 -0.343108  0.326430 -0.124678  1.158921 -0.059320  3.165003 -0.933745   \n",
       "59996  1.140560  3.027335 -1.121394  0.164208 -0.344250  0.643195 -3.831103   \n",
       "59997 -1.202681 -0.075352  1.932366 -0.481390 -0.016536 -1.996066  0.708492   \n",
       "59998  0.593647 -1.573661 -0.442678  0.572789  0.842061  0.326829  0.295291   \n",
       "59999  1.248486  0.043121 -0.623038 -1.337736  0.319497  0.812949  1.744237   \n",
       "\n",
       "             7         8         9   ...        15        16        17  \\\n",
       "0      0.977241  0.138409 -0.691641  ... -1.556261 -0.450642  0.277917   \n",
       "1     -0.290288 -0.777223 -0.694560  ... -0.514348 -1.790672 -0.992517   \n",
       "2     -0.697211  1.618189 -0.209871  ...  0.248251  0.173244  0.972259   \n",
       "3      0.513972 -0.160455 -0.675317  ... -0.357600  0.918742  1.557536   \n",
       "4     -1.684027  0.592131  0.550047  ...  1.337356 -0.265624 -1.404008   \n",
       "...         ...       ...       ...  ...       ...       ...       ...   \n",
       "59995 -1.694082  0.477839  0.405023  ...  0.882859 -1.292167 -1.370512   \n",
       "59996 -0.047161  3.297950 -0.719513  ... -0.653748  1.286584  1.173797   \n",
       "59997 -0.126382 -1.130389 -0.144494  ... -1.134266  0.924381  0.504099   \n",
       "59998  1.051074  0.103498 -1.897084  ...  0.757321 -0.391532  1.439919   \n",
       "59999 -0.326554 -0.573744 -2.222009  ...  0.910263 -0.552010  0.863908   \n",
       "\n",
       "             18        19        20        21        22        23        24  \n",
       "0      1.092631  0.971486  0.168661  0.065681 -0.076566 -1.362097 -0.286938  \n",
       "1      0.578962 -0.379741  0.652323  1.042561 -0.040328  0.134057  0.576933  \n",
       "2     -1.751500  0.758604  1.408857 -1.840138 -0.449837 -0.894880 -1.111211  \n",
       "3      1.128866  0.690854 -0.881298  1.631487 -0.718352  0.585961  0.757404  \n",
       "4      0.567755  0.020968  0.219008  0.364324  0.092433  0.836420  0.372500  \n",
       "...         ...       ...       ...       ...       ...       ...       ...  \n",
       "59995  0.172578 -1.689800  0.270117  0.178356 -0.774900 -0.821687 -0.991275  \n",
       "59996 -0.615650 -0.765064 -1.154714  1.624774  0.135449  0.269016  1.148015  \n",
       "59997 -0.462377 -0.077021 -0.304011  0.741766 -0.232458  0.112653 -1.372311  \n",
       "59998 -1.970808  0.395358  2.218826 -0.802557  3.113936  0.838212  0.220693  \n",
       "59999 -1.352413  0.064293  0.859814  0.979393 -1.068665  1.016438 -1.265059  \n",
       "\n",
       "[60000 rows x 25 columns]"
      ]
     },
     "execution_count": 9,
     "metadata": {},
     "output_type": "execute_result"
    }
   ],
   "source": [
    "x"
   ]
  },
  {
   "cell_type": "code",
   "execution_count": 10,
   "id": "8d3c32fe",
   "metadata": {},
   "outputs": [],
   "source": [
    "from sklearn.model_selection import train_test_split"
   ]
  },
  {
   "cell_type": "code",
   "execution_count": 11,
   "id": "0bd53a7c",
   "metadata": {},
   "outputs": [],
   "source": [
    "xtrain, xtest, ytrain, ytest = train_test_split(x, y, test_size=.25, random_state=1)"
   ]
  },
  {
   "cell_type": "code",
   "execution_count": 12,
   "id": "17c8360b",
   "metadata": {},
   "outputs": [
    {
     "data": {
      "text/plain": [
       "(45000, 25)"
      ]
     },
     "execution_count": 12,
     "metadata": {},
     "output_type": "execute_result"
    }
   ],
   "source": [
    "xtrain.shape"
   ]
  },
  {
   "cell_type": "code",
   "execution_count": 13,
   "id": "8107555b",
   "metadata": {},
   "outputs": [],
   "source": [
    "train_accuracy = []\n",
    "test_accuracy = []\n",
    "\n",
    "max_features = [n for n in range(1, 25) ]"
   ]
  },
  {
   "cell_type": "code",
   "execution_count": 14,
   "id": "c47ff1db",
   "metadata": {},
   "outputs": [
    {
     "data": {
      "text/plain": [
       "[1,\n",
       " 2,\n",
       " 3,\n",
       " 4,\n",
       " 5,\n",
       " 6,\n",
       " 7,\n",
       " 8,\n",
       " 9,\n",
       " 10,\n",
       " 11,\n",
       " 12,\n",
       " 13,\n",
       " 14,\n",
       " 15,\n",
       " 16,\n",
       " 17,\n",
       " 18,\n",
       " 19,\n",
       " 20,\n",
       " 21,\n",
       " 22,\n",
       " 23,\n",
       " 24]"
      ]
     },
     "execution_count": 14,
     "metadata": {},
     "output_type": "execute_result"
    }
   ],
   "source": [
    "max_features"
   ]
  },
  {
   "cell_type": "code",
   "execution_count": 15,
   "id": "b217274c",
   "metadata": {},
   "outputs": [],
   "source": [
    " from sklearn.tree import DecisionTreeClassifier"
   ]
  },
  {
   "cell_type": "code",
   "execution_count": 16,
   "id": "32700f11",
   "metadata": {},
   "outputs": [
    {
     "name": "stdout",
     "output_type": "stream",
     "text": [
      "Max Depth =1,  Train ACC =0.925444,   Test Acc =0.927267\n",
      "Max Depth =2,  Train ACC =0.925444,   Test Acc =0.927267\n",
      "Max Depth =3,  Train ACC =0.944444,   Test Acc =0.945467\n",
      "Max Depth =4,  Train ACC =0.972156,   Test Acc =0.971867\n",
      "Max Depth =5,  Train ACC =0.980556,   Test Acc =0.978800\n",
      "Max Depth =6,  Train ACC =0.981489,   Test Acc =0.978200\n",
      "Max Depth =7,  Train ACC =0.983489,   Test Acc =0.979600\n",
      "Max Depth =8,  Train ACC =0.984867,   Test Acc =0.979067\n",
      "Max Depth =9,  Train ACC =0.986444,   Test Acc =0.979067\n",
      "Max Depth =10,  Train ACC =0.987333,   Test Acc =0.977267\n",
      "Max Depth =11,  Train ACC =0.988267,   Test Acc =0.976933\n",
      "Max Depth =12,  Train ACC =0.989244,   Test Acc =0.975533\n",
      "Max Depth =13,  Train ACC =0.990178,   Test Acc =0.975133\n",
      "Max Depth =14,  Train ACC =0.991133,   Test Acc =0.974400\n",
      "Max Depth =15,  Train ACC =0.991978,   Test Acc =0.973600\n",
      "Max Depth =16,  Train ACC =0.992711,   Test Acc =0.972933\n",
      "Max Depth =17,  Train ACC =0.993711,   Test Acc =0.971933\n",
      "Max Depth =18,  Train ACC =0.994356,   Test Acc =0.972333\n",
      "Max Depth =19,  Train ACC =0.995022,   Test Acc =0.970733\n",
      "Max Depth =20,  Train ACC =0.995867,   Test Acc =0.969400\n",
      "Max Depth =21,  Train ACC =0.996156,   Test Acc =0.969000\n",
      "Max Depth =22,  Train ACC =0.996756,   Test Acc =0.968067\n",
      "Max Depth =23,  Train ACC =0.997244,   Test Acc =0.967533\n",
      "Max Depth =24,  Train ACC =0.997511,   Test Acc =0.967200\n"
     ]
    }
   ],
   "source": [
    "for depth in max_features:\n",
    "    clf = DecisionTreeClassifier(max_depth=depth)\n",
    "    clf.fit(xtrain, ytrain)      #training        \n",
    "    \n",
    "    #train accuracy\n",
    "    train_acc = clf.score(xtrain, ytrain)\n",
    "    train_accuracy.append(train_acc)\n",
    "    \n",
    "    \n",
    "    #test accuracy\n",
    "    test_acc = clf.score(xtest, ytest)\n",
    "    test_accuracy.append(test_acc)\n",
    "    \n",
    "    print('Max Depth =%d,  Train ACC =%f,   Test Acc =%f' %(depth, train_acc, test_acc))"
   ]
  },
  {
   "cell_type": "code",
   "execution_count": 17,
   "id": "db2842ba",
   "metadata": {},
   "outputs": [
    {
     "data": {
      "text/plain": [
       "[<matplotlib.lines.Line2D at 0x1ed7913a040>]"
      ]
     },
     "execution_count": 17,
     "metadata": {},
     "output_type": "execute_result"
    },
    {
     "data": {
      "image/png": "[encoded data removed]",
      "text/plain": [
       "<Figure size 640x480 with 1 Axes>"
      ]
     },
     "metadata": {},
     "output_type": "display_data"
    }
   ],
   "source": [
    "from matplotlib import pyplot as plt\n",
    "plt.plot(max_features, train_accuracy)\n",
    "plt.plot(max_features, test_accuracy)"
   ]
  },
  {
   "cell_type": "code",
   "execution_count": 18,
   "id": "d7707a53",
   "metadata": {},
   "outputs": [
    {
     "data": {
      "text/plain": [
       "<matplotlib.legend.Legend at 0x1ed7935a730>"
      ]
     },
     "execution_count": 18,
     "metadata": {},
     "output_type": "execute_result"
    },
    {
     "data": {
      "image/png": "[encoded data removed]",
      "text/plain": [
       "<Figure size 640x480 with 1 Axes>"
      ]
     },
     "metadata": {},
     "output_type": "display_data"
    }
   ],
   "source": [
    "from matplotlib import pyplot as plt\n",
    "plt.plot(max_features, train_accuracy, '-o', color='black', label='Train')\n",
    "plt.plot(max_features, test_accuracy, '-o', color='green', label='Test')\n",
    "plt.legend()"
   ]
  },
  {
   "cell_type": "code",
   "execution_count": null,
   "id": "28b79365",
   "metadata": {},
   "outputs": [],
   "source": []
  }
 ],
 "metadata": {
  "kernelspec": {
   "display_name": "Python 3 (ipykernel)",
   "language": "python",
   "name": "python3"
  },
  "language_info": {
   "codemirror_mode": {
    "name": "ipython",
    "version": 3
   },
   "file_extension": ".py",
   "mimetype": "text/x-python",
   "name": "python",
   "nbconvert_exporter": "python",
   "pygments_lexer": "ipython3",
   "version": "3.9.13"
  }
 },
 "nbformat": 4,
 "nbformat_minor": 5
}
