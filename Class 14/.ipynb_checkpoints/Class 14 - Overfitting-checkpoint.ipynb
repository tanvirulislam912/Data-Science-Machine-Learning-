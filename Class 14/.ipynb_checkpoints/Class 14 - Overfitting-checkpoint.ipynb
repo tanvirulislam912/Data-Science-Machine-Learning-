{
 "cells": [
  {
   "cell_type": "code",
   "execution_count": 1,
   "id": "af717043",
   "metadata": {},
   "outputs": [],
   "source": [
    "import pandas as pd\n",
    "from sklearn.datasets import make_classification      #make regression for regression data"
   ]
  },
  {
   "cell_type": "code",
   "execution_count": 2,
   "id": "80e390df",
   "metadata": {},
   "outputs": [],
   "source": [
    "x,y = make_classification(n_samples=60000, n_features=25)   #60k samples with 25 features"
   ]
  },
  {
   "cell_type": "code",
   "execution_count": 3,
   "id": "b4983dfc",
   "metadata": {},
   "outputs": [
    {
     "data": {
      "text/plain": [
       "(60000, 25)"
      ]
     },
     "execution_count": 3,
     "metadata": {},
     "output_type": "execute_result"
    }
   ],
   "source": [
    "x.shape"
   ]
  },
  {
   "cell_type": "code",
   "execution_count": 4,
   "id": "2e922797",
   "metadata": {},
   "outputs": [
    {
     "data": {
      "text/plain": [
       "(60000,)"
      ]
     },
     "execution_count": 4,
     "metadata": {},
     "output_type": "execute_result"
    }
   ],
   "source": [
    "y.shape"
   ]
  },
  {
   "cell_type": "code",
   "execution_count": 5,
   "id": "f2f01d76",
   "metadata": {},
   "outputs": [],
   "source": [
    "y = pd.DataFrame(y)"
   ]
  },
  {
   "cell_type": "code",
   "execution_count": 6,
   "id": "f5cd6a9b",
   "metadata": {},
   "outputs": [
    {
     "data": {
      "text/html": [
       "<div>\n",
       "<style scoped>\n",
       "    .dataframe tbody tr th:only-of-type {\n",
       "        vertical-align: middle;\n",
       "    }\n",
       "\n",
       "    .dataframe tbody tr th {\n",
       "        vertical-align: top;\n",
       "    }\n",
       "\n",
       "    .dataframe thead th {\n",
       "        text-align: right;\n",
       "    }\n",
       "</style>\n",
       "<table border=\"1\" class=\"dataframe\">\n",
       "  <thead>\n",
       "    <tr style=\"text-align: right;\">\n",
       "      <th></th>\n",
       "      <th>0</th>\n",
       "    </tr>\n",
       "  </thead>\n",
       "  <tbody>\n",
       "    <tr>\n",
       "      <th>0</th>\n",
       "      <td>0</td>\n",
       "    </tr>\n",
       "    <tr>\n",
       "      <th>1</th>\n",
       "      <td>1</td>\n",
       "    </tr>\n",
       "    <tr>\n",
       "      <th>2</th>\n",
       "      <td>0</td>\n",
       "    </tr>\n",
       "    <tr>\n",
       "      <th>3</th>\n",
       "      <td>0</td>\n",
       "    </tr>\n",
       "    <tr>\n",
       "      <th>4</th>\n",
       "      <td>1</td>\n",
       "    </tr>\n",
       "    <tr>\n",
       "      <th>...</th>\n",
       "      <td>...</td>\n",
       "    </tr>\n",
       "    <tr>\n",
       "      <th>59995</th>\n",
       "      <td>1</td>\n",
       "    </tr>\n",
       "    <tr>\n",
       "      <th>59996</th>\n",
       "      <td>0</td>\n",
       "    </tr>\n",
       "    <tr>\n",
       "      <th>59997</th>\n",
       "      <td>0</td>\n",
       "    </tr>\n",
       "    <tr>\n",
       "      <th>59998</th>\n",
       "      <td>0</td>\n",
       "    </tr>\n",
       "    <tr>\n",
       "      <th>59999</th>\n",
       "      <td>0</td>\n",
       "    </tr>\n",
       "  </tbody>\n",
       "</table>\n",
       "<p>60000 rows × 1 columns</p>\n",
       "</div>"
      ],
      "text/plain": [
       "       0\n",
       "0      0\n",
       "1      1\n",
       "2      0\n",
       "3      0\n",
       "4      1\n",
       "...   ..\n",
       "59995  1\n",
       "59996  0\n",
       "59997  0\n",
       "59998  0\n",
       "59999  0\n",
       "\n",
       "[60000 rows x 1 columns]"
      ]
     },
     "execution_count": 6,
     "metadata": {},
     "output_type": "execute_result"
    }
   ],
   "source": [
    "y"
   ]
  },
  {
   "cell_type": "code",
   "execution_count": 7,
   "id": "7faacee1",
   "metadata": {},
   "outputs": [
    {
     "data": {
      "text/plain": [
       "0    30011\n",
       "1    29989\n",
       "dtype: int64"
      ]
     },
     "execution_count": 7,
     "metadata": {},
     "output_type": "execute_result"
    }
   ],
   "source": [
    "y.value_counts()"
   ]
  },
  {
   "cell_type": "code",
   "execution_count": 8,
   "id": "0e752515",
   "metadata": {},
   "outputs": [],
   "source": [
    "x = pd.DataFrame(x)"
   ]
  },
  {
   "cell_type": "code",
   "execution_count": 9,
   "id": "88a68a3b",
   "metadata": {},
   "outputs": [
    {
     "data": {
      "text/html": [
       "<div>\n",
       "<style scoped>\n",
       "    .dataframe tbody tr th:only-of-type {\n",
       "        vertical-align: middle;\n",
       "    }\n",
       "\n",
       "    .dataframe tbody tr th {\n",
       "        vertical-align: top;\n",
       "    }\n",
       "\n",
       "    .dataframe thead th {\n",
       "        text-align: right;\n",
       "    }\n",
       "</style>\n",
       "<table border=\"1\" class=\"dataframe\">\n",
       "  <thead>\n",
       "    <tr style=\"text-align: right;\">\n",
       "      <th></th>\n",
       "      <th>0</th>\n",
       "      <th>1</th>\n",
       "      <th>2</th>\n",
       "      <th>3</th>\n",
       "      <th>4</th>\n",
       "      <th>5</th>\n",
       "      <th>6</th>\n",
       "      <th>7</th>\n",
       "      <th>8</th>\n",
       "      <th>9</th>\n",
       "      <th>...</th>\n",
       "      <th>15</th>\n",
       "      <th>16</th>\n",
       "      <th>17</th>\n",
       "      <th>18</th>\n",
       "      <th>19</th>\n",
       "      <th>20</th>\n",
       "      <th>21</th>\n",
       "      <th>22</th>\n",
       "      <th>23</th>\n",
       "      <th>24</th>\n",
       "    </tr>\n",
       "  </thead>\n",
       "  <tbody>\n",
       "    <tr>\n",
       "      <th>0</th>\n",
       "      <td>1.164034</td>\n",
       "      <td>-1.510919</td>\n",
       "      <td>-0.143155</td>\n",
       "      <td>-2.331759</td>\n",
       "      <td>-0.432942</td>\n",
       "      <td>0.353163</td>\n",
       "      <td>-1.645198</td>\n",
       "      <td>-0.528795</td>\n",
       "      <td>-0.234864</td>\n",
       "      <td>0.206106</td>\n",
       "      <td>...</td>\n",
       "      <td>0.933750</td>\n",
       "      <td>0.257514</td>\n",
       "      <td>-0.593140</td>\n",
       "      <td>0.134451</td>\n",
       "      <td>-0.020240</td>\n",
       "      <td>1.125518</td>\n",
       "      <td>-0.246594</td>\n",
       "      <td>0.243176</td>\n",
       "      <td>0.087144</td>\n",
       "      <td>-1.170768</td>\n",
       "    </tr>\n",
       "    <tr>\n",
       "      <th>1</th>\n",
       "      <td>0.410982</td>\n",
       "      <td>2.018384</td>\n",
       "      <td>-0.350948</td>\n",
       "      <td>-1.240971</td>\n",
       "      <td>0.806633</td>\n",
       "      <td>-0.639583</td>\n",
       "      <td>0.693238</td>\n",
       "      <td>0.041280</td>\n",
       "      <td>-1.487960</td>\n",
       "      <td>1.568083</td>\n",
       "      <td>...</td>\n",
       "      <td>1.632291</td>\n",
       "      <td>-0.338287</td>\n",
       "      <td>0.640398</td>\n",
       "      <td>-0.691813</td>\n",
       "      <td>-2.538496</td>\n",
       "      <td>-0.441141</td>\n",
       "      <td>-0.670357</td>\n",
       "      <td>0.748809</td>\n",
       "      <td>-0.039942</td>\n",
       "      <td>-2.041363</td>\n",
       "    </tr>\n",
       "    <tr>\n",
       "      <th>2</th>\n",
       "      <td>0.104348</td>\n",
       "      <td>-2.146173</td>\n",
       "      <td>-0.252573</td>\n",
       "      <td>-0.260905</td>\n",
       "      <td>-0.852192</td>\n",
       "      <td>0.873783</td>\n",
       "      <td>-0.343219</td>\n",
       "      <td>0.254913</td>\n",
       "      <td>1.632844</td>\n",
       "      <td>-0.035556</td>\n",
       "      <td>...</td>\n",
       "      <td>1.075763</td>\n",
       "      <td>-0.613769</td>\n",
       "      <td>0.072411</td>\n",
       "      <td>0.884123</td>\n",
       "      <td>0.358368</td>\n",
       "      <td>-1.424222</td>\n",
       "      <td>-0.630280</td>\n",
       "      <td>0.379698</td>\n",
       "      <td>-0.811192</td>\n",
       "      <td>-2.024301</td>\n",
       "    </tr>\n",
       "    <tr>\n",
       "      <th>3</th>\n",
       "      <td>0.937563</td>\n",
       "      <td>0.654907</td>\n",
       "      <td>-0.078509</td>\n",
       "      <td>-0.181634</td>\n",
       "      <td>-2.319422</td>\n",
       "      <td>-0.512155</td>\n",
       "      <td>-0.818627</td>\n",
       "      <td>-1.252984</td>\n",
       "      <td>-0.125394</td>\n",
       "      <td>-2.140270</td>\n",
       "      <td>...</td>\n",
       "      <td>-0.601981</td>\n",
       "      <td>-0.543609</td>\n",
       "      <td>0.151042</td>\n",
       "      <td>-1.701384</td>\n",
       "      <td>0.104679</td>\n",
       "      <td>0.179071</td>\n",
       "      <td>0.288463</td>\n",
       "      <td>0.483420</td>\n",
       "      <td>-0.749825</td>\n",
       "      <td>-0.278949</td>\n",
       "    </tr>\n",
       "    <tr>\n",
       "      <th>4</th>\n",
       "      <td>-0.097523</td>\n",
       "      <td>0.175077</td>\n",
       "      <td>0.086522</td>\n",
       "      <td>-1.870969</td>\n",
       "      <td>0.974579</td>\n",
       "      <td>0.521675</td>\n",
       "      <td>-1.032534</td>\n",
       "      <td>0.575314</td>\n",
       "      <td>-0.790652</td>\n",
       "      <td>0.217007</td>\n",
       "      <td>...</td>\n",
       "      <td>-0.925644</td>\n",
       "      <td>0.408996</td>\n",
       "      <td>0.814332</td>\n",
       "      <td>0.431099</td>\n",
       "      <td>-1.627298</td>\n",
       "      <td>-0.007670</td>\n",
       "      <td>1.517500</td>\n",
       "      <td>0.080534</td>\n",
       "      <td>-2.013416</td>\n",
       "      <td>0.119448</td>\n",
       "    </tr>\n",
       "    <tr>\n",
       "      <th>...</th>\n",
       "      <td>...</td>\n",
       "      <td>...</td>\n",
       "      <td>...</td>\n",
       "      <td>...</td>\n",
       "      <td>...</td>\n",
       "      <td>...</td>\n",
       "      <td>...</td>\n",
       "      <td>...</td>\n",
       "      <td>...</td>\n",
       "      <td>...</td>\n",
       "      <td>...</td>\n",
       "      <td>...</td>\n",
       "      <td>...</td>\n",
       "      <td>...</td>\n",
       "      <td>...</td>\n",
       "      <td>...</td>\n",
       "      <td>...</td>\n",
       "      <td>...</td>\n",
       "      <td>...</td>\n",
       "      <td>...</td>\n",
       "      <td>...</td>\n",
       "    </tr>\n",
       "    <tr>\n",
       "      <th>59995</th>\n",
       "      <td>-0.355360</td>\n",
       "      <td>0.900970</td>\n",
       "      <td>-0.290646</td>\n",
       "      <td>-0.551340</td>\n",
       "      <td>0.307237</td>\n",
       "      <td>-0.706708</td>\n",
       "      <td>0.205253</td>\n",
       "      <td>0.074019</td>\n",
       "      <td>0.937665</td>\n",
       "      <td>-0.532641</td>\n",
       "      <td>...</td>\n",
       "      <td>-1.330056</td>\n",
       "      <td>-1.539043</td>\n",
       "      <td>-0.924224</td>\n",
       "      <td>-0.143222</td>\n",
       "      <td>0.940816</td>\n",
       "      <td>0.360897</td>\n",
       "      <td>-0.675560</td>\n",
       "      <td>0.984661</td>\n",
       "      <td>0.141271</td>\n",
       "      <td>-0.345369</td>\n",
       "    </tr>\n",
       "    <tr>\n",
       "      <th>59996</th>\n",
       "      <td>1.184814</td>\n",
       "      <td>0.282884</td>\n",
       "      <td>1.688486</td>\n",
       "      <td>-0.988842</td>\n",
       "      <td>-1.312631</td>\n",
       "      <td>-0.286909</td>\n",
       "      <td>0.460816</td>\n",
       "      <td>-0.485540</td>\n",
       "      <td>-1.158072</td>\n",
       "      <td>-1.142476</td>\n",
       "      <td>...</td>\n",
       "      <td>-0.221891</td>\n",
       "      <td>1.146686</td>\n",
       "      <td>0.556438</td>\n",
       "      <td>-0.539048</td>\n",
       "      <td>-0.427286</td>\n",
       "      <td>0.266345</td>\n",
       "      <td>2.570420</td>\n",
       "      <td>0.806942</td>\n",
       "      <td>-1.023016</td>\n",
       "      <td>-0.827990</td>\n",
       "    </tr>\n",
       "    <tr>\n",
       "      <th>59997</th>\n",
       "      <td>1.259586</td>\n",
       "      <td>-1.053200</td>\n",
       "      <td>-0.349357</td>\n",
       "      <td>0.125640</td>\n",
       "      <td>-1.198088</td>\n",
       "      <td>0.061142</td>\n",
       "      <td>0.830806</td>\n",
       "      <td>-0.622020</td>\n",
       "      <td>-1.397815</td>\n",
       "      <td>-0.260160</td>\n",
       "      <td>...</td>\n",
       "      <td>1.149357</td>\n",
       "      <td>-0.700062</td>\n",
       "      <td>1.200785</td>\n",
       "      <td>1.221051</td>\n",
       "      <td>-0.904896</td>\n",
       "      <td>-0.087336</td>\n",
       "      <td>-0.337834</td>\n",
       "      <td>0.676473</td>\n",
       "      <td>-0.332271</td>\n",
       "      <td>0.934658</td>\n",
       "    </tr>\n",
       "    <tr>\n",
       "      <th>59998</th>\n",
       "      <td>1.517310</td>\n",
       "      <td>-0.074568</td>\n",
       "      <td>0.450677</td>\n",
       "      <td>-1.980090</td>\n",
       "      <td>-0.806677</td>\n",
       "      <td>1.038919</td>\n",
       "      <td>-0.409770</td>\n",
       "      <td>-0.268392</td>\n",
       "      <td>-0.529868</td>\n",
       "      <td>-0.992953</td>\n",
       "      <td>...</td>\n",
       "      <td>-0.638763</td>\n",
       "      <td>1.093120</td>\n",
       "      <td>-0.802570</td>\n",
       "      <td>-1.074431</td>\n",
       "      <td>-0.453543</td>\n",
       "      <td>-0.988374</td>\n",
       "      <td>1.208716</td>\n",
       "      <td>-0.089848</td>\n",
       "      <td>0.837659</td>\n",
       "      <td>2.046569</td>\n",
       "    </tr>\n",
       "    <tr>\n",
       "      <th>59999</th>\n",
       "      <td>-0.580158</td>\n",
       "      <td>-0.149684</td>\n",
       "      <td>-0.625397</td>\n",
       "      <td>0.549388</td>\n",
       "      <td>-0.042447</td>\n",
       "      <td>-1.006878</td>\n",
       "      <td>-2.911821</td>\n",
       "      <td>0.741629</td>\n",
       "      <td>-0.495337</td>\n",
       "      <td>-0.626019</td>\n",
       "      <td>...</td>\n",
       "      <td>-1.024732</td>\n",
       "      <td>0.034634</td>\n",
       "      <td>-0.442744</td>\n",
       "      <td>0.085914</td>\n",
       "      <td>-0.454325</td>\n",
       "      <td>-0.924692</td>\n",
       "      <td>-0.755796</td>\n",
       "      <td>-1.393001</td>\n",
       "      <td>0.035041</td>\n",
       "      <td>0.831701</td>\n",
       "    </tr>\n",
       "  </tbody>\n",
       "</table>\n",
       "<p>60000 rows × 25 columns</p>\n",
       "</div>"
      ],
      "text/plain": [
       "             0         1         2         3         4         5         6   \\\n",
       "0      1.164034 -1.510919 -0.143155 -2.331759 -0.432942  0.353163 -1.645198   \n",
       "1      0.410982  2.018384 -0.350948 -1.240971  0.806633 -0.639583  0.693238   \n",
       "2      0.104348 -2.146173 -0.252573 -0.260905 -0.852192  0.873783 -0.343219   \n",
       "3      0.937563  0.654907 -0.078509 -0.181634 -2.319422 -0.512155 -0.818627   \n",
       "4     -0.097523  0.175077  0.086522 -1.870969  0.974579  0.521675 -1.032534   \n",
       "...         ...       ...       ...       ...       ...       ...       ...   \n",
       "59995 -0.355360  0.900970 -0.290646 -0.551340  0.307237 -0.706708  0.205253   \n",
       "59996  1.184814  0.282884  1.688486 -0.988842 -1.312631 -0.286909  0.460816   \n",
       "59997  1.259586 -1.053200 -0.349357  0.125640 -1.198088  0.061142  0.830806   \n",
       "59998  1.517310 -0.074568  0.450677 -1.980090 -0.806677  1.038919 -0.409770   \n",
       "59999 -0.580158 -0.149684 -0.625397  0.549388 -0.042447 -1.006878 -2.911821   \n",
       "\n",
       "             7         8         9   ...        15        16        17  \\\n",
       "0     -0.528795 -0.234864  0.206106  ...  0.933750  0.257514 -0.593140   \n",
       "1      0.041280 -1.487960  1.568083  ...  1.632291 -0.338287  0.640398   \n",
       "2      0.254913  1.632844 -0.035556  ...  1.075763 -0.613769  0.072411   \n",
       "3     -1.252984 -0.125394 -2.140270  ... -0.601981 -0.543609  0.151042   \n",
       "4      0.575314 -0.790652  0.217007  ... -0.925644  0.408996  0.814332   \n",
       "...         ...       ...       ...  ...       ...       ...       ...   \n",
       "59995  0.074019  0.937665 -0.532641  ... -1.330056 -1.539043 -0.924224   \n",
       "59996 -0.485540 -1.158072 -1.142476  ... -0.221891  1.146686  0.556438   \n",
       "59997 -0.622020 -1.397815 -0.260160  ...  1.149357 -0.700062  1.200785   \n",
       "59998 -0.268392 -0.529868 -0.992953  ... -0.638763  1.093120 -0.802570   \n",
       "59999  0.741629 -0.495337 -0.626019  ... -1.024732  0.034634 -0.442744   \n",
       "\n",
       "             18        19        20        21        22        23        24  \n",
       "0      0.134451 -0.020240  1.125518 -0.246594  0.243176  0.087144 -1.170768  \n",
       "1     -0.691813 -2.538496 -0.441141 -0.670357  0.748809 -0.039942 -2.041363  \n",
       "2      0.884123  0.358368 -1.424222 -0.630280  0.379698 -0.811192 -2.024301  \n",
       "3     -1.701384  0.104679  0.179071  0.288463  0.483420 -0.749825 -0.278949  \n",
       "4      0.431099 -1.627298 -0.007670  1.517500  0.080534 -2.013416  0.119448  \n",
       "...         ...       ...       ...       ...       ...       ...       ...  \n",
       "59995 -0.143222  0.940816  0.360897 -0.675560  0.984661  0.141271 -0.345369  \n",
       "59996 -0.539048 -0.427286  0.266345  2.570420  0.806942 -1.023016 -0.827990  \n",
       "59997  1.221051 -0.904896 -0.087336 -0.337834  0.676473 -0.332271  0.934658  \n",
       "59998 -1.074431 -0.453543 -0.988374  1.208716 -0.089848  0.837659  2.046569  \n",
       "59999  0.085914 -0.454325 -0.924692 -0.755796 -1.393001  0.035041  0.831701  \n",
       "\n",
       "[60000 rows x 25 columns]"
      ]
     },
     "execution_count": 9,
     "metadata": {},
     "output_type": "execute_result"
    }
   ],
   "source": [
    "x"
   ]
  },
  {
   "cell_type": "code",
   "execution_count": 10,
   "id": "8d3c32fe",
   "metadata": {},
   "outputs": [],
   "source": [
    "from sklearn.model_selection import train_test_split"
   ]
  },
  {
   "cell_type": "code",
   "execution_count": 11,
   "id": "0bd53a7c",
   "metadata": {},
   "outputs": [],
   "source": [
    "xtrain, xtest, ytrain, ytest = train_test_split(x, y, test_size=.25, random_state=1)"
   ]
  },
  {
   "cell_type": "code",
   "execution_count": 12,
   "id": "17c8360b",
   "metadata": {},
   "outputs": [
    {
     "data": {
      "text/plain": [
       "(45000, 25)"
      ]
     },
     "execution_count": 12,
     "metadata": {},
     "output_type": "execute_result"
    }
   ],
   "source": [
    "xtrain.shape"
   ]
  },
  {
   "cell_type": "code",
   "execution_count": 13,
   "id": "8107555b",
   "metadata": {},
   "outputs": [],
   "source": [
    "train_accuracy = []\n",
    "test_accuracy = []\n",
    "\n",
    "max_features = [n for n in range(1, 25) ]"
   ]
  },
  {
   "cell_type": "code",
   "execution_count": 14,
   "id": "c47ff1db",
   "metadata": {},
   "outputs": [
    {
     "data": {
      "text/plain": [
       "[1,\n",
       " 2,\n",
       " 3,\n",
       " 4,\n",
       " 5,\n",
       " 6,\n",
       " 7,\n",
       " 8,\n",
       " 9,\n",
       " 10,\n",
       " 11,\n",
       " 12,\n",
       " 13,\n",
       " 14,\n",
       " 15,\n",
       " 16,\n",
       " 17,\n",
       " 18,\n",
       " 19,\n",
       " 20,\n",
       " 21,\n",
       " 22,\n",
       " 23,\n",
       " 24]"
      ]
     },
     "execution_count": 14,
     "metadata": {},
     "output_type": "execute_result"
    }
   ],
   "source": [
    "max_features"
   ]
  },
  {
   "cell_type": "code",
   "execution_count": 15,
   "id": "b217274c",
   "metadata": {},
   "outputs": [],
   "source": [
    " from sklearn.tree import DecisionTreeClassifier"
   ]
  },
  {
   "cell_type": "code",
   "execution_count": 16,
   "id": "32700f11",
   "metadata": {},
   "outputs": [
    {
     "name": "stdout",
     "output_type": "stream",
     "text": [
      "Max Depth =1,  Train ACC =0.861956,   Test Acc =0.865533\n",
      "Max Depth =2,  Train ACC =0.885533,   Test Acc =0.886667\n",
      "Max Depth =3,  Train ACC =0.887089,   Test Acc =0.888067\n",
      "Max Depth =4,  Train ACC =0.889778,   Test Acc =0.891200\n",
      "Max Depth =5,  Train ACC =0.891778,   Test Acc =0.889400\n",
      "Max Depth =6,  Train ACC =0.895333,   Test Acc =0.892867\n",
      "Max Depth =7,  Train ACC =0.896956,   Test Acc =0.890667\n",
      "Max Depth =8,  Train ACC =0.900422,   Test Acc =0.892333\n",
      "Max Depth =9,  Train ACC =0.903244,   Test Acc =0.889267\n",
      "Max Depth =10,  Train ACC =0.909044,   Test Acc =0.886800\n",
      "Max Depth =11,  Train ACC =0.914822,   Test Acc =0.884800\n",
      "Max Depth =12,  Train ACC =0.920444,   Test Acc =0.882667\n",
      "Max Depth =13,  Train ACC =0.927978,   Test Acc =0.880267\n",
      "Max Depth =14,  Train ACC =0.935578,   Test Acc =0.878867\n",
      "Max Depth =15,  Train ACC =0.943000,   Test Acc =0.873200\n",
      "Max Depth =16,  Train ACC =0.949778,   Test Acc =0.870867\n",
      "Max Depth =17,  Train ACC =0.956067,   Test Acc =0.870067\n",
      "Max Depth =18,  Train ACC =0.961511,   Test Acc =0.866133\n",
      "Max Depth =19,  Train ACC =0.965978,   Test Acc =0.863067\n",
      "Max Depth =20,  Train ACC =0.970600,   Test Acc =0.859200\n",
      "Max Depth =21,  Train ACC =0.975022,   Test Acc =0.857200\n",
      "Max Depth =22,  Train ACC =0.978222,   Test Acc =0.855533\n",
      "Max Depth =23,  Train ACC =0.980889,   Test Acc =0.854467\n",
      "Max Depth =24,  Train ACC =0.983067,   Test Acc =0.855400\n"
     ]
    }
   ],
   "source": [
    "for depth in max_features:\n",
    "    clf = DecisionTreeClassifier(max_depth=depth)\n",
    "    clf.fit(xtrain, ytrain)      #training        \n",
    "    \n",
    "    #train accuracy\n",
    "    train_acc = clf.score(xtrain, ytrain)\n",
    "    train_accuracy.append(train_acc)\n",
    "    \n",
    "    \n",
    "    #test accuracy\n",
    "    test_acc = clf.score(xtest, ytest)\n",
    "    test_accuracy.append(test_acc)\n",
    "    \n",
    "    print('Max Depth =%d,  Train ACC =%f,   Test Acc =%f' %(depth, train_acc, test_acc))"
   ]
  },
  {
   "cell_type": "code",
   "execution_count": 17,
   "id": "db2842ba",
   "metadata": {},
   "outputs": [
    {
     "data": {
      "text/plain": [
       "[<matplotlib.lines.Line2D at 0x1ec82bec670>]"
      ]
     },
     "execution_count": 17,
     "metadata": {},
     "output_type": "execute_result"
    },
    {
     "data": {
      "image/png": "[encoded data removed]",
      "text/plain": [
       "<Figure size 640x480 with 1 Axes>"
      ]
     },
     "metadata": {},
     "output_type": "display_data"
    }
   ],
   "source": [
    "from matplotlib import pyplot as plt\n",
    "plt.plot(max_features, train_accuracy)\n",
    "plt.plot(max_features, test_accuracy)"
   ]
  },
  {
   "cell_type": "code",
   "execution_count": 18,
   "id": "d7707a53",
   "metadata": {},
   "outputs": [
    {
     "data": {
      "text/plain": [
       "<matplotlib.legend.Legend at 0x1ec82e19730>"
      ]
     },
     "execution_count": 18,
     "metadata": {},
     "output_type": "execute_result"
    },
    {
     "data": {
      "image/png": "[encoded data removed]",
      "text/plain": [
       "<Figure size 640x480 with 1 Axes>"
      ]
     },
     "metadata": {},
     "output_type": "display_data"
    }
   ],
   "source": [
    "from matplotlib import pyplot as plt\n",
    "plt.plot(max_features, train_accuracy, '-o', color='black', label='Train')\n",
    "plt.plot(max_features, test_accuracy, '-o', color='green', label='Test')\n",
    "plt.legend()"
   ]
  },
  {
   "cell_type": "code",
   "execution_count": null,
   "id": "28b79365",
   "metadata": {},
   "outputs": [],
   "source": []
  }
 ],
 "metadata": {
  "kernelspec": {
   "display_name": "Python 3 (ipykernel)",
   "language": "python",
   "name": "python3"
  },
  "language_info": {
   "codemirror_mode": {
    "name": "ipython",
    "version": 3
   },
   "file_extension": ".py",
   "mimetype": "text/x-python",
   "name": "python",
   "nbconvert_exporter": "python",
   "pygments_lexer": "ipython3",
   "version": "3.9.13"
  }
 },
 "nbformat": 4,
 "nbformat_minor": 5
}
