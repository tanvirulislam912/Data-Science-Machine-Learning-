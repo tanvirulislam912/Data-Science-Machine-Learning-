{
 "cells": [
  {
   "cell_type": "markdown",
   "id": "032a9f4c",
   "metadata": {},
   "source": [
    "# Basic Python"
   ]
  },
  {
   "cell_type": "code",
   "execution_count": 1,
   "id": "2d8fa719",
   "metadata": {},
   "outputs": [
    {
     "name": "stdout",
     "output_type": "stream",
     "text": [
      "Hellow World\n"
     ]
    }
   ],
   "source": [
    "print(\"Hellow World\") # to save ->ctrl+s , to run ->shift+enter"
   ]
  },
  {
   "cell_type": "code",
   "execution_count": 2,
   "id": "f88dff73",
   "metadata": {},
   "outputs": [
    {
     "name": "stdout",
     "output_type": "stream",
     "text": [
      "100\n"
     ]
    }
   ],
   "source": [
    "print(100)\n"
   ]
  },
  {
   "cell_type": "code",
   "execution_count": 3,
   "id": "da199d71",
   "metadata": {
    "scrolled": true
   },
   "outputs": [
    {
     "name": "stdout",
     "output_type": "stream",
     "text": [
      "Hello World\n"
     ]
    }
   ],
   "source": [
    "print('Hello World')"
   ]
  },
  {
   "cell_type": "code",
   "execution_count": 4,
   "id": "899da426",
   "metadata": {},
   "outputs": [
    {
     "data": {
      "text/plain": [
       "str"
      ]
     },
     "execution_count": 4,
     "metadata": {},
     "output_type": "execute_result"
    }
   ],
   "source": [
    "type(\"'Hello World'\")"
   ]
  },
  {
   "cell_type": "code",
   "execution_count": 5,
   "id": "9a1b5188",
   "metadata": {},
   "outputs": [
    {
     "data": {
      "text/plain": [
       "int"
      ]
     },
     "execution_count": 5,
     "metadata": {},
     "output_type": "execute_result"
    }
   ],
   "source": [
    "type(100)"
   ]
  },
  {
   "cell_type": "code",
   "execution_count": 6,
   "id": "f4d204ac",
   "metadata": {},
   "outputs": [
    {
     "name": "stdout",
     "output_type": "stream",
     "text": [
      "Hellow World || Hellow World \\ Hellow World\n"
     ]
    }
   ],
   "source": [
    "print(\"Hellow World\" , \"Hellow World\", sep=' || ', end= ' \\ ' )\n",
    "print(\"Hellow World\")"
   ]
  },
  {
   "cell_type": "code",
   "execution_count": 7,
   "id": "b2682f9c",
   "metadata": {},
   "outputs": [
    {
     "name": "stdout",
     "output_type": "stream",
     "text": [
      "Hello World\n",
      "Hello World\n"
     ]
    }
   ],
   "source": [
    "print('Hello World')\n",
    "print('Hello World')"
   ]
  },
  {
   "cell_type": "code",
   "execution_count": 8,
   "id": "2017b84b",
   "metadata": {},
   "outputs": [
    {
     "name": "stdout",
     "output_type": "stream",
     "text": [
      "107\n"
     ]
    }
   ],
   "source": [
    "x=107\n",
    "print(x)"
   ]
  },
  {
   "cell_type": "markdown",
   "id": "378ac6c8",
   "metadata": {},
   "source": [
    "# Variables in Python"
   ]
  },
  {
   "cell_type": "code",
   "execution_count": 9,
   "id": "9996b6be",
   "metadata": {},
   "outputs": [],
   "source": [
    "var = 100"
   ]
  },
  {
   "cell_type": "code",
   "execution_count": 10,
   "id": "c1a00947",
   "metadata": {},
   "outputs": [
    {
     "data": {
      "text/plain": [
       "100"
      ]
     },
     "execution_count": 10,
     "metadata": {},
     "output_type": "execute_result"
    }
   ],
   "source": [
    "var"
   ]
  },
  {
   "cell_type": "code",
   "execution_count": 11,
   "id": "03bc0093",
   "metadata": {},
   "outputs": [
    {
     "name": "stdout",
     "output_type": "stream",
     "text": [
      "100\n"
     ]
    }
   ],
   "source": [
    "print(var)"
   ]
  },
  {
   "cell_type": "code",
   "execution_count": 12,
   "id": "4d12da2d",
   "metadata": {},
   "outputs": [
    {
     "name": "stdout",
     "output_type": "stream",
     "text": [
      "1000\n"
     ]
    }
   ],
   "source": [
    "x = 1000\n",
    "print(x)"
   ]
  },
  {
   "cell_type": "code",
   "execution_count": 13,
   "id": "3020c4a2",
   "metadata": {},
   "outputs": [
    {
     "data": {
      "text/plain": [
       "1100"
      ]
     },
     "execution_count": 13,
     "metadata": {},
     "output_type": "execute_result"
    }
   ],
   "source": [
    "var+x"
   ]
  },
  {
   "cell_type": "code",
   "execution_count": 14,
   "id": "072e0a88",
   "metadata": {},
   "outputs": [
    {
     "data": {
      "text/plain": [
       "1100"
      ]
     },
     "execution_count": 14,
     "metadata": {},
     "output_type": "execute_result"
    }
   ],
   "source": [
    "var = var + x\n",
    "var"
   ]
  },
  {
   "cell_type": "code",
   "execution_count": 15,
   "id": "494d7dcc",
   "metadata": {},
   "outputs": [
    {
     "data": {
      "text/plain": [
       "2100"
      ]
     },
     "execution_count": 15,
     "metadata": {},
     "output_type": "execute_result"
    }
   ],
   "source": [
    "var = var + x\n",
    "var"
   ]
  },
  {
   "cell_type": "code",
   "execution_count": 16,
   "id": "e65644c5",
   "metadata": {},
   "outputs": [
    {
     "data": {
      "text/plain": [
       "3100"
      ]
     },
     "execution_count": 16,
     "metadata": {},
     "output_type": "execute_result"
    }
   ],
   "source": [
    "var = var + x\n",
    "var"
   ]
  },
  {
   "cell_type": "code",
   "execution_count": 17,
   "id": "ac740815",
   "metadata": {},
   "outputs": [
    {
     "data": {
      "text/plain": [
       "4100"
      ]
     },
     "execution_count": 17,
     "metadata": {},
     "output_type": "execute_result"
    }
   ],
   "source": [
    "var = var + x\n",
    "var"
   ]
  },
  {
   "cell_type": "code",
   "execution_count": 18,
   "id": "28f68752",
   "metadata": {},
   "outputs": [
    {
     "data": {
      "text/plain": [
       "5100"
      ]
     },
     "execution_count": 18,
     "metadata": {},
     "output_type": "execute_result"
    }
   ],
   "source": [
    "var = var + x\n",
    "var"
   ]
  },
  {
   "cell_type": "code",
   "execution_count": 19,
   "id": "464b6f1e",
   "metadata": {},
   "outputs": [
    {
     "data": {
      "text/plain": [
       "1880837810544"
      ]
     },
     "execution_count": 19,
     "metadata": {},
     "output_type": "execute_result"
    }
   ],
   "source": [
    "id(var) #address"
   ]
  },
  {
   "cell_type": "code",
   "execution_count": 20,
   "id": "23cd7e7d",
   "metadata": {},
   "outputs": [
    {
     "data": {
      "text/plain": [
       "1880837811056"
      ]
     },
     "execution_count": 20,
     "metadata": {},
     "output_type": "execute_result"
    }
   ],
   "source": [
    "var2 = 5100 \n",
    "id(var2)"
   ]
  },
  {
   "cell_type": "code",
   "execution_count": 21,
   "id": "7047fd6e",
   "metadata": {},
   "outputs": [],
   "source": [
    "x=100\n",
    "y = 100"
   ]
  },
  {
   "cell_type": "code",
   "execution_count": 22,
   "id": "42f8ed48",
   "metadata": {},
   "outputs": [
    {
     "data": {
      "text/plain": [
       "1880757392848"
      ]
     },
     "execution_count": 22,
     "metadata": {},
     "output_type": "execute_result"
    }
   ],
   "source": [
    "id(y)"
   ]
  },
  {
   "cell_type": "code",
   "execution_count": 23,
   "id": "121d7e4c",
   "metadata": {},
   "outputs": [
    {
     "data": {
      "text/plain": [
       "1880757392848"
      ]
     },
     "execution_count": 23,
     "metadata": {},
     "output_type": "execute_result"
    }
   ],
   "source": [
    "id(x)"
   ]
  },
  {
   "cell_type": "code",
   "execution_count": 24,
   "id": "8e66f622",
   "metadata": {},
   "outputs": [
    {
     "data": {
      "text/plain": [
       "1880757392848"
      ]
     },
     "execution_count": 24,
     "metadata": {},
     "output_type": "execute_result"
    }
   ],
   "source": [
    "id(x)"
   ]
  },
  {
   "cell_type": "code",
   "execution_count": 25,
   "id": "1252f37b",
   "metadata": {},
   "outputs": [
    {
     "data": {
      "text/plain": [
       "1880757392848"
      ]
     },
     "execution_count": 25,
     "metadata": {},
     "output_type": "execute_result"
    }
   ],
   "source": [
    "y=100\n",
    "id(y)"
   ]
  },
  {
   "cell_type": "code",
   "execution_count": 26,
   "id": "815f37e9",
   "metadata": {},
   "outputs": [],
   "source": [
    "x = 'abc'\n",
    "y = 'abc'"
   ]
  },
  {
   "cell_type": "code",
   "execution_count": 27,
   "id": "be7889db",
   "metadata": {},
   "outputs": [
    {
     "data": {
      "text/plain": [
       "1880759525616"
      ]
     },
     "execution_count": 27,
     "metadata": {},
     "output_type": "execute_result"
    }
   ],
   "source": [
    "id(x)"
   ]
  },
  {
   "cell_type": "code",
   "execution_count": 28,
   "id": "d4fe18a6",
   "metadata": {},
   "outputs": [
    {
     "data": {
      "text/plain": [
       "1880759525616"
      ]
     },
     "execution_count": 28,
     "metadata": {},
     "output_type": "execute_result"
    }
   ],
   "source": [
    "id(y)"
   ]
  },
  {
   "cell_type": "code",
   "execution_count": 29,
   "id": "b2e2f5c8",
   "metadata": {},
   "outputs": [],
   "source": [
    "x = 100\n",
    "y = 100"
   ]
  },
  {
   "cell_type": "code",
   "execution_count": 30,
   "id": "3de8241f",
   "metadata": {},
   "outputs": [
    {
     "data": {
      "text/plain": [
       "1880757392848"
      ]
     },
     "execution_count": 30,
     "metadata": {},
     "output_type": "execute_result"
    }
   ],
   "source": [
    "id(x)"
   ]
  },
  {
   "cell_type": "code",
   "execution_count": 31,
   "id": "404ff7b1",
   "metadata": {},
   "outputs": [
    {
     "data": {
      "text/plain": [
       "1880757392848"
      ]
     },
     "execution_count": 31,
     "metadata": {},
     "output_type": "execute_result"
    }
   ],
   "source": [
    "id(y)"
   ]
  },
  {
   "cell_type": "code",
   "execution_count": 32,
   "id": "ff3840b0",
   "metadata": {},
   "outputs": [
    {
     "data": {
      "text/plain": [
       "100"
      ]
     },
     "execution_count": 32,
     "metadata": {},
     "output_type": "execute_result"
    }
   ],
   "source": [
    "x"
   ]
  },
  {
   "cell_type": "code",
   "execution_count": 33,
   "id": "675d6ab0",
   "metadata": {},
   "outputs": [
    {
     "data": {
      "text/plain": [
       "100"
      ]
     },
     "execution_count": 33,
     "metadata": {},
     "output_type": "execute_result"
    }
   ],
   "source": [
    "y"
   ]
  },
  {
   "cell_type": "code",
   "execution_count": 34,
   "id": "fec26984",
   "metadata": {},
   "outputs": [
    {
     "data": {
      "text/plain": [
       "'Tanvir'"
      ]
     },
     "execution_count": 34,
     "metadata": {},
     "output_type": "execute_result"
    }
   ],
   "source": [
    "name = 'Tanvir'\n",
    "name"
   ]
  },
  {
   "cell_type": "code",
   "execution_count": 35,
   "id": "405db7d3",
   "metadata": {},
   "outputs": [
    {
     "data": {
      "text/plain": [
       "'Name'"
      ]
     },
     "execution_count": 35,
     "metadata": {},
     "output_type": "execute_result"
    }
   ],
   "source": [
    "id = 'Name'\n",
    "id"
   ]
  },
  {
   "cell_type": "code",
   "execution_count": 36,
   "id": "6112a81a",
   "metadata": {},
   "outputs": [
    {
     "data": {
      "text/plain": [
       "'name'"
      ]
     },
     "execution_count": 36,
     "metadata": {},
     "output_type": "execute_result"
    }
   ],
   "source": [
    "for_name = 'name'\n",
    "for_name"
   ]
  },
  {
   "cell_type": "code",
   "execution_count": 37,
   "id": "8584cf11",
   "metadata": {},
   "outputs": [
    {
     "data": {
      "text/plain": [
       "100"
      ]
     },
     "execution_count": 37,
     "metadata": {},
     "output_type": "execute_result"
    }
   ],
   "source": [
    "while_ = 100\n",
    "while_"
   ]
  },
  {
   "cell_type": "code",
   "execution_count": 39,
   "id": "dd861664",
   "metadata": {},
   "outputs": [
    {
     "data": {
      "text/plain": [
       "100"
      ]
     },
     "execution_count": 39,
     "metadata": {},
     "output_type": "execute_result"
    }
   ],
   "source": [
    "var = 100\n",
    "var"
   ]
  },
  {
   "cell_type": "code",
   "execution_count": 40,
   "id": "4cc9a67e",
   "metadata": {},
   "outputs": [
    {
     "data": {
      "text/plain": [
       "100"
      ]
     },
     "execution_count": 40,
     "metadata": {},
     "output_type": "execute_result"
    }
   ],
   "source": [
    "_var = 100\n",
    "_var"
   ]
  },
  {
   "cell_type": "code",
   "execution_count": 41,
   "id": "0778d08d",
   "metadata": {},
   "outputs": [
    {
     "data": {
      "text/plain": [
       "100"
      ]
     },
     "execution_count": 41,
     "metadata": {},
     "output_type": "execute_result"
    }
   ],
   "source": [
    "Var = 100\n",
    "\n",
    "Var"
   ]
  },
  {
   "cell_type": "code",
   "execution_count": 42,
   "id": "14c01989",
   "metadata": {},
   "outputs": [
    {
     "data": {
      "text/plain": [
       "'Tanvir'"
      ]
     },
     "execution_count": 42,
     "metadata": {},
     "output_type": "execute_result"
    }
   ],
   "source": [
    "My_Name = 'Tanvir'\n",
    "My_Name"
   ]
  },
  {
   "cell_type": "code",
   "execution_count": 43,
   "id": "0398837b",
   "metadata": {},
   "outputs": [
    {
     "data": {
      "text/plain": [
       "'islam'"
      ]
     },
     "execution_count": 43,
     "metadata": {},
     "output_type": "execute_result"
    }
   ],
   "source": [
    "Myname = 'islam'\n",
    "Myname"
   ]
  },
  {
   "cell_type": "code",
   "execution_count": 44,
   "id": "6f6c2441",
   "metadata": {},
   "outputs": [
    {
     "data": {
      "text/plain": [
       "'islam'"
      ]
     },
     "execution_count": 44,
     "metadata": {},
     "output_type": "execute_result"
    }
   ],
   "source": [
    "MyName = 'islam'\n",
    "MyName"
   ]
  },
  {
   "cell_type": "code",
   "execution_count": 45,
   "id": "157e5316",
   "metadata": {},
   "outputs": [
    {
     "data": {
      "text/plain": [
       "'islam'"
      ]
     },
     "execution_count": 45,
     "metadata": {},
     "output_type": "execute_result"
    }
   ],
   "source": [
    "Myname = 'islam'\n",
    "Myname"
   ]
  },
  {
   "cell_type": "code",
   "execution_count": 46,
   "id": "9922bd28",
   "metadata": {},
   "outputs": [
    {
     "data": {
      "text/plain": [
       "1000"
      ]
     },
     "execution_count": 46,
     "metadata": {},
     "output_type": "execute_result"
    }
   ],
   "source": [
    "snake_case_var = 1000\n",
    "snake_case_var"
   ]
  },
  {
   "cell_type": "code",
   "execution_count": 47,
   "id": "8ac790d9",
   "metadata": {},
   "outputs": [],
   "source": [
    "x , y, z = 100, 200, 400"
   ]
  },
  {
   "cell_type": "code",
   "execution_count": 48,
   "id": "c6b93f1b",
   "metadata": {},
   "outputs": [
    {
     "data": {
      "text/plain": [
       "100"
      ]
     },
     "execution_count": 48,
     "metadata": {},
     "output_type": "execute_result"
    }
   ],
   "source": [
    "x"
   ]
  },
  {
   "cell_type": "code",
   "execution_count": 49,
   "id": "0e3f83bf",
   "metadata": {},
   "outputs": [
    {
     "data": {
      "text/plain": [
       "200"
      ]
     },
     "execution_count": 49,
     "metadata": {},
     "output_type": "execute_result"
    }
   ],
   "source": [
    "y"
   ]
  },
  {
   "cell_type": "code",
   "execution_count": 50,
   "id": "401aea6e",
   "metadata": {},
   "outputs": [
    {
     "data": {
      "text/plain": [
       "400"
      ]
     },
     "execution_count": 50,
     "metadata": {},
     "output_type": "execute_result"
    }
   ],
   "source": [
    "z"
   ]
  },
  {
   "cell_type": "code",
   "execution_count": 51,
   "id": "e41b22c4",
   "metadata": {},
   "outputs": [
    {
     "data": {
      "text/plain": [
       "400"
      ]
     },
     "execution_count": 51,
     "metadata": {},
     "output_type": "execute_result"
    }
   ],
   "source": [
    "z"
   ]
  },
  {
   "cell_type": "code",
   "execution_count": 52,
   "id": "d78b8694",
   "metadata": {},
   "outputs": [],
   "source": [
    "x , y, z = 100, 200, 400"
   ]
  },
  {
   "cell_type": "code",
   "execution_count": null,
   "id": "f26b5a1a",
   "metadata": {},
   "outputs": [],
   "source": [
    "x , y, z = 100, 200, 400 #error"
   ]
  },
  {
   "cell_type": "markdown",
   "id": "2a88c36f",
   "metadata": {},
   "source": [
    "# Keywords can’t use as a variable.\n",
    "▪ A variable name must start with a letter or the underscore ( _ ) character.\n",
    "▪ A variable name cannot start with a number.\n",
    "▪ A variable name can only contain alpha-numeric characters and underscores (A-Z, 0-9, and _ ).\n",
    "▪ Variable names are case-sensitive (x, X, _x are three different variable)."
   ]
  },
  {
   "cell_type": "code",
   "execution_count": null,
   "id": "fe221b9f",
   "metadata": {},
   "outputs": [],
   "source": [
    "'''\n",
    "Keywords can’t use as a variable.\n",
    "▪ A variable name must start with a letter or the underscore ( _ ) character.\n",
    "▪ A variable name cannot start with a number.\n",
    "▪ A variable name can only contain alpha-numeric characters and underscores (A-Z, 0-9, and _ ).\n",
    "▪ Variable names are case-sensitive (x, X, _x are three different variable).\n",
    "'''\n",
    "\n",
    "x=100\n",
    "x"
   ]
  },
  {
   "cell_type": "markdown",
   "id": "db3f3871",
   "metadata": {},
   "source": [
    "# Global and Local Variables"
   ]
  },
  {
   "cell_type": "code",
   "execution_count": 53,
   "id": "3d70bc23",
   "metadata": {},
   "outputs": [
    {
     "name": "stdout",
     "output_type": "stream",
     "text": [
      "This is my function 1 : 100\n",
      "This is my function 2 : 100\n"
     ]
    }
   ],
   "source": [
    "x = 100                                     #Global\n",
    "def myfunction1():\n",
    "    print( 'This is my function 1 :',x)\n",
    "myfunction1()    \n",
    "print( 'This is my function 2 :',x)"
   ]
  },
  {
   "cell_type": "code",
   "execution_count": 76,
   "id": "99cf2b8f",
   "metadata": {},
   "outputs": [
    {
     "name": "stdout",
     "output_type": "stream",
     "text": [
      "This is my function 1 : 500\n",
      "This is my function 1 : 500\n"
     ]
    }
   ],
   "source": [
    "\n",
    "def myfunction1():\n",
    "    var10 = 500                                #Local\n",
    "    print( 'This is my function 1 :',var10)\n",
    "myfunction1()    \n",
    "print( 'This is my function 1 :',var10)"
   ]
  },
  {
   "cell_type": "code",
   "execution_count": 55,
   "id": "0f699730",
   "metadata": {},
   "outputs": [
    {
     "name": "stdout",
     "output_type": "stream",
     "text": [
      "This is my function 3 : 500\n",
      "This is my function 4 : 500\n",
      "This is my function 5 : 500\n"
     ]
    }
   ],
   "source": [
    "def myfunction1():\n",
    "    global var10\n",
    "    var10 = 500                                #global,   \n",
    "                                               #using global keyword\n",
    "    print( 'This is my function 3 :',var10)\n",
    "myfunction1()    \n",
    "print( 'This is my function 4 :',var10)\n",
    "print( 'This is my function 5 :',var10)"
   ]
  },
  {
   "cell_type": "code",
   "execution_count": 56,
   "id": "54c82e69",
   "metadata": {},
   "outputs": [],
   "source": [
    "data = 'I love data science'"
   ]
  },
  {
   "cell_type": "code",
   "execution_count": 57,
   "id": "9a43c37f",
   "metadata": {},
   "outputs": [
    {
     "data": {
      "text/plain": [
       "'I love data science'"
      ]
     },
     "execution_count": 57,
     "metadata": {},
     "output_type": "execute_result"
    }
   ],
   "source": [
    "data"
   ]
  },
  {
   "cell_type": "code",
   "execution_count": 58,
   "id": "cdd136b5",
   "metadata": {},
   "outputs": [
    {
     "data": {
      "text/plain": [
       "['I', 'love', 'data', 'science']"
      ]
     },
     "execution_count": 58,
     "metadata": {},
     "output_type": "execute_result"
    }
   ],
   "source": [
    "data.split()"
   ]
  },
  {
   "cell_type": "code",
   "execution_count": 59,
   "id": "04c61425",
   "metadata": {},
   "outputs": [
    {
     "data": {
      "text/plain": [
       "'I love data science'"
      ]
     },
     "execution_count": 59,
     "metadata": {},
     "output_type": "execute_result"
    }
   ],
   "source": [
    "data"
   ]
  },
  {
   "cell_type": "code",
   "execution_count": 60,
   "id": "9ede83e2",
   "metadata": {},
   "outputs": [
    {
     "data": {
      "text/plain": [
       "'I LOVE DATA SCIENCE'"
      ]
     },
     "execution_count": 60,
     "metadata": {},
     "output_type": "execute_result"
    }
   ],
   "source": [
    "data.upper()"
   ]
  },
  {
   "cell_type": "code",
   "execution_count": 61,
   "id": "9e92bde2",
   "metadata": {},
   "outputs": [
    {
     "data": {
      "text/plain": [
       "'i love data science'"
      ]
     },
     "execution_count": 61,
     "metadata": {},
     "output_type": "execute_result"
    }
   ],
   "source": [
    "data.lower()"
   ]
  },
  {
   "cell_type": "code",
   "execution_count": 74,
   "id": "514510ab",
   "metadata": {},
   "outputs": [
    {
     "data": {
      "image/jpeg": "[encoded data removed]",
      "text/plain": [
       "<IPython.core.display.Image object>"
      ]
     },
     "execution_count": 74,
     "metadata": {},
     "output_type": "execute_result"
    }
   ],
   "source": [
    "from IPython.display import Image \n",
    "Image(\"image.jpg\") "
   ]
  },
  {
   "cell_type": "markdown",
   "id": "76a46900",
   "metadata": {},
   "source": [
    "# if-else condition"
   ]
  },
  {
   "cell_type": "code",
   "execution_count": 64,
   "id": "812bc44e",
   "metadata": {},
   "outputs": [],
   "source": [
    "x = 2000\n",
    "y = 6000"
   ]
  },
  {
   "cell_type": "code",
   "execution_count": 65,
   "id": "dd5f5e2b",
   "metadata": {},
   "outputs": [
    {
     "name": "stdout",
     "output_type": "stream",
     "text": [
      "Y is greater than x\n",
      "Sorry..\n"
     ]
    }
   ],
   "source": [
    "if x>y:\n",
    "    print('x is greater than y')\n",
    "elif x==y:\n",
    "     print('x and y are equal')\n",
    "elif y>x:\n",
    "     print('Y is greater than x')\n",
    "     if y==600:\n",
    "        print('Good job')\n",
    "     else:\n",
    "        print('Sorry..')\n",
    "        \n",
    "else :\n",
    "     print('Sorry ....Wrong input')\n",
    "        "
   ]
  },
  {
   "cell_type": "markdown",
   "id": "cf45a826",
   "metadata": {},
   "source": [
    "# Loop"
   ]
  },
  {
   "cell_type": "code",
   "execution_count": 66,
   "id": "238c84c0",
   "metadata": {},
   "outputs": [
    {
     "name": "stdout",
     "output_type": "stream",
     "text": [
      "10\n",
      "20\n",
      "30\n",
      "40\n"
     ]
    }
   ],
   "source": [
    "x = 10, 20, 30, 40       # Normal for loop\n",
    "for y in x:\n",
    "   print(y)"
   ]
  },
  {
   "cell_type": "code",
   "execution_count": 67,
   "id": "f72d1a99",
   "metadata": {},
   "outputs": [
    {
     "name": "stdout",
     "output_type": "stream",
     "text": [
      "abc 0\n",
      "def 1\n",
      "ghi 2\n"
     ]
    }
   ],
   "source": [
    "x = 'abc', 'def', 'ghi'     # index find korar jonno\n",
    "for y in range(len(x)):   \n",
    "    print(x[y],y)"
   ]
  },
  {
   "cell_type": "code",
   "execution_count": 68,
   "id": "58208950",
   "metadata": {},
   "outputs": [
    {
     "name": "stdout",
     "output_type": "stream",
     "text": [
      "0\n",
      "1\n",
      "2\n",
      "3\n",
      "4\n",
      "5\n",
      "6\n",
      "7\n",
      "8\n",
      "9\n"
     ]
    }
   ],
   "source": [
    "for z in range (10):     #to find 0 to 99+\n",
    "    print(z)              # shift + tab"
   ]
  },
  {
   "cell_type": "code",
   "execution_count": 69,
   "id": "bfe88053",
   "metadata": {},
   "outputs": [
    {
     "name": "stdout",
     "output_type": "stream",
     "text": [
      "3\n",
      "5\n",
      "7\n",
      "9\n"
     ]
    }
   ],
   "source": [
    "for z in range (3, 10 , 2):    # 2 is 3+2=5, 5+2=7, 7+2=9 \n",
    "    print(z)"
   ]
  },
  {
   "cell_type": "code",
   "execution_count": 70,
   "id": "a0ebd685",
   "metadata": {},
   "outputs": [
    {
     "name": "stdout",
     "output_type": "stream",
     "text": [
      "10\n",
      "8\n",
      "6\n",
      "4\n"
     ]
    }
   ],
   "source": [
    "for z in range ( 10 , 3 , -2):  \n",
    "    print(z)"
   ]
  },
  {
   "cell_type": "code",
   "execution_count": 71,
   "id": "df9c5eb7",
   "metadata": {},
   "outputs": [
    {
     "name": "stdout",
     "output_type": "stream",
     "text": [
      "3 data science ml\n",
      "5 data science ml\n",
      "7 data science ml\n",
      "9 data science ml\n"
     ]
    }
   ],
   "source": [
    "for z in range (3, 10 , 2):    \n",
    "    print(z , 'data science', 'ml')"
   ]
  },
  {
   "cell_type": "code",
   "execution_count": 72,
   "id": "67f25c7a",
   "metadata": {},
   "outputs": [
    {
     "name": "stdout",
     "output_type": "stream",
     "text": [
      "1\n",
      "2\n",
      "3\n",
      "4\n",
      "5\n",
      "6\n",
      "7\n",
      "8\n",
      "9\n",
      "10\n"
     ]
    }
   ],
   "source": [
    "i = 1\n",
    "while(i < 11):\n",
    "     print(i)\n",
    "     i=i+1"
   ]
  },
  {
   "cell_type": "code",
   "execution_count": 75,
   "id": "3f304997",
   "metadata": {},
   "outputs": [
    {
     "name": "stdout",
     "output_type": "stream",
     "text": [
      "1 ML\n",
      "2 ML\n",
      "3 ML\n",
      "4 ML\n",
      "5 ML\n",
      "6 ML\n",
      "7 ML\n",
      "8 ML\n",
      "9 ML\n",
      "10 ML\n"
     ]
    }
   ],
   "source": [
    "i = 1\n",
    "while(i<11):\n",
    "    print(i, 'ML')\n",
    "    i=i+1"
   ]
  },
  {
   "cell_type": "code",
   "execution_count": null,
   "id": "e8b499f1",
   "metadata": {},
   "outputs": [],
   "source": []
  },
  {
   "cell_type": "code",
   "execution_count": null,
   "id": "556cdbb1",
   "metadata": {},
   "outputs": [],
   "source": []
  }
 ],
 "metadata": {
  "kernelspec": {
   "display_name": "Python 3 (ipykernel)",
   "language": "python",
   "name": "python3"
  },
  "language_info": {
   "codemirror_mode": {
    "name": "ipython",
    "version": 3
   },
   "file_extension": ".py",
   "mimetype": "text/x-python",
   "name": "python",
   "nbconvert_exporter": "python",
   "pygments_lexer": "ipython3",
   "version": "3.9.13"
  }
 },
 "nbformat": 4,
 "nbformat_minor": 5
}
