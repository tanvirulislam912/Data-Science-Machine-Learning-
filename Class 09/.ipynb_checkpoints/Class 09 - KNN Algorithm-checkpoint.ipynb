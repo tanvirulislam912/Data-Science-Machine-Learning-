{
 "cells": [
  {
   "cell_type": "markdown",
   "id": "5c2a389c",
   "metadata": {},
   "source": [
    "# Step 01:\n",
    "KNN Regressor & Linear Regression:\n",
    "1. Import data set\n",
    "2. Seperate x(Gender, Height) and y (y=Weight)\n",
    "3. Train = 70%, Test = 30%\n",
    "4. Apply Linear Regression\n",
    "5. Evaluate Model (Accuracy, MSE, MAE)\n",
    "6. Apply KNN Regressor: https://scikit-learn.org/stable/modules/generated/sklearn.neighbors.KNeighborsRegressor.html\n",
    "7. Evaluate Model (Accuracy, MSE, Prediction)"
   ]
  },
  {
   "cell_type": "code",
   "execution_count": 1,
   "id": "e5f187fd",
   "metadata": {},
   "outputs": [],
   "source": [
    "import pandas as pd\n",
    "import numpy as np\n",
    "import seaborn as sns\n",
    "import matplotlib.pyplot as plt\n",
    "import warnings\n",
    "warnings.filterwarnings('ignore')"
   ]
  },
  {
   "cell_type": "code",
   "execution_count": 2,
   "id": "6fb282cf",
   "metadata": {},
   "outputs": [],
   "source": [
    "df = pd.read_csv('weight-height (2).csv')"
   ]
  },
  {
   "cell_type": "code",
   "execution_count": 3,
   "id": "46b1b1e7",
   "metadata": {},
   "outputs": [
    {
     "data": {
      "text/html": [
       "<div>\n",
       "<style scoped>\n",
       "    .dataframe tbody tr th:only-of-type {\n",
       "        vertical-align: middle;\n",
       "    }\n",
       "\n",
       "    .dataframe tbody tr th {\n",
       "        vertical-align: top;\n",
       "    }\n",
       "\n",
       "    .dataframe thead th {\n",
       "        text-align: right;\n",
       "    }\n",
       "</style>\n",
       "<table border=\"1\" class=\"dataframe\">\n",
       "  <thead>\n",
       "    <tr style=\"text-align: right;\">\n",
       "      <th></th>\n",
       "      <th>Gender</th>\n",
       "      <th>Height</th>\n",
       "      <th>Weight</th>\n",
       "    </tr>\n",
       "  </thead>\n",
       "  <tbody>\n",
       "    <tr>\n",
       "      <th>0</th>\n",
       "      <td>Male</td>\n",
       "      <td>73.847017</td>\n",
       "      <td>241.893563</td>\n",
       "    </tr>\n",
       "    <tr>\n",
       "      <th>1</th>\n",
       "      <td>Male</td>\n",
       "      <td>68.781904</td>\n",
       "      <td>162.310473</td>\n",
       "    </tr>\n",
       "    <tr>\n",
       "      <th>2</th>\n",
       "      <td>Male</td>\n",
       "      <td>74.110105</td>\n",
       "      <td>212.740856</td>\n",
       "    </tr>\n",
       "    <tr>\n",
       "      <th>3</th>\n",
       "      <td>Male</td>\n",
       "      <td>71.730978</td>\n",
       "      <td>220.042470</td>\n",
       "    </tr>\n",
       "    <tr>\n",
       "      <th>4</th>\n",
       "      <td>Male</td>\n",
       "      <td>69.881796</td>\n",
       "      <td>206.349801</td>\n",
       "    </tr>\n",
       "  </tbody>\n",
       "</table>\n",
       "</div>"
      ],
      "text/plain": [
       "  Gender     Height      Weight\n",
       "0   Male  73.847017  241.893563\n",
       "1   Male  68.781904  162.310473\n",
       "2   Male  74.110105  212.740856\n",
       "3   Male  71.730978  220.042470\n",
       "4   Male  69.881796  206.349801"
      ]
     },
     "execution_count": 3,
     "metadata": {},
     "output_type": "execute_result"
    }
   ],
   "source": [
    "df.head()"
   ]
  },
  {
   "cell_type": "code",
   "execution_count": 4,
   "id": "df46a10b",
   "metadata": {},
   "outputs": [
    {
     "data": {
      "text/html": [
       "<div>\n",
       "<style scoped>\n",
       "    .dataframe tbody tr th:only-of-type {\n",
       "        vertical-align: middle;\n",
       "    }\n",
       "\n",
       "    .dataframe tbody tr th {\n",
       "        vertical-align: top;\n",
       "    }\n",
       "\n",
       "    .dataframe thead th {\n",
       "        text-align: right;\n",
       "    }\n",
       "</style>\n",
       "<table border=\"1\" class=\"dataframe\">\n",
       "  <thead>\n",
       "    <tr style=\"text-align: right;\">\n",
       "      <th></th>\n",
       "      <th>Gender</th>\n",
       "      <th>Height</th>\n",
       "      <th>Weight</th>\n",
       "    </tr>\n",
       "  </thead>\n",
       "  <tbody>\n",
       "    <tr>\n",
       "      <th>8550</th>\n",
       "      <td>Female</td>\n",
       "      <td>60.483946</td>\n",
       "      <td>110.565497</td>\n",
       "    </tr>\n",
       "    <tr>\n",
       "      <th>8551</th>\n",
       "      <td>Female</td>\n",
       "      <td>63.423372</td>\n",
       "      <td>129.921671</td>\n",
       "    </tr>\n",
       "    <tr>\n",
       "      <th>8552</th>\n",
       "      <td>Female</td>\n",
       "      <td>65.584057</td>\n",
       "      <td>155.942671</td>\n",
       "    </tr>\n",
       "    <tr>\n",
       "      <th>8553</th>\n",
       "      <td>Female</td>\n",
       "      <td>67.429971</td>\n",
       "      <td>151.678405</td>\n",
       "    </tr>\n",
       "    <tr>\n",
       "      <th>8554</th>\n",
       "      <td>Female</td>\n",
       "      <td>60.921791</td>\n",
       "      <td>131.253738</td>\n",
       "    </tr>\n",
       "  </tbody>\n",
       "</table>\n",
       "</div>"
      ],
      "text/plain": [
       "      Gender     Height      Weight\n",
       "8550  Female  60.483946  110.565497\n",
       "8551  Female  63.423372  129.921671\n",
       "8552  Female  65.584057  155.942671\n",
       "8553  Female  67.429971  151.678405\n",
       "8554  Female  60.921791  131.253738"
      ]
     },
     "execution_count": 4,
     "metadata": {},
     "output_type": "execute_result"
    }
   ],
   "source": [
    "df.tail()"
   ]
  },
  {
   "cell_type": "code",
   "execution_count": 5,
   "id": "c90c4c0d",
   "metadata": {},
   "outputs": [
    {
     "name": "stdout",
     "output_type": "stream",
     "text": [
      "<class 'pandas.core.frame.DataFrame'>\n",
      "RangeIndex: 8555 entries, 0 to 8554\n",
      "Data columns (total 3 columns):\n",
      " #   Column  Non-Null Count  Dtype  \n",
      "---  ------  --------------  -----  \n",
      " 0   Gender  8555 non-null   object \n",
      " 1   Height  8555 non-null   float64\n",
      " 2   Weight  8555 non-null   float64\n",
      "dtypes: float64(2), object(1)\n",
      "memory usage: 200.6+ KB\n"
     ]
    }
   ],
   "source": [
    "df.info()"
   ]
  },
  {
   "cell_type": "code",
   "execution_count": 6,
   "id": "8e18870f",
   "metadata": {},
   "outputs": [
    {
     "data": {
      "text/plain": [
       "Gender    0\n",
       "Height    0\n",
       "Weight    0\n",
       "dtype: int64"
      ]
     },
     "execution_count": 6,
     "metadata": {},
     "output_type": "execute_result"
    }
   ],
   "source": [
    "df.isnull().sum()"
   ]
  },
  {
   "cell_type": "code",
   "execution_count": 7,
   "id": "a9736c7b",
   "metadata": {},
   "outputs": [
    {
     "data": {
      "text/html": [
       "<div>\n",
       "<style scoped>\n",
       "    .dataframe tbody tr th:only-of-type {\n",
       "        vertical-align: middle;\n",
       "    }\n",
       "\n",
       "    .dataframe tbody tr th {\n",
       "        vertical-align: top;\n",
       "    }\n",
       "\n",
       "    .dataframe thead th {\n",
       "        text-align: right;\n",
       "    }\n",
       "</style>\n",
       "<table border=\"1\" class=\"dataframe\">\n",
       "  <thead>\n",
       "    <tr style=\"text-align: right;\">\n",
       "      <th></th>\n",
       "      <th>Height</th>\n",
       "      <th>Weight</th>\n",
       "    </tr>\n",
       "  </thead>\n",
       "  <tbody>\n",
       "    <tr>\n",
       "      <th>count</th>\n",
       "      <td>8555.000000</td>\n",
       "      <td>8555.000000</td>\n",
       "    </tr>\n",
       "    <tr>\n",
       "      <th>mean</th>\n",
       "      <td>66.809925</td>\n",
       "      <td>165.632735</td>\n",
       "    </tr>\n",
       "    <tr>\n",
       "      <th>std</th>\n",
       "      <td>3.851454</td>\n",
       "      <td>32.043922</td>\n",
       "    </tr>\n",
       "    <tr>\n",
       "      <th>min</th>\n",
       "      <td>54.616858</td>\n",
       "      <td>65.780000</td>\n",
       "    </tr>\n",
       "    <tr>\n",
       "      <th>25%</th>\n",
       "      <td>63.957684</td>\n",
       "      <td>139.876803</td>\n",
       "    </tr>\n",
       "    <tr>\n",
       "      <th>50%</th>\n",
       "      <td>66.985923</td>\n",
       "      <td>168.521567</td>\n",
       "    </tr>\n",
       "    <tr>\n",
       "      <th>75%</th>\n",
       "      <td>69.604427</td>\n",
       "      <td>190.666305</td>\n",
       "    </tr>\n",
       "    <tr>\n",
       "      <th>max</th>\n",
       "      <td>80.450000</td>\n",
       "      <td>269.989698</td>\n",
       "    </tr>\n",
       "  </tbody>\n",
       "</table>\n",
       "</div>"
      ],
      "text/plain": [
       "            Height       Weight\n",
       "count  8555.000000  8555.000000\n",
       "mean     66.809925   165.632735\n",
       "std       3.851454    32.043922\n",
       "min      54.616858    65.780000\n",
       "25%      63.957684   139.876803\n",
       "50%      66.985923   168.521567\n",
       "75%      69.604427   190.666305\n",
       "max      80.450000   269.989698"
      ]
     },
     "execution_count": 7,
     "metadata": {},
     "output_type": "execute_result"
    }
   ],
   "source": [
    "df.describe()"
   ]
  },
  {
   "cell_type": "code",
   "execution_count": 8,
   "id": "a3eb5732",
   "metadata": {},
   "outputs": [
    {
     "data": {
      "text/plain": [
       "(8555, 3)"
      ]
     },
     "execution_count": 8,
     "metadata": {},
     "output_type": "execute_result"
    }
   ],
   "source": [
    "df.shape"
   ]
  },
  {
   "cell_type": "code",
   "execution_count": 9,
   "id": "0ac04daa",
   "metadata": {},
   "outputs": [
    {
     "data": {
      "text/plain": [
       "<matplotlib.collections.PathCollection at 0x18fa74b5cd0>"
      ]
     },
     "execution_count": 9,
     "metadata": {},
     "output_type": "execute_result"
    },
    {
     "data": {
      "image/png": "[encoded data removed]",
      "text/plain": [
       "<Figure size 640x480 with 1 Axes>"
      ]
     },
     "metadata": {},
     "output_type": "display_data"
    }
   ],
   "source": [
    "plt.scatter(df['Height'], df['Weight'], color='red', marker= '+')"
   ]
  },
  {
   "cell_type": "code",
   "execution_count": 10,
   "id": "c58f9471",
   "metadata": {},
   "outputs": [
    {
     "data": {
      "text/plain": [
       "Text(0.5, 1.0, 'Height Weight Plot')"
      ]
     },
     "execution_count": 10,
     "metadata": {},
     "output_type": "execute_result"
    },
    {
     "data": {
      "image/png": "[encoded data removed]",
      "text/plain": [
       "<Figure size 640x480 with 1 Axes>"
      ]
     },
     "metadata": {},
     "output_type": "display_data"
    }
   ],
   "source": [
    "plt.scatter(df['Height'], df['Weight'], color='red', marker= '+')\n",
    "plt.xlabel(\"Height in cm\",color='#0000FF')\n",
    "plt.ylabel('Weight in kg', color='#0000FF')\n",
    "plt.title('Height Weight Plot', color='#0000FF')"
   ]
  },
  {
   "cell_type": "code",
   "execution_count": 11,
   "id": "35b919e9",
   "metadata": {},
   "outputs": [
    {
     "data": {
      "text/plain": [
       "Gender    0\n",
       "Height    0\n",
       "Weight    0\n",
       "dtype: int64"
      ]
     },
     "execution_count": 11,
     "metadata": {},
     "output_type": "execute_result"
    }
   ],
   "source": [
    "df.isnull().sum()"
   ]
  },
  {
   "cell_type": "code",
   "execution_count": 12,
   "id": "b3a2857c",
   "metadata": {},
   "outputs": [
    {
     "data": {
      "text/html": [
       "<div>\n",
       "<style scoped>\n",
       "    .dataframe tbody tr th:only-of-type {\n",
       "        vertical-align: middle;\n",
       "    }\n",
       "\n",
       "    .dataframe tbody tr th {\n",
       "        vertical-align: top;\n",
       "    }\n",
       "\n",
       "    .dataframe thead th {\n",
       "        text-align: right;\n",
       "    }\n",
       "</style>\n",
       "<table border=\"1\" class=\"dataframe\">\n",
       "  <thead>\n",
       "    <tr style=\"text-align: right;\">\n",
       "      <th></th>\n",
       "      <th>Height</th>\n",
       "      <th>Weight</th>\n",
       "    </tr>\n",
       "  </thead>\n",
       "  <tbody>\n",
       "    <tr>\n",
       "      <th>count</th>\n",
       "      <td>8555.000000</td>\n",
       "      <td>8555.000000</td>\n",
       "    </tr>\n",
       "    <tr>\n",
       "      <th>mean</th>\n",
       "      <td>66.809925</td>\n",
       "      <td>165.632735</td>\n",
       "    </tr>\n",
       "    <tr>\n",
       "      <th>std</th>\n",
       "      <td>3.851454</td>\n",
       "      <td>32.043922</td>\n",
       "    </tr>\n",
       "    <tr>\n",
       "      <th>min</th>\n",
       "      <td>54.616858</td>\n",
       "      <td>65.780000</td>\n",
       "    </tr>\n",
       "    <tr>\n",
       "      <th>25%</th>\n",
       "      <td>63.957684</td>\n",
       "      <td>139.876803</td>\n",
       "    </tr>\n",
       "    <tr>\n",
       "      <th>50%</th>\n",
       "      <td>66.985923</td>\n",
       "      <td>168.521567</td>\n",
       "    </tr>\n",
       "    <tr>\n",
       "      <th>75%</th>\n",
       "      <td>69.604427</td>\n",
       "      <td>190.666305</td>\n",
       "    </tr>\n",
       "    <tr>\n",
       "      <th>max</th>\n",
       "      <td>80.450000</td>\n",
       "      <td>269.989698</td>\n",
       "    </tr>\n",
       "  </tbody>\n",
       "</table>\n",
       "</div>"
      ],
      "text/plain": [
       "            Height       Weight\n",
       "count  8555.000000  8555.000000\n",
       "mean     66.809925   165.632735\n",
       "std       3.851454    32.043922\n",
       "min      54.616858    65.780000\n",
       "25%      63.957684   139.876803\n",
       "50%      66.985923   168.521567\n",
       "75%      69.604427   190.666305\n",
       "max      80.450000   269.989698"
      ]
     },
     "execution_count": 12,
     "metadata": {},
     "output_type": "execute_result"
    }
   ],
   "source": [
    "df.describe()"
   ]
  },
  {
   "cell_type": "code",
   "execution_count": 13,
   "id": "176f4928",
   "metadata": {},
   "outputs": [],
   "source": [
    "df1=df.copy()\n",
    "df2=df.copy()\n",
    "df3=df.copy()\n",
    "df4=df.copy()\n",
    "df5=df.copy()\n",
    "df6=df.copy()\n",
    "df7=df.copy()\n",
    "df8=df.copy()\n",
    "df9=df.copy()\n",
    "df10=df.copy()\n",
    "df11=df.copy()"
   ]
  },
  {
   "cell_type": "code",
   "execution_count": 14,
   "id": "af8c0e55",
   "metadata": {},
   "outputs": [
    {
     "data": {
      "text/plain": [
       "<AxesSubplot:xlabel='Gender', ylabel='count'>"
      ]
     },
     "execution_count": 14,
     "metadata": {},
     "output_type": "execute_result"
    },
    {
     "data": {
      "image/png": "[encoded data removed]",
      "text/plain": [
       "<Figure size 640x480 with 1 Axes>"
      ]
     },
     "metadata": {},
     "output_type": "display_data"
    }
   ],
   "source": [
    "sns.countplot(df['Gender'],data=df)"
   ]
  },
  {
   "cell_type": "code",
   "execution_count": 15,
   "id": "71775689",
   "metadata": {},
   "outputs": [
    {
     "data": {
      "text/plain": [
       "<AxesSubplot:>"
      ]
     },
     "execution_count": 15,
     "metadata": {},
     "output_type": "execute_result"
    },
    {
     "data": {
      "image/png": "[encoded data removed]",
      "text/plain": [
       "<Figure size 640x480 with 1 Axes>"
      ]
     },
     "metadata": {},
     "output_type": "display_data"
    }
   ],
   "source": [
    "df.plot()\n"
   ]
  },
  {
   "cell_type": "code",
   "execution_count": 16,
   "id": "af81bc86",
   "metadata": {},
   "outputs": [
    {
     "data": {
      "text/plain": [
       "Text(0.5, 1.0, 'Height vs Gender')"
      ]
     },
     "execution_count": 16,
     "metadata": {},
     "output_type": "execute_result"
    },
    {
     "data": {
      "image/png": "[encoded data removed]",
      "text/plain": [
       "<Figure size 640x480 with 1 Axes>"
      ]
     },
     "metadata": {},
     "output_type": "display_data"
    }
   ],
   "source": [
    "plt.scatter(df.Height,df['Gender'],color='red',marker='+')\n",
    "plt.xlabel('Height',color='green')\n",
    "plt.ylabel('Gender',color='green')\n",
    "plt.title('Height vs Gender',color='red')"
   ]
  },
  {
   "cell_type": "code",
   "execution_count": 17,
   "id": "b1febb3c",
   "metadata": {},
   "outputs": [
    {
     "data": {
      "text/html": [
       "<div>\n",
       "<style scoped>\n",
       "    .dataframe tbody tr th:only-of-type {\n",
       "        vertical-align: middle;\n",
       "    }\n",
       "\n",
       "    .dataframe tbody tr th {\n",
       "        vertical-align: top;\n",
       "    }\n",
       "\n",
       "    .dataframe thead th {\n",
       "        text-align: right;\n",
       "    }\n",
       "</style>\n",
       "<table border=\"1\" class=\"dataframe\">\n",
       "  <thead>\n",
       "    <tr style=\"text-align: right;\">\n",
       "      <th></th>\n",
       "      <th>Gender</th>\n",
       "      <th>Height</th>\n",
       "      <th>Weight</th>\n",
       "    </tr>\n",
       "  </thead>\n",
       "  <tbody>\n",
       "    <tr>\n",
       "      <th>0</th>\n",
       "      <td>Male</td>\n",
       "      <td>73.847017</td>\n",
       "      <td>241.893563</td>\n",
       "    </tr>\n",
       "    <tr>\n",
       "      <th>1</th>\n",
       "      <td>Male</td>\n",
       "      <td>68.781904</td>\n",
       "      <td>162.310473</td>\n",
       "    </tr>\n",
       "    <tr>\n",
       "      <th>2</th>\n",
       "      <td>Male</td>\n",
       "      <td>74.110105</td>\n",
       "      <td>212.740856</td>\n",
       "    </tr>\n",
       "    <tr>\n",
       "      <th>3</th>\n",
       "      <td>Male</td>\n",
       "      <td>71.730978</td>\n",
       "      <td>220.042470</td>\n",
       "    </tr>\n",
       "    <tr>\n",
       "      <th>4</th>\n",
       "      <td>Male</td>\n",
       "      <td>69.881796</td>\n",
       "      <td>206.349801</td>\n",
       "    </tr>\n",
       "  </tbody>\n",
       "</table>\n",
       "</div>"
      ],
      "text/plain": [
       "  Gender     Height      Weight\n",
       "0   Male  73.847017  241.893563\n",
       "1   Male  68.781904  162.310473\n",
       "2   Male  74.110105  212.740856\n",
       "3   Male  71.730978  220.042470\n",
       "4   Male  69.881796  206.349801"
      ]
     },
     "execution_count": 17,
     "metadata": {},
     "output_type": "execute_result"
    }
   ],
   "source": [
    "df.head()"
   ]
  },
  {
   "cell_type": "code",
   "execution_count": 18,
   "id": "7d918462",
   "metadata": {},
   "outputs": [],
   "source": [
    "x = df[['Height']]"
   ]
  },
  {
   "cell_type": "code",
   "execution_count": 19,
   "id": "ec5553e6",
   "metadata": {},
   "outputs": [],
   "source": [
    "y = df[['Weight']]"
   ]
  },
  {
   "cell_type": "code",
   "execution_count": 20,
   "id": "4b03e6c1",
   "metadata": {},
   "outputs": [
    {
     "data": {
      "text/html": [
       "<div>\n",
       "<style scoped>\n",
       "    .dataframe tbody tr th:only-of-type {\n",
       "        vertical-align: middle;\n",
       "    }\n",
       "\n",
       "    .dataframe tbody tr th {\n",
       "        vertical-align: top;\n",
       "    }\n",
       "\n",
       "    .dataframe thead th {\n",
       "        text-align: right;\n",
       "    }\n",
       "</style>\n",
       "<table border=\"1\" class=\"dataframe\">\n",
       "  <thead>\n",
       "    <tr style=\"text-align: right;\">\n",
       "      <th></th>\n",
       "      <th>Height</th>\n",
       "    </tr>\n",
       "  </thead>\n",
       "  <tbody>\n",
       "    <tr>\n",
       "      <th>0</th>\n",
       "      <td>73.847017</td>\n",
       "    </tr>\n",
       "    <tr>\n",
       "      <th>1</th>\n",
       "      <td>68.781904</td>\n",
       "    </tr>\n",
       "    <tr>\n",
       "      <th>2</th>\n",
       "      <td>74.110105</td>\n",
       "    </tr>\n",
       "    <tr>\n",
       "      <th>3</th>\n",
       "      <td>71.730978</td>\n",
       "    </tr>\n",
       "    <tr>\n",
       "      <th>4</th>\n",
       "      <td>69.881796</td>\n",
       "    </tr>\n",
       "  </tbody>\n",
       "</table>\n",
       "</div>"
      ],
      "text/plain": [
       "      Height\n",
       "0  73.847017\n",
       "1  68.781904\n",
       "2  74.110105\n",
       "3  71.730978\n",
       "4  69.881796"
      ]
     },
     "execution_count": 20,
     "metadata": {},
     "output_type": "execute_result"
    }
   ],
   "source": [
    "x.head()"
   ]
  },
  {
   "cell_type": "code",
   "execution_count": 21,
   "id": "ecc75a22",
   "metadata": {},
   "outputs": [
    {
     "data": {
      "text/html": [
       "<div>\n",
       "<style scoped>\n",
       "    .dataframe tbody tr th:only-of-type {\n",
       "        vertical-align: middle;\n",
       "    }\n",
       "\n",
       "    .dataframe tbody tr th {\n",
       "        vertical-align: top;\n",
       "    }\n",
       "\n",
       "    .dataframe thead th {\n",
       "        text-align: right;\n",
       "    }\n",
       "</style>\n",
       "<table border=\"1\" class=\"dataframe\">\n",
       "  <thead>\n",
       "    <tr style=\"text-align: right;\">\n",
       "      <th></th>\n",
       "      <th>Weight</th>\n",
       "    </tr>\n",
       "  </thead>\n",
       "  <tbody>\n",
       "    <tr>\n",
       "      <th>0</th>\n",
       "      <td>241.893563</td>\n",
       "    </tr>\n",
       "    <tr>\n",
       "      <th>1</th>\n",
       "      <td>162.310473</td>\n",
       "    </tr>\n",
       "    <tr>\n",
       "      <th>2</th>\n",
       "      <td>212.740856</td>\n",
       "    </tr>\n",
       "    <tr>\n",
       "      <th>3</th>\n",
       "      <td>220.042470</td>\n",
       "    </tr>\n",
       "    <tr>\n",
       "      <th>4</th>\n",
       "      <td>206.349801</td>\n",
       "    </tr>\n",
       "  </tbody>\n",
       "</table>\n",
       "</div>"
      ],
      "text/plain": [
       "       Weight\n",
       "0  241.893563\n",
       "1  162.310473\n",
       "2  212.740856\n",
       "3  220.042470\n",
       "4  206.349801"
      ]
     },
     "execution_count": 21,
     "metadata": {},
     "output_type": "execute_result"
    }
   ],
   "source": [
    "y.head()"
   ]
  },
  {
   "cell_type": "code",
   "execution_count": 22,
   "id": "2670c454",
   "metadata": {},
   "outputs": [
    {
     "data": {
      "text/html": [
       "<div>\n",
       "<style scoped>\n",
       "    .dataframe tbody tr th:only-of-type {\n",
       "        vertical-align: middle;\n",
       "    }\n",
       "\n",
       "    .dataframe tbody tr th {\n",
       "        vertical-align: top;\n",
       "    }\n",
       "\n",
       "    .dataframe thead th {\n",
       "        text-align: right;\n",
       "    }\n",
       "</style>\n",
       "<table border=\"1\" class=\"dataframe\">\n",
       "  <thead>\n",
       "    <tr style=\"text-align: right;\">\n",
       "      <th></th>\n",
       "      <th>Gender</th>\n",
       "      <th>Height</th>\n",
       "      <th>Weight</th>\n",
       "    </tr>\n",
       "  </thead>\n",
       "  <tbody>\n",
       "    <tr>\n",
       "      <th>0</th>\n",
       "      <td>Male</td>\n",
       "      <td>73.847017</td>\n",
       "      <td>241.893563</td>\n",
       "    </tr>\n",
       "    <tr>\n",
       "      <th>1</th>\n",
       "      <td>Male</td>\n",
       "      <td>68.781904</td>\n",
       "      <td>162.310473</td>\n",
       "    </tr>\n",
       "    <tr>\n",
       "      <th>2</th>\n",
       "      <td>Male</td>\n",
       "      <td>74.110105</td>\n",
       "      <td>212.740856</td>\n",
       "    </tr>\n",
       "    <tr>\n",
       "      <th>3</th>\n",
       "      <td>Male</td>\n",
       "      <td>71.730978</td>\n",
       "      <td>220.042470</td>\n",
       "    </tr>\n",
       "    <tr>\n",
       "      <th>4</th>\n",
       "      <td>Male</td>\n",
       "      <td>69.881796</td>\n",
       "      <td>206.349801</td>\n",
       "    </tr>\n",
       "  </tbody>\n",
       "</table>\n",
       "</div>"
      ],
      "text/plain": [
       "  Gender     Height      Weight\n",
       "0   Male  73.847017  241.893563\n",
       "1   Male  68.781904  162.310473\n",
       "2   Male  74.110105  212.740856\n",
       "3   Male  71.730978  220.042470\n",
       "4   Male  69.881796  206.349801"
      ]
     },
     "execution_count": 22,
     "metadata": {},
     "output_type": "execute_result"
    }
   ],
   "source": [
    "df.head()"
   ]
  },
  {
   "cell_type": "code",
   "execution_count": 23,
   "id": "a8b04c5a",
   "metadata": {},
   "outputs": [
    {
     "data": {
      "text/plain": [
       "(8555, 3)"
      ]
     },
     "execution_count": 23,
     "metadata": {},
     "output_type": "execute_result"
    }
   ],
   "source": [
    "df.shape"
   ]
  },
  {
   "cell_type": "markdown",
   "id": "38d110aa",
   "metadata": {},
   "source": [
    "# Label Encoding"
   ]
  },
  {
   "cell_type": "code",
   "execution_count": 24,
   "id": "4c65ea0a",
   "metadata": {},
   "outputs": [],
   "source": [
    "from pandas.core.dtypes.common import is_numeric_dtype"
   ]
  },
  {
   "cell_type": "code",
   "execution_count": 25,
   "id": "c81f285b",
   "metadata": {},
   "outputs": [],
   "source": [
    "from sklearn.preprocessing import LabelEncoder\n",
    "lben = LabelEncoder()\n",
    "df1['Gender'] = lben.fit_transform(df1['Gender'])"
   ]
  },
  {
   "cell_type": "code",
   "execution_count": 26,
   "id": "50d1256f",
   "metadata": {},
   "outputs": [
    {
     "data": {
      "text/html": [
       "<div>\n",
       "<style scoped>\n",
       "    .dataframe tbody tr th:only-of-type {\n",
       "        vertical-align: middle;\n",
       "    }\n",
       "\n",
       "    .dataframe tbody tr th {\n",
       "        vertical-align: top;\n",
       "    }\n",
       "\n",
       "    .dataframe thead th {\n",
       "        text-align: right;\n",
       "    }\n",
       "</style>\n",
       "<table border=\"1\" class=\"dataframe\">\n",
       "  <thead>\n",
       "    <tr style=\"text-align: right;\">\n",
       "      <th></th>\n",
       "      <th>Gender</th>\n",
       "      <th>Height</th>\n",
       "      <th>Weight</th>\n",
       "    </tr>\n",
       "  </thead>\n",
       "  <tbody>\n",
       "    <tr>\n",
       "      <th>0</th>\n",
       "      <td>1</td>\n",
       "      <td>73.847017</td>\n",
       "      <td>241.893563</td>\n",
       "    </tr>\n",
       "    <tr>\n",
       "      <th>1</th>\n",
       "      <td>1</td>\n",
       "      <td>68.781904</td>\n",
       "      <td>162.310473</td>\n",
       "    </tr>\n",
       "    <tr>\n",
       "      <th>2</th>\n",
       "      <td>1</td>\n",
       "      <td>74.110105</td>\n",
       "      <td>212.740856</td>\n",
       "    </tr>\n",
       "    <tr>\n",
       "      <th>3</th>\n",
       "      <td>1</td>\n",
       "      <td>71.730978</td>\n",
       "      <td>220.042470</td>\n",
       "    </tr>\n",
       "    <tr>\n",
       "      <th>4</th>\n",
       "      <td>1</td>\n",
       "      <td>69.881796</td>\n",
       "      <td>206.349801</td>\n",
       "    </tr>\n",
       "  </tbody>\n",
       "</table>\n",
       "</div>"
      ],
      "text/plain": [
       "   Gender     Height      Weight\n",
       "0       1  73.847017  241.893563\n",
       "1       1  68.781904  162.310473\n",
       "2       1  74.110105  212.740856\n",
       "3       1  71.730978  220.042470\n",
       "4       1  69.881796  206.349801"
      ]
     },
     "execution_count": 26,
     "metadata": {},
     "output_type": "execute_result"
    }
   ],
   "source": [
    "df1.head()"
   ]
  },
  {
   "cell_type": "code",
   "execution_count": 27,
   "id": "e4b60e29",
   "metadata": {},
   "outputs": [
    {
     "data": {
      "text/plain": [
       "(8555, 3)"
      ]
     },
     "execution_count": 27,
     "metadata": {},
     "output_type": "execute_result"
    }
   ],
   "source": [
    "df1.shape"
   ]
  },
  {
   "cell_type": "code",
   "execution_count": 28,
   "id": "a790c8ef",
   "metadata": {},
   "outputs": [
    {
     "data": {
      "text/plain": [
       "<AxesSubplot:xlabel='Gender', ylabel='count'>"
      ]
     },
     "execution_count": 28,
     "metadata": {},
     "output_type": "execute_result"
    },
    {
     "data": {
      "image/png": "[encoded data removed]",
      "text/plain": [
       "<Figure size 640x480 with 1 Axes>"
      ]
     },
     "metadata": {},
     "output_type": "display_data"
    }
   ],
   "source": [
    "sns.countplot(df1['Gender'], data = df1)"
   ]
  },
  {
   "cell_type": "code",
   "execution_count": 29,
   "id": "810370e2",
   "metadata": {},
   "outputs": [
    {
     "data": {
      "text/plain": [
       "Text(0.5, 1.0, 'Ploting Height & Gender')"
      ]
     },
     "execution_count": 29,
     "metadata": {},
     "output_type": "execute_result"
    },
    {
     "data": {
      "image/png": "[encoded data removed]",
      "text/plain": [
       "<Figure size 640x480 with 1 Axes>"
      ]
     },
     "metadata": {},
     "output_type": "display_data"
    }
   ],
   "source": [
    "plt.scatter(df1.Height,df1['Gender'],color='red',marker='+')\n",
    "plt.xlabel('Height',color='green')\n",
    "plt.ylabel('Gender',color='green')\n",
    "plt.title('Ploting Height & Gender',color='red')"
   ]
  },
  {
   "cell_type": "code",
   "execution_count": 30,
   "id": "f74b7896",
   "metadata": {},
   "outputs": [
    {
     "data": {
      "text/html": [
       "<div>\n",
       "<style scoped>\n",
       "    .dataframe tbody tr th:only-of-type {\n",
       "        vertical-align: middle;\n",
       "    }\n",
       "\n",
       "    .dataframe tbody tr th {\n",
       "        vertical-align: top;\n",
       "    }\n",
       "\n",
       "    .dataframe thead th {\n",
       "        text-align: right;\n",
       "    }\n",
       "</style>\n",
       "<table border=\"1\" class=\"dataframe\">\n",
       "  <thead>\n",
       "    <tr style=\"text-align: right;\">\n",
       "      <th></th>\n",
       "      <th>Gender</th>\n",
       "      <th>Height</th>\n",
       "      <th>Weight</th>\n",
       "    </tr>\n",
       "  </thead>\n",
       "  <tbody>\n",
       "    <tr>\n",
       "      <th>0</th>\n",
       "      <td>1</td>\n",
       "      <td>1.827233</td>\n",
       "      <td>241.893563</td>\n",
       "    </tr>\n",
       "    <tr>\n",
       "      <th>1</th>\n",
       "      <td>1</td>\n",
       "      <td>0.512039</td>\n",
       "      <td>162.310473</td>\n",
       "    </tr>\n",
       "    <tr>\n",
       "      <th>2</th>\n",
       "      <td>1</td>\n",
       "      <td>1.895545</td>\n",
       "      <td>212.740856</td>\n",
       "    </tr>\n",
       "    <tr>\n",
       "      <th>3</th>\n",
       "      <td>1</td>\n",
       "      <td>1.277788</td>\n",
       "      <td>220.042470</td>\n",
       "    </tr>\n",
       "    <tr>\n",
       "      <th>4</th>\n",
       "      <td>1</td>\n",
       "      <td>0.797634</td>\n",
       "      <td>206.349801</td>\n",
       "    </tr>\n",
       "  </tbody>\n",
       "</table>\n",
       "</div>"
      ],
      "text/plain": [
       "   Gender    Height      Weight\n",
       "0       1  1.827233  241.893563\n",
       "1       1  0.512039  162.310473\n",
       "2       1  1.895545  212.740856\n",
       "3       1  1.277788  220.042470\n",
       "4       1  0.797634  206.349801"
      ]
     },
     "execution_count": 30,
     "metadata": {},
     "output_type": "execute_result"
    }
   ],
   "source": [
    "from sklearn.preprocessing import StandardScaler\n",
    "std = StandardScaler()\n",
    "col = ['Height']\n",
    "df1[col] = std.fit_transform(df1[col])\n",
    "df1.head()"
   ]
  },
  {
   "cell_type": "code",
   "execution_count": 31,
   "id": "2075ec4f",
   "metadata": {},
   "outputs": [
    {
     "data": {
      "text/html": [
       "<div>\n",
       "<style scoped>\n",
       "    .dataframe tbody tr th:only-of-type {\n",
       "        vertical-align: middle;\n",
       "    }\n",
       "\n",
       "    .dataframe tbody tr th {\n",
       "        vertical-align: top;\n",
       "    }\n",
       "\n",
       "    .dataframe thead th {\n",
       "        text-align: right;\n",
       "    }\n",
       "</style>\n",
       "<table border=\"1\" class=\"dataframe\">\n",
       "  <thead>\n",
       "    <tr style=\"text-align: right;\">\n",
       "      <th></th>\n",
       "      <th>Gender</th>\n",
       "      <th>Height</th>\n",
       "      <th>Weight</th>\n",
       "    </tr>\n",
       "  </thead>\n",
       "  <tbody>\n",
       "    <tr>\n",
       "      <th>0</th>\n",
       "      <td>1</td>\n",
       "      <td>1.827233</td>\n",
       "      <td>2.380023</td>\n",
       "    </tr>\n",
       "    <tr>\n",
       "      <th>1</th>\n",
       "      <td>1</td>\n",
       "      <td>0.512039</td>\n",
       "      <td>-0.103684</td>\n",
       "    </tr>\n",
       "    <tr>\n",
       "      <th>2</th>\n",
       "      <td>1</td>\n",
       "      <td>1.895545</td>\n",
       "      <td>1.470197</td>\n",
       "    </tr>\n",
       "    <tr>\n",
       "      <th>3</th>\n",
       "      <td>1</td>\n",
       "      <td>1.277788</td>\n",
       "      <td>1.698073</td>\n",
       "    </tr>\n",
       "    <tr>\n",
       "      <th>4</th>\n",
       "      <td>1</td>\n",
       "      <td>0.797634</td>\n",
       "      <td>1.270738</td>\n",
       "    </tr>\n",
       "  </tbody>\n",
       "</table>\n",
       "</div>"
      ],
      "text/plain": [
       "   Gender    Height    Weight\n",
       "0       1  1.827233  2.380023\n",
       "1       1  0.512039 -0.103684\n",
       "2       1  1.895545  1.470197\n",
       "3       1  1.277788  1.698073\n",
       "4       1  0.797634  1.270738"
      ]
     },
     "execution_count": 31,
     "metadata": {},
     "output_type": "execute_result"
    }
   ],
   "source": [
    "from sklearn.preprocessing import StandardScaler\n",
    "std = StandardScaler()\n",
    "col = ['Weight']\n",
    "df1[col] = std.fit_transform(df1[col])\n",
    "df1.head()"
   ]
  },
  {
   "cell_type": "markdown",
   "id": "7ce4def6",
   "metadata": {},
   "source": [
    "# Train = 70%, Test = 30%"
   ]
  },
  {
   "cell_type": "code",
   "execution_count": 32,
   "id": "e1fcc4bf",
   "metadata": {},
   "outputs": [],
   "source": [
    "from sklearn.model_selection import train_test_split "
   ]
  },
  {
   "cell_type": "code",
   "execution_count": 33,
   "id": "92890e91",
   "metadata": {},
   "outputs": [],
   "source": [
    "x = df1.drop(['Weight'], axis=1)\n",
    "y = df1['Weight']\n",
    "xtrain, xtest, ytrain, ytest = train_test_split(x,y,test_size=.30, random_state=1)  "
   ]
  },
  {
   "cell_type": "code",
   "execution_count": 34,
   "id": "8ca504df",
   "metadata": {},
   "outputs": [
    {
     "data": {
      "text/html": [
       "<div>\n",
       "<style scoped>\n",
       "    .dataframe tbody tr th:only-of-type {\n",
       "        vertical-align: middle;\n",
       "    }\n",
       "\n",
       "    .dataframe tbody tr th {\n",
       "        vertical-align: top;\n",
       "    }\n",
       "\n",
       "    .dataframe thead th {\n",
       "        text-align: right;\n",
       "    }\n",
       "</style>\n",
       "<table border=\"1\" class=\"dataframe\">\n",
       "  <thead>\n",
       "    <tr style=\"text-align: right;\">\n",
       "      <th></th>\n",
       "      <th>Gender</th>\n",
       "      <th>Height</th>\n",
       "    </tr>\n",
       "  </thead>\n",
       "  <tbody>\n",
       "    <tr>\n",
       "      <th>1277</th>\n",
       "      <td>1</td>\n",
       "      <td>1.447687</td>\n",
       "    </tr>\n",
       "    <tr>\n",
       "      <th>5361</th>\n",
       "      <td>0</td>\n",
       "      <td>-1.518938</td>\n",
       "    </tr>\n",
       "    <tr>\n",
       "      <th>5728</th>\n",
       "      <td>0</td>\n",
       "      <td>0.599644</td>\n",
       "    </tr>\n",
       "    <tr>\n",
       "      <th>4276</th>\n",
       "      <td>1</td>\n",
       "      <td>0.379392</td>\n",
       "    </tr>\n",
       "    <tr>\n",
       "      <th>3112</th>\n",
       "      <td>1</td>\n",
       "      <td>-0.472192</td>\n",
       "    </tr>\n",
       "  </tbody>\n",
       "</table>\n",
       "</div>"
      ],
      "text/plain": [
       "      Gender    Height\n",
       "1277       1  1.447687\n",
       "5361       0 -1.518938\n",
       "5728       0  0.599644\n",
       "4276       1  0.379392\n",
       "3112       1 -0.472192"
      ]
     },
     "execution_count": 34,
     "metadata": {},
     "output_type": "execute_result"
    }
   ],
   "source": [
    "xtrain.head()"
   ]
  },
  {
   "cell_type": "code",
   "execution_count": 35,
   "id": "efba4228",
   "metadata": {},
   "outputs": [
    {
     "data": {
      "text/plain": [
       "1277    0.734437\n",
       "5361   -1.271952\n",
       "5728    0.100857\n",
       "4276    0.228091\n",
       "3112   -0.657938\n",
       "Name: Weight, dtype: float64"
      ]
     },
     "execution_count": 35,
     "metadata": {},
     "output_type": "execute_result"
    }
   ],
   "source": [
    "ytrain.head()"
   ]
  },
  {
   "cell_type": "code",
   "execution_count": 36,
   "id": "6d698f5a",
   "metadata": {},
   "outputs": [
    {
     "data": {
      "text/html": [
       "<div>\n",
       "<style scoped>\n",
       "    .dataframe tbody tr th:only-of-type {\n",
       "        vertical-align: middle;\n",
       "    }\n",
       "\n",
       "    .dataframe tbody tr th {\n",
       "        vertical-align: top;\n",
       "    }\n",
       "\n",
       "    .dataframe thead th {\n",
       "        text-align: right;\n",
       "    }\n",
       "</style>\n",
       "<table border=\"1\" class=\"dataframe\">\n",
       "  <thead>\n",
       "    <tr style=\"text-align: right;\">\n",
       "      <th></th>\n",
       "      <th>Gender</th>\n",
       "      <th>Height</th>\n",
       "    </tr>\n",
       "  </thead>\n",
       "  <tbody>\n",
       "    <tr>\n",
       "      <th>7154</th>\n",
       "      <td>0</td>\n",
       "      <td>-0.452294</td>\n",
       "    </tr>\n",
       "    <tr>\n",
       "      <th>3258</th>\n",
       "      <td>1</td>\n",
       "      <td>1.042451</td>\n",
       "    </tr>\n",
       "    <tr>\n",
       "      <th>2188</th>\n",
       "      <td>1</td>\n",
       "      <td>0.481319</td>\n",
       "    </tr>\n",
       "    <tr>\n",
       "      <th>5609</th>\n",
       "      <td>0</td>\n",
       "      <td>-0.213520</td>\n",
       "    </tr>\n",
       "    <tr>\n",
       "      <th>3186</th>\n",
       "      <td>1</td>\n",
       "      <td>1.062397</td>\n",
       "    </tr>\n",
       "  </tbody>\n",
       "</table>\n",
       "</div>"
      ],
      "text/plain": [
       "      Gender    Height\n",
       "7154       0 -0.452294\n",
       "3258       1  1.042451\n",
       "2188       1  0.481319\n",
       "5609       0 -0.213520\n",
       "3186       1  1.062397"
      ]
     },
     "execution_count": 36,
     "metadata": {},
     "output_type": "execute_result"
    }
   ],
   "source": [
    "xtest.head()"
   ]
  },
  {
   "cell_type": "code",
   "execution_count": 37,
   "id": "91585bc8",
   "metadata": {},
   "outputs": [
    {
     "data": {
      "text/plain": [
       "7154   -0.150802\n",
       "3258    0.589349\n",
       "2188    0.581425\n",
       "5609    0.037806\n",
       "3186    1.087120\n",
       "Name: Weight, dtype: float64"
      ]
     },
     "execution_count": 37,
     "metadata": {},
     "output_type": "execute_result"
    }
   ],
   "source": [
    "ytest.head()"
   ]
  },
  {
   "cell_type": "code",
   "execution_count": 38,
   "id": "a4a2eeef",
   "metadata": {},
   "outputs": [
    {
     "data": {
      "text/plain": [
       "(5988, 2)"
      ]
     },
     "execution_count": 38,
     "metadata": {},
     "output_type": "execute_result"
    }
   ],
   "source": [
    "xtrain.shape"
   ]
  },
  {
   "cell_type": "code",
   "execution_count": 39,
   "id": "c69b05f0",
   "metadata": {},
   "outputs": [
    {
     "data": {
      "text/plain": [
       "(2567, 2)"
      ]
     },
     "execution_count": 39,
     "metadata": {},
     "output_type": "execute_result"
    }
   ],
   "source": [
    "xtest.shape"
   ]
  },
  {
   "cell_type": "markdown",
   "id": "17b82c44",
   "metadata": {},
   "source": [
    "# Linear Regression"
   ]
  },
  {
   "cell_type": "code",
   "execution_count": 40,
   "id": "ba87a09a",
   "metadata": {},
   "outputs": [],
   "source": [
    "from sklearn.linear_model import LinearRegression"
   ]
  },
  {
   "cell_type": "code",
   "execution_count": 41,
   "id": "ebf6eadf",
   "metadata": {},
   "outputs": [],
   "source": [
    "reg = LinearRegression() "
   ]
  },
  {
   "cell_type": "code",
   "execution_count": 42,
   "id": "68dda164",
   "metadata": {},
   "outputs": [
    {
     "data": {
      "text/plain": [
       "LinearRegression()"
      ]
     },
     "execution_count": 42,
     "metadata": {},
     "output_type": "execute_result"
    }
   ],
   "source": [
    "reg.fit(xtrain, ytrain)"
   ]
  },
  {
   "cell_type": "code",
   "execution_count": 43,
   "id": "c2e8e35a",
   "metadata": {},
   "outputs": [
    {
     "data": {
      "text/plain": [
       "array([45.63851352])"
      ]
     },
     "execution_count": 43,
     "metadata": {},
     "output_type": "execute_result"
    }
   ],
   "source": [
    "reg.predict([[75, 1]])"
   ]
  },
  {
   "cell_type": "code",
   "execution_count": 44,
   "id": "58485d36",
   "metadata": {},
   "outputs": [
    {
     "data": {
      "text/html": [
       "<div>\n",
       "<style scoped>\n",
       "    .dataframe tbody tr th:only-of-type {\n",
       "        vertical-align: middle;\n",
       "    }\n",
       "\n",
       "    .dataframe tbody tr th {\n",
       "        vertical-align: top;\n",
       "    }\n",
       "\n",
       "    .dataframe thead th {\n",
       "        text-align: right;\n",
       "    }\n",
       "</style>\n",
       "<table border=\"1\" class=\"dataframe\">\n",
       "  <thead>\n",
       "    <tr style=\"text-align: right;\">\n",
       "      <th></th>\n",
       "      <th>Gender</th>\n",
       "      <th>Height</th>\n",
       "    </tr>\n",
       "  </thead>\n",
       "  <tbody>\n",
       "    <tr>\n",
       "      <th>1277</th>\n",
       "      <td>1</td>\n",
       "      <td>1.447687</td>\n",
       "    </tr>\n",
       "    <tr>\n",
       "      <th>5361</th>\n",
       "      <td>0</td>\n",
       "      <td>-1.518938</td>\n",
       "    </tr>\n",
       "    <tr>\n",
       "      <th>5728</th>\n",
       "      <td>0</td>\n",
       "      <td>0.599644</td>\n",
       "    </tr>\n",
       "    <tr>\n",
       "      <th>4276</th>\n",
       "      <td>1</td>\n",
       "      <td>0.379392</td>\n",
       "    </tr>\n",
       "    <tr>\n",
       "      <th>3112</th>\n",
       "      <td>1</td>\n",
       "      <td>-0.472192</td>\n",
       "    </tr>\n",
       "  </tbody>\n",
       "</table>\n",
       "</div>"
      ],
      "text/plain": [
       "      Gender    Height\n",
       "1277       1  1.447687\n",
       "5361       0 -1.518938\n",
       "5728       0  0.599644\n",
       "4276       1  0.379392\n",
       "3112       1 -0.472192"
      ]
     },
     "execution_count": 44,
     "metadata": {},
     "output_type": "execute_result"
    }
   ],
   "source": [
    "xtrain.head()"
   ]
  },
  {
   "cell_type": "code",
   "execution_count": 45,
   "id": "5286d35c",
   "metadata": {},
   "outputs": [
    {
     "data": {
      "text/plain": [
       "1277    0.734437\n",
       "5361   -1.271952\n",
       "5728    0.100857\n",
       "4276    0.228091\n",
       "3112   -0.657938\n",
       "Name: Weight, dtype: float64"
      ]
     },
     "execution_count": 45,
     "metadata": {},
     "output_type": "execute_result"
    }
   ],
   "source": [
    "ytrain.head()"
   ]
  },
  {
   "cell_type": "code",
   "execution_count": 46,
   "id": "9dd8e3fd",
   "metadata": {},
   "outputs": [
    {
     "data": {
      "text/plain": [
       "7154   -0.150802\n",
       "3258    0.589349\n",
       "2188    0.581425\n",
       "5609    0.037806\n",
       "3186    1.087120\n",
       "Name: Weight, dtype: float64"
      ]
     },
     "execution_count": 46,
     "metadata": {},
     "output_type": "execute_result"
    }
   ],
   "source": [
    "ytest.head()"
   ]
  },
  {
   "cell_type": "code",
   "execution_count": 47,
   "id": "12ffefba",
   "metadata": {},
   "outputs": [
    {
     "data": {
      "text/plain": [
       "array([-0.68043716,  0.99561187,  0.59304621, ..., -0.15370062,\n",
       "        0.66149925,  1.11696722])"
      ]
     },
     "execution_count": 47,
     "metadata": {},
     "output_type": "execute_result"
    }
   ],
   "source": [
    "ypred = reg.predict(xtest)\n",
    "ypred"
   ]
  },
  {
   "cell_type": "code",
   "execution_count": 48,
   "id": "c2d161b2",
   "metadata": {},
   "outputs": [
    {
     "data": {
      "text/plain": [
       "array([-0.15080214,  0.58934908,  0.58142538, ..., -0.38063278,\n",
       "        0.14597652,  0.92877587])"
      ]
     },
     "execution_count": 48,
     "metadata": {},
     "output_type": "execute_result"
    }
   ],
   "source": [
    "np.array(ytest)"
   ]
  },
  {
   "cell_type": "markdown",
   "id": "cc4da1f8",
   "metadata": {},
   "source": [
    "# Accuracy, MSE, MAE"
   ]
  },
  {
   "cell_type": "code",
   "execution_count": 49,
   "id": "6b0aadb8",
   "metadata": {},
   "outputs": [],
   "source": [
    "from sklearn.metrics import mean_squared_error"
   ]
  },
  {
   "cell_type": "code",
   "execution_count": 50,
   "id": "cab5e92b",
   "metadata": {},
   "outputs": [
    {
     "data": {
      "text/plain": [
       "0.09708113053084727"
      ]
     },
     "execution_count": 50,
     "metadata": {},
     "output_type": "execute_result"
    }
   ],
   "source": [
    "mse = mean_squared_error(ytest, ypred) \n",
    "mse"
   ]
  },
  {
   "cell_type": "code",
   "execution_count": 51,
   "id": "7dde172a",
   "metadata": {},
   "outputs": [],
   "source": [
    "from sklearn.metrics import mean_absolute_error"
   ]
  },
  {
   "cell_type": "code",
   "execution_count": 52,
   "id": "75f912d2",
   "metadata": {},
   "outputs": [
    {
     "data": {
      "text/plain": [
       "0.24911429687296716"
      ]
     },
     "execution_count": 52,
     "metadata": {},
     "output_type": "execute_result"
    }
   ],
   "source": [
    "mae = mean_absolute_error(ytest, ypred)\n",
    "mae"
   ]
  },
  {
   "cell_type": "code",
   "execution_count": 53,
   "id": "4f45c883",
   "metadata": {},
   "outputs": [
    {
     "data": {
      "text/plain": [
       "array([0.60369401, 0.71741679])"
      ]
     },
     "execution_count": 53,
     "metadata": {},
     "output_type": "execute_result"
    }
   ],
   "source": [
    "m = reg.coef_\n",
    "m\n"
   ]
  },
  {
   "cell_type": "code",
   "execution_count": 54,
   "id": "f0e83100",
   "metadata": {},
   "outputs": [
    {
     "data": {
      "text/plain": [
       "-0.35595393820117815"
      ]
     },
     "execution_count": 54,
     "metadata": {},
     "output_type": "execute_result"
    }
   ],
   "source": [
    "c = reg.intercept_\n",
    "c"
   ]
  },
  {
   "cell_type": "code",
   "execution_count": 55,
   "id": "b18e9962",
   "metadata": {},
   "outputs": [
    {
     "data": {
      "text/plain": [
       "array([44.92109673, 53.45030504])"
      ]
     },
     "execution_count": 55,
     "metadata": {},
     "output_type": "execute_result"
    }
   ],
   "source": [
    "result = (m*75) + c\n",
    "result"
   ]
  },
  {
   "cell_type": "code",
   "execution_count": 56,
   "id": "66d826f1",
   "metadata": {},
   "outputs": [
    {
     "data": {
      "text/plain": [
       "array([45.63851352])"
      ]
     },
     "execution_count": 56,
     "metadata": {},
     "output_type": "execute_result"
    }
   ],
   "source": [
    "reg.predict([[75, 1]])"
   ]
  },
  {
   "cell_type": "code",
   "execution_count": 57,
   "id": "405e01aa",
   "metadata": {},
   "outputs": [
    {
     "data": {
      "text/plain": [
       "0.9059959607091161"
      ]
     },
     "execution_count": 57,
     "metadata": {},
     "output_type": "execute_result"
    }
   ],
   "source": [
    "reg.score(xtest, ytest)  #testing accuracy"
   ]
  },
  {
   "cell_type": "code",
   "execution_count": 58,
   "id": "84f38d28",
   "metadata": {},
   "outputs": [
    {
     "data": {
      "text/plain": [
       "0.8972135459668117"
      ]
     },
     "execution_count": 58,
     "metadata": {},
     "output_type": "execute_result"
    }
   ],
   "source": [
    "reg.score(xtrain, ytrain)  #training accuracy"
   ]
  },
  {
   "cell_type": "markdown",
   "id": "3bb27592",
   "metadata": {},
   "source": [
    "# Apply KNN Regressor"
   ]
  },
  {
   "cell_type": "markdown",
   "id": "2658c109",
   "metadata": {},
   "source": [
    "# First Logic"
   ]
  },
  {
   "cell_type": "markdown",
   "id": "fcf06145",
   "metadata": {},
   "source": [
    "Finding an appropiate n_neighbors value for kNN regressor by uniform and distance weight function:"
   ]
  },
  {
   "cell_type": "code",
   "execution_count": 59,
   "id": "604fb5be",
   "metadata": {},
   "outputs": [],
   "source": [
    "df2 = df1.copy()"
   ]
  },
  {
   "cell_type": "code",
   "execution_count": 60,
   "id": "042ca243",
   "metadata": {},
   "outputs": [],
   "source": [
    "x = df2.drop(['Weight'], axis=1)"
   ]
  },
  {
   "cell_type": "code",
   "execution_count": 61,
   "id": "46f1a516",
   "metadata": {},
   "outputs": [],
   "source": [
    "y  = df2['Weight']"
   ]
  },
  {
   "cell_type": "code",
   "execution_count": 62,
   "id": "f388dd76",
   "metadata": {},
   "outputs": [
    {
     "data": {
      "text/html": [
       "<div>\n",
       "<style scoped>\n",
       "    .dataframe tbody tr th:only-of-type {\n",
       "        vertical-align: middle;\n",
       "    }\n",
       "\n",
       "    .dataframe tbody tr th {\n",
       "        vertical-align: top;\n",
       "    }\n",
       "\n",
       "    .dataframe thead th {\n",
       "        text-align: right;\n",
       "    }\n",
       "</style>\n",
       "<table border=\"1\" class=\"dataframe\">\n",
       "  <thead>\n",
       "    <tr style=\"text-align: right;\">\n",
       "      <th></th>\n",
       "      <th>Gender</th>\n",
       "      <th>Height</th>\n",
       "    </tr>\n",
       "  </thead>\n",
       "  <tbody>\n",
       "    <tr>\n",
       "      <th>0</th>\n",
       "      <td>1</td>\n",
       "      <td>1.827233</td>\n",
       "    </tr>\n",
       "    <tr>\n",
       "      <th>1</th>\n",
       "      <td>1</td>\n",
       "      <td>0.512039</td>\n",
       "    </tr>\n",
       "    <tr>\n",
       "      <th>2</th>\n",
       "      <td>1</td>\n",
       "      <td>1.895545</td>\n",
       "    </tr>\n",
       "    <tr>\n",
       "      <th>3</th>\n",
       "      <td>1</td>\n",
       "      <td>1.277788</td>\n",
       "    </tr>\n",
       "    <tr>\n",
       "      <th>4</th>\n",
       "      <td>1</td>\n",
       "      <td>0.797634</td>\n",
       "    </tr>\n",
       "  </tbody>\n",
       "</table>\n",
       "</div>"
      ],
      "text/plain": [
       "   Gender    Height\n",
       "0       1  1.827233\n",
       "1       1  0.512039\n",
       "2       1  1.895545\n",
       "3       1  1.277788\n",
       "4       1  0.797634"
      ]
     },
     "execution_count": 62,
     "metadata": {},
     "output_type": "execute_result"
    }
   ],
   "source": [
    "x.head()"
   ]
  },
  {
   "cell_type": "code",
   "execution_count": 63,
   "id": "b296554a",
   "metadata": {},
   "outputs": [
    {
     "data": {
      "text/plain": [
       "0    2.380023\n",
       "1   -0.103684\n",
       "2    1.470197\n",
       "3    1.698073\n",
       "4    1.270738\n",
       "Name: Weight, dtype: float64"
      ]
     },
     "execution_count": 63,
     "metadata": {},
     "output_type": "execute_result"
    }
   ],
   "source": [
    "y.head()"
   ]
  },
  {
   "cell_type": "code",
   "execution_count": 64,
   "id": "971ce107",
   "metadata": {},
   "outputs": [],
   "source": [
    "from sklearn.model_selection import train_test_split"
   ]
  },
  {
   "cell_type": "code",
   "execution_count": 65,
   "id": "04d93b00",
   "metadata": {},
   "outputs": [],
   "source": [
    "xtrain, xtest, ytrain, ytest = train_test_split(x,y,test_size=.30, random_state=1)  "
   ]
  },
  {
   "cell_type": "code",
   "execution_count": 66,
   "id": "78e7e85a",
   "metadata": {},
   "outputs": [],
   "source": [
    "from sklearn.neighbors import KNeighborsRegressor\n",
    "neigh_regression = KNeighborsRegressor(n_neighbors=93)"
   ]
  },
  {
   "cell_type": "code",
   "execution_count": 67,
   "id": "d30d646e",
   "metadata": {},
   "outputs": [
    {
     "data": {
      "text/plain": [
       "KNeighborsRegressor(n_neighbors=93)"
      ]
     },
     "execution_count": 67,
     "metadata": {},
     "output_type": "execute_result"
    }
   ],
   "source": [
    "neigh_regression.fit(xtrain, ytrain)"
   ]
  },
  {
   "cell_type": "code",
   "execution_count": 68,
   "id": "ebd56e96",
   "metadata": {},
   "outputs": [
    {
     "data": {
      "text/plain": [
       "array([0.9515183])"
      ]
     },
     "execution_count": 68,
     "metadata": {},
     "output_type": "execute_result"
    }
   ],
   "source": [
    "neigh_regression.predict([[1.827233,1]])"
   ]
  },
  {
   "cell_type": "code",
   "execution_count": 69,
   "id": "d77dbc72",
   "metadata": {},
   "outputs": [
    {
     "data": {
      "text/plain": [
       "array([-0.70382129,  1.02975928,  0.60730742, ..., -0.18861069,\n",
       "        0.64132306,  1.09188101])"
      ]
     },
     "execution_count": 69,
     "metadata": {},
     "output_type": "execute_result"
    }
   ],
   "source": [
    "ypred= neigh_regression.predict(xtest)\n",
    "ypred"
   ]
  },
  {
   "cell_type": "code",
   "execution_count": 70,
   "id": "280fdb35",
   "metadata": {},
   "outputs": [
    {
     "data": {
      "text/plain": [
       "array([-0.15080214,  0.58934908,  0.58142538, ..., -0.38063278,\n",
       "        0.14597652,  0.92877587])"
      ]
     },
     "execution_count": 70,
     "metadata": {},
     "output_type": "execute_result"
    }
   ],
   "source": [
    "np.array(ytest)"
   ]
  },
  {
   "cell_type": "markdown",
   "id": "559939af",
   "metadata": {},
   "source": [
    "Evaluate kNN regression performance:\n"
   ]
  },
  {
   "cell_type": "code",
   "execution_count": 71,
   "id": "34a1367b",
   "metadata": {},
   "outputs": [],
   "source": [
    "from sklearn.metrics import mean_absolute_error, mean_squared_error"
   ]
  },
  {
   "cell_type": "code",
   "execution_count": 72,
   "id": "38881b08",
   "metadata": {},
   "outputs": [
    {
     "name": "stdout",
     "output_type": "stream",
     "text": [
      "MSE =  0.09941038510978609\n",
      "MAE = 0.25180203182614047\n",
      "Traning Accuracy:  0.8967553506734343\n",
      "Testing Accuracy:  0.903740534368696\n"
     ]
    }
   ],
   "source": [
    "print(\"MSE = \", mean_squared_error(ytest,ypred))\n",
    "print(\"MAE =\", mean_absolute_error(ytest, ypred)) \n",
    "print (\"Traning Accuracy: \", neigh_regression.score(xtrain, ytrain)) \n",
    "print (\"Testing Accuracy: \", neigh_regression.score(xtest, ytest)) "
   ]
  },
  {
   "cell_type": "markdown",
   "id": "67c79de6",
   "metadata": {},
   "source": [
    "# Second Logic"
   ]
  },
  {
   "cell_type": "markdown",
   "id": "3539002f",
   "metadata": {},
   "source": [
    "Finding an appropiate n_neighbors value for kNN regressor by uniform and distance weight function"
   ]
  },
  {
   "cell_type": "code",
   "execution_count": 73,
   "id": "7277e952",
   "metadata": {},
   "outputs": [
    {
     "data": {
      "image/png": "[encoded data removed]",
      "text/plain": [
       "<Figure size 640x480 with 1 Axes>"
      ]
     },
     "metadata": {},
     "output_type": "display_data"
    }
   ],
   "source": [
    "from sklearn.neighbors import KNeighborsRegressor\n",
    "from math import sqrt\n",
    "knu = []\n",
    "knd = []\n",
    "kr = range(1, 100)\n",
    "for i in kr:\n",
    "    knru = KNeighborsRegressor(n_neighbors=i, weights='uniform')\n",
    "    knru.fit(xtrain, ytrain)\n",
    "    pred_knru = knru.predict(xtest)\n",
    "    knu.append(sqrt(mean_squared_error(ytest, pred_knru)))\n",
    "    \n",
    "    knrd = KNeighborsRegressor(n_neighbors=i, weights='distance')\n",
    "    knrd.fit(xtrain, ytrain)\n",
    "    pred_knrd = knrd.predict(xtest)\n",
    "    knd.append(sqrt(mean_squared_error(ytest, pred_knrd)))\n",
    "\n",
    "plt.plot(kr, knu, color='blue', label='kNN uniform regressor')\n",
    "plt.plot(kr, knd, color='red', label='kNd distance regressor')\n",
    "plt.xlabel('Value for k in KNN')\n",
    "plt.ylabel('RMSE Value')\n",
    "plt.legend(loc='best')\n",
    "plt.show()\n",
    "    "
   ]
  },
  {
   "cell_type": "code",
   "execution_count": 74,
   "id": "f70ac1e4",
   "metadata": {
    "scrolled": true
   },
   "outputs": [
    {
     "name": "stdout",
     "output_type": "stream",
     "text": [
      "MSE for kNN uniform:  0.09960793688952502\n",
      "MAE for KNN uniform= 0.2522284713081378\n",
      "Traning Accuracy for kNN uniform:  0.898994928127725\n",
      "Testing Accuracy kNN uniform:  0.9035492442058908\n"
     ]
    }
   ],
   "source": [
    "# Apply optimised n_neighbors value for kNN regressor with uniform weight function:\n",
    "knu40 = KNeighborsRegressor(n_neighbors = 40, weights='uniform')\n",
    "knu40.fit(xtrain, ytrain)\n",
    "y_pred40 = knu40.predict(xtest)\n",
    "\n",
    "print(\"MSE for kNN uniform: \", mean_squared_error(ytest, y_pred40)) \n",
    "print(\"MAE for KNN uniform=\", mean_absolute_error(ytest, y_pred40)) \n",
    "print (\"Traning Accuracy for kNN uniform: \", knu40.score(xtrain, ytrain)) \n",
    "print (\"Testing Accuracy kNN uniform: \", knu40.score(xtest, ytest)) "
   ]
  },
  {
   "cell_type": "code",
   "execution_count": 75,
   "id": "b32f1b37",
   "metadata": {},
   "outputs": [
    {
     "name": "stdout",
     "output_type": "stream",
     "text": [
      "MSE for kNN distance:  0.12145322960644632\n",
      "MAE for KNN distance:  0.2753270168442036\n",
      "Traning Accuracy for kNN distance:  1.0\n",
      "Testing Accuracy kNN distance:  0.8823963616255852\n"
     ]
    }
   ],
   "source": [
    "# Apply optimised n_neighbors value for kNN regressor with distance weight function:\n",
    "knd30 = KNeighborsRegressor(n_neighbors = 30, weights='distance')\n",
    "knd30.fit(xtrain, ytrain)\n",
    "y_pred30 = knd30.predict(xtest)\n",
    "\n",
    "print(\"MSE for kNN distance: \", mean_squared_error(ytest, y_pred30)) \n",
    "print(\"MAE for KNN distance: \", mean_absolute_error(ytest, y_pred30)) \n",
    "print (\"Traning Accuracy for kNN distance: \", knd30.score(xtrain, ytrain)) \n",
    "print (\"Testing Accuracy kNN distance: \", knd30.score(xtest, ytest)) "
   ]
  },
  {
   "cell_type": "markdown",
   "id": "2051daeb",
   "metadata": {},
   "source": [
    "# Split dataset for kNN Classification\n",
    "    "
   ]
  },
  {
   "cell_type": "code",
   "execution_count": 76,
   "id": "552ebbe8",
   "metadata": {},
   "outputs": [
    {
     "data": {
      "text/html": [
       "<div>\n",
       "<style scoped>\n",
       "    .dataframe tbody tr th:only-of-type {\n",
       "        vertical-align: middle;\n",
       "    }\n",
       "\n",
       "    .dataframe tbody tr th {\n",
       "        vertical-align: top;\n",
       "    }\n",
       "\n",
       "    .dataframe thead th {\n",
       "        text-align: right;\n",
       "    }\n",
       "</style>\n",
       "<table border=\"1\" class=\"dataframe\">\n",
       "  <thead>\n",
       "    <tr style=\"text-align: right;\">\n",
       "      <th></th>\n",
       "      <th>Gender</th>\n",
       "      <th>Height</th>\n",
       "      <th>Weight</th>\n",
       "    </tr>\n",
       "  </thead>\n",
       "  <tbody>\n",
       "    <tr>\n",
       "      <th>0</th>\n",
       "      <td>1</td>\n",
       "      <td>1.827233</td>\n",
       "      <td>2.380023</td>\n",
       "    </tr>\n",
       "    <tr>\n",
       "      <th>1</th>\n",
       "      <td>1</td>\n",
       "      <td>0.512039</td>\n",
       "      <td>-0.103684</td>\n",
       "    </tr>\n",
       "    <tr>\n",
       "      <th>2</th>\n",
       "      <td>1</td>\n",
       "      <td>1.895545</td>\n",
       "      <td>1.470197</td>\n",
       "    </tr>\n",
       "    <tr>\n",
       "      <th>3</th>\n",
       "      <td>1</td>\n",
       "      <td>1.277788</td>\n",
       "      <td>1.698073</td>\n",
       "    </tr>\n",
       "    <tr>\n",
       "      <th>4</th>\n",
       "      <td>1</td>\n",
       "      <td>0.797634</td>\n",
       "      <td>1.270738</td>\n",
       "    </tr>\n",
       "  </tbody>\n",
       "</table>\n",
       "</div>"
      ],
      "text/plain": [
       "   Gender    Height    Weight\n",
       "0       1  1.827233  2.380023\n",
       "1       1  0.512039 -0.103684\n",
       "2       1  1.895545  1.470197\n",
       "3       1  1.277788  1.698073\n",
       "4       1  0.797634  1.270738"
      ]
     },
     "execution_count": 76,
     "metadata": {},
     "output_type": "execute_result"
    }
   ],
   "source": [
    "df2.head()"
   ]
  },
  {
   "cell_type": "code",
   "execution_count": 77,
   "id": "44d50a1e",
   "metadata": {},
   "outputs": [
    {
     "data": {
      "text/html": [
       "<div>\n",
       "<style scoped>\n",
       "    .dataframe tbody tr th:only-of-type {\n",
       "        vertical-align: middle;\n",
       "    }\n",
       "\n",
       "    .dataframe tbody tr th {\n",
       "        vertical-align: top;\n",
       "    }\n",
       "\n",
       "    .dataframe thead th {\n",
       "        text-align: right;\n",
       "    }\n",
       "</style>\n",
       "<table border=\"1\" class=\"dataframe\">\n",
       "  <thead>\n",
       "    <tr style=\"text-align: right;\">\n",
       "      <th></th>\n",
       "      <th>Gender</th>\n",
       "      <th>Height</th>\n",
       "      <th>Weight</th>\n",
       "    </tr>\n",
       "  </thead>\n",
       "  <tbody>\n",
       "    <tr>\n",
       "      <th>0</th>\n",
       "      <td>1</td>\n",
       "      <td>1.827233</td>\n",
       "      <td>2.380023</td>\n",
       "    </tr>\n",
       "    <tr>\n",
       "      <th>1</th>\n",
       "      <td>1</td>\n",
       "      <td>0.512039</td>\n",
       "      <td>-0.103684</td>\n",
       "    </tr>\n",
       "    <tr>\n",
       "      <th>2</th>\n",
       "      <td>1</td>\n",
       "      <td>1.895545</td>\n",
       "      <td>1.470197</td>\n",
       "    </tr>\n",
       "    <tr>\n",
       "      <th>3</th>\n",
       "      <td>1</td>\n",
       "      <td>1.277788</td>\n",
       "      <td>1.698073</td>\n",
       "    </tr>\n",
       "    <tr>\n",
       "      <th>4</th>\n",
       "      <td>1</td>\n",
       "      <td>0.797634</td>\n",
       "      <td>1.270738</td>\n",
       "    </tr>\n",
       "  </tbody>\n",
       "</table>\n",
       "</div>"
      ],
      "text/plain": [
       "   Gender    Height    Weight\n",
       "0       1  1.827233  2.380023\n",
       "1       1  0.512039 -0.103684\n",
       "2       1  1.895545  1.470197\n",
       "3       1  1.277788  1.698073\n",
       "4       1  0.797634  1.270738"
      ]
     },
     "execution_count": 77,
     "metadata": {},
     "output_type": "execute_result"
    }
   ],
   "source": [
    "df3=df2\n",
    "df3.head()"
   ]
  },
  {
   "cell_type": "code",
   "execution_count": 78,
   "id": "b0dbde52",
   "metadata": {},
   "outputs": [],
   "source": [
    "feature_data = df3.drop(['Gender'], axis=1)\n",
    "target_data = df3['Gender']"
   ]
  },
  {
   "cell_type": "code",
   "execution_count": 79,
   "id": "70cfa0c2",
   "metadata": {},
   "outputs": [],
   "source": [
    "\n",
    "xtrain, xtest, ytrain, ytest = train_test_split(feature_data, target_data, test_size=0.3, random_state=1)"
   ]
  },
  {
   "cell_type": "code",
   "execution_count": 80,
   "id": "e4443732",
   "metadata": {},
   "outputs": [
    {
     "name": "stdout",
     "output_type": "stream",
     "text": [
      "        Height    Weight\n",
      "1277  1.447687  0.734437\n",
      "5361 -1.518938 -1.271952\n",
      "5728  0.599644  0.100857\n",
      "4276  0.379392  0.228091\n",
      "3112 -0.472192 -0.657938\n"
     ]
    }
   ],
   "source": [
    "print(xtrain.head())\n"
   ]
  },
  {
   "cell_type": "code",
   "execution_count": 81,
   "id": "6d6b5a44",
   "metadata": {},
   "outputs": [
    {
     "name": "stdout",
     "output_type": "stream",
     "text": [
      "        Height    Weight\n",
      "7154 -0.452294 -0.150802\n",
      "3258  1.042451  0.589349\n",
      "2188  0.481319  0.581425\n",
      "5609 -0.213520  0.037806\n",
      "3186  1.062397  1.087120\n"
     ]
    }
   ],
   "source": [
    "print(xtest.head())\n"
   ]
  },
  {
   "cell_type": "code",
   "execution_count": 82,
   "id": "11107756",
   "metadata": {},
   "outputs": [
    {
     "name": "stdout",
     "output_type": "stream",
     "text": [
      "1277    1\n",
      "5361    0\n",
      "5728    0\n",
      "4276    1\n",
      "3112    1\n",
      "Name: Gender, dtype: int32\n"
     ]
    }
   ],
   "source": [
    "print(ytrain.head())\n"
   ]
  },
  {
   "cell_type": "code",
   "execution_count": 83,
   "id": "844a4288",
   "metadata": {},
   "outputs": [
    {
     "name": "stdout",
     "output_type": "stream",
     "text": [
      "7154    0\n",
      "3258    1\n",
      "2188    1\n",
      "5609    0\n",
      "3186    1\n",
      "Name: Gender, dtype: int32\n"
     ]
    }
   ],
   "source": [
    "\n",
    "print(ytest.head())"
   ]
  },
  {
   "cell_type": "markdown",
   "id": "e6b2a269",
   "metadata": {},
   "source": [
    "# Step 02:\n",
    "KNN Classifier:\n",
    "1. Import data set\n",
    "2. Seperate x and y (y=diagnosis)\n",
    "3. Train = 70%, Test = 30%\n",
    "4. Apply KNN Classifier \n",
    "5. Evaluate Model (Accuracy, Confusion Matrix, ROC, AUC, Classification Report)\n",
    "6. Apply KNN Classifier: https://scikit-learn.org/stable/modules/generated/sklearn.neighbors.KNeighborsClassifier.html"
   ]
  },
  {
   "cell_type": "markdown",
   "id": "32ba8509",
   "metadata": {},
   "source": [
    "# Fist Logic"
   ]
  },
  {
   "cell_type": "markdown",
   "id": "308e6134",
   "metadata": {},
   "source": [
    "KNN Classifier"
   ]
  },
  {
   "cell_type": "markdown",
   "id": "7cdaac0e",
   "metadata": {},
   "source": [
    "Finding an appropiate n_neighbors value for kNN classifier by uniform and distance weight function:"
   ]
  },
  {
   "cell_type": "code",
   "execution_count": 84,
   "id": "bc01e83c",
   "metadata": {},
   "outputs": [
    {
     "data": {
      "image/png": "[encoded data removed]",
      "text/plain": [
       "<Figure size 1000x600 with 1 Axes>"
      ]
     },
     "metadata": {},
     "output_type": "display_data"
    }
   ],
   "source": [
    "from sklearn.neighbors import KNeighborsClassifier\n",
    "from sklearn.metrics import f1_score\n",
    "f1s = []\n",
    "f2s = []\n",
    "for i in range(1, 50):\n",
    "    knct = KNeighborsClassifier(n_neighbors=i, weights='uniform')\n",
    "    knct.fit(xtrain, ytrain)\n",
    "    pred_i = knct.predict(xtest)\n",
    "    f1s.append(f1_score(ytest, pred_i, average='weighted'))\n",
    "    \n",
    "    knct2 = KNeighborsClassifier(n_neighbors=i, weights='distance')\n",
    "    knct2.fit(xtrain, ytrain)\n",
    "    pred_i2 = knct2.predict(xtest)\n",
    "    f2s.append(f1_score(ytest, pred_i2, average='weighted'))\n",
    "           \n",
    "plt.figure(figsize=(10, 6))\n",
    "plt.plot(range (1, 50), f1s, color='red', linestyle= 'dashed', marker=0, markerfacecolor='blue', markersize=10)\n",
    "plt.plot(range (1, 50), f2s, color='black', linestyle='dashed',  marker=0, markerfacecolor='green', markersize=10)\n",
    "plt.title('F1 Score vs K Value')\n",
    "plt.xlabel('K Value')\n",
    "plt.ylabel('F1 Score')\n",
    "plt.xticks(range(0, 50, 5))\n",
    "plt.tick_params(labeltop=True, labelright=True, top=True, right=True)"
   ]
  },
  {
   "cell_type": "markdown",
   "id": "529d6bd7",
   "metadata": {},
   "source": [
    "Apply optimised n_neighbors value for kNN classification with uniform weight function:"
   ]
  },
  {
   "cell_type": "code",
   "execution_count": 85,
   "id": "27fc8d02",
   "metadata": {},
   "outputs": [
    {
     "name": "stdout",
     "output_type": "stream",
     "text": [
      "              precision    recall  f1-score   support\n",
      "\n",
      "           0       0.90      0.92      0.91      1055\n",
      "           1       0.94      0.93      0.94      1512\n",
      "\n",
      "    accuracy                           0.93      2567\n",
      "   macro avg       0.92      0.92      0.92      2567\n",
      "weighted avg       0.93      0.93      0.93      2567\n",
      "\n",
      "MSE for kNN uniform:  0.07401636151149202\n",
      "MAE for KNN uniform:  0.07401636151149202\n",
      "Traning Accuracy for kNN uniform:  0.9196726786907148\n",
      "Testing Accuracy kNN uniform:  0.925983638488508\n"
     ]
    },
    {
     "data": {
      "image/png": "[encoded data removed]",
      "text/plain": [
       "<Figure size 640x480 with 2 Axes>"
      ]
     },
     "metadata": {},
     "output_type": "display_data"
    }
   ],
   "source": [
    "knc14 = KNeighborsClassifier(n_neighbors=14, weights='uniform')\n",
    "knc14.fit(xtrain, ytrain)\n",
    "y_pred_knc14 = knc14.predict(xtest)\n",
    "\n",
    "# Model Evaluation:\n",
    "from sklearn.metrics import classification_report, confusion_matrix, roc_curve, auc\n",
    "import seaborn as sns\n",
    "\n",
    "class_name = ['Female', 'Male']\n",
    "cm14 = pd.DataFrame(confusion_matrix(ytest, y_pred_knc14), columns=class_name, index=class_name)\n",
    "sns.heatmap(cm14, annot=True, fmt='d')\n",
    "print(classification_report(ytest, y_pred_knc14))\n",
    "\n",
    "print(\"MSE for kNN uniform: \", mean_squared_error(ytest, y_pred_knc14)) \n",
    "print(\"MAE for KNN uniform: \", mean_absolute_error(ytest, y_pred_knc14)) \n",
    "print (\"Traning Accuracy for kNN uniform: \", knc14.score(xtrain, ytrain))\n",
    "print (\"Testing Accuracy kNN uniform: \", knc14.score(xtest, ytest)) "
   ]
  },
  {
   "cell_type": "markdown",
   "id": "a57fe0cf",
   "metadata": {},
   "source": [
    "# Apply optimised n_neighbors value for kNN classification with distance weight function:"
   ]
  },
  {
   "cell_type": "code",
   "execution_count": 86,
   "id": "47fe6a0f",
   "metadata": {},
   "outputs": [
    {
     "name": "stdout",
     "output_type": "stream",
     "text": [
      "              precision    recall  f1-score   support\n",
      "\n",
      "           0       0.90      0.90      0.90      1055\n",
      "           1       0.93      0.93      0.93      1512\n",
      "\n",
      "    accuracy                           0.92      2567\n",
      "   macro avg       0.92      0.92      0.92      2567\n",
      "weighted avg       0.92      0.92      0.92      2567\n",
      "\n",
      "MSE for kNN distance:  0.0802493182703545\n",
      "MAE for KNN distance:  0.0802493182703545\n",
      "Traning Accuracy for kNN distance:  1.0\n",
      "Testing Accuracy kNN distance:  0.9197506817296455\n"
     ]
    },
    {
     "data": {
      "image/png": "[encoded data removed]",
      "text/plain": [
       "<Figure size 640x480 with 2 Axes>"
      ]
     },
     "metadata": {},
     "output_type": "display_data"
    }
   ],
   "source": [
    "knc12 = KNeighborsClassifier(n_neighbors=12, weights='distance')\n",
    "knc12.fit(xtrain, ytrain)\n",
    "y_pred_knc12 = knc12.predict(xtest)\n",
    "\n",
    "# Model Evaluation:\n",
    "class_name = ['Female', 'Male']\n",
    "cm12 = pd.DataFrame(confusion_matrix(ytest, y_pred_knc12), columns=class_name, index=class_name)\n",
    "sns.heatmap(cm12, annot=True, fmt='d')\n",
    "print(classification_report(ytest, y_pred_knc12))\n",
    "\n",
    "print(\"MSE for kNN distance: \", mean_squared_error(ytest, y_pred_knc12)) \n",
    "print(\"MAE for KNN distance: \", mean_absolute_error(ytest, y_pred_knc12)) \n",
    "print (\"Traning Accuracy for kNN distance: \", knc12.score(xtrain, ytrain)) \n",
    "print (\"Testing Accuracy kNN distance: \", knc12.score(xtest, ytest)) "
   ]
  },
  {
   "cell_type": "markdown",
   "id": "181eecab",
   "metadata": {},
   "source": [
    "ROC and AUC evaluation"
   ]
  },
  {
   "cell_type": "code",
   "execution_count": 87,
   "id": "167e7732",
   "metadata": {},
   "outputs": [
    {
     "name": "stdout",
     "output_type": "stream",
     "text": [
      "0.9247069259510018 0.9171239875623762\n"
     ]
    },
    {
     "data": {
      "image/png": "[encoded data removed]",
      "text/plain": [
       "<Figure size 640x480 with 1 Axes>"
      ]
     },
     "metadata": {},
     "output_type": "display_data"
    }
   ],
   "source": [
    "from sklearn.metrics import plot_roc_curve, roc_auc_score, roc_curve\n",
    "fpr1, tpr1, thresh1 = roc_curve(ytest, y_pred_knc14, pos_label=1)\n",
    "fpr2, tpr2, thresh2 = roc_curve(ytest, y_pred_knc12, pos_label=1)\n",
    "\n",
    "# roc curve for tpr = fpr \n",
    "random_probs = [0 for i in range(len(ytest))]\n",
    "p_fpr, p_tpr, _ = roc_curve(ytest, random_probs, pos_label=1)\n",
    "\n",
    "auc_score1 = roc_auc_score(ytest, y_pred_knc14)\n",
    "auc_score2 = roc_auc_score(ytest, y_pred_knc12)\n",
    "\n",
    "print(auc_score1, auc_score2)\n",
    "\n",
    "plt.plot(fpr1, tpr1, linestyle='--',color='orange', label='kNN uniform Class')\n",
    "plt.plot(fpr2, tpr2, linestyle='--',color='green', label='KNN distance Class')\n",
    "plt.plot(p_fpr, p_tpr, linestyle='--', color='blue')\n",
    "plt.title('ROC curve')\n",
    "plt.xlabel('False Positive Rate')\n",
    "plt.ylabel('True Positive rate')\n",
    "\n",
    "plt.legend(loc='best')\n",
    "plt.savefig('ROC',dpi=300)\n",
    "plt.show();"
   ]
  },
  {
   "cell_type": "markdown",
   "id": "eea872ea",
   "metadata": {},
   "source": [
    "# Second Logic"
   ]
  },
  {
   "cell_type": "code",
   "execution_count": 88,
   "id": "e7513730",
   "metadata": {},
   "outputs": [
    {
     "data": {
      "text/html": [
       "<div>\n",
       "<style scoped>\n",
       "    .dataframe tbody tr th:only-of-type {\n",
       "        vertical-align: middle;\n",
       "    }\n",
       "\n",
       "    .dataframe tbody tr th {\n",
       "        vertical-align: top;\n",
       "    }\n",
       "\n",
       "    .dataframe thead th {\n",
       "        text-align: right;\n",
       "    }\n",
       "</style>\n",
       "<table border=\"1\" class=\"dataframe\">\n",
       "  <thead>\n",
       "    <tr style=\"text-align: right;\">\n",
       "      <th></th>\n",
       "      <th>Gender</th>\n",
       "      <th>Height</th>\n",
       "      <th>Weight</th>\n",
       "    </tr>\n",
       "  </thead>\n",
       "  <tbody>\n",
       "    <tr>\n",
       "      <th>0</th>\n",
       "      <td>1</td>\n",
       "      <td>1.827233</td>\n",
       "      <td>2.380023</td>\n",
       "    </tr>\n",
       "    <tr>\n",
       "      <th>1</th>\n",
       "      <td>1</td>\n",
       "      <td>0.512039</td>\n",
       "      <td>-0.103684</td>\n",
       "    </tr>\n",
       "    <tr>\n",
       "      <th>2</th>\n",
       "      <td>1</td>\n",
       "      <td>1.895545</td>\n",
       "      <td>1.470197</td>\n",
       "    </tr>\n",
       "    <tr>\n",
       "      <th>3</th>\n",
       "      <td>1</td>\n",
       "      <td>1.277788</td>\n",
       "      <td>1.698073</td>\n",
       "    </tr>\n",
       "    <tr>\n",
       "      <th>4</th>\n",
       "      <td>1</td>\n",
       "      <td>0.797634</td>\n",
       "      <td>1.270738</td>\n",
       "    </tr>\n",
       "  </tbody>\n",
       "</table>\n",
       "</div>"
      ],
      "text/plain": [
       "   Gender    Height    Weight\n",
       "0       1  1.827233  2.380023\n",
       "1       1  0.512039 -0.103684\n",
       "2       1  1.895545  1.470197\n",
       "3       1  1.277788  1.698073\n",
       "4       1  0.797634  1.270738"
      ]
     },
     "execution_count": 88,
     "metadata": {},
     "output_type": "execute_result"
    }
   ],
   "source": [
    "df4=df2\n",
    "df4.head()"
   ]
  },
  {
   "cell_type": "code",
   "execution_count": 89,
   "id": "65f60634",
   "metadata": {},
   "outputs": [],
   "source": [
    "x = df4.drop('Gender', axis = 1)\n",
    "y = df4['Gender']"
   ]
  },
  {
   "cell_type": "code",
   "execution_count": 90,
   "id": "351dbd8b",
   "metadata": {},
   "outputs": [
    {
     "data": {
      "text/plain": [
       "KNeighborsClassifier(n_neighbors=93)"
      ]
     },
     "execution_count": 90,
     "metadata": {},
     "output_type": "execute_result"
    }
   ],
   "source": [
    "from sklearn.model_selection import train_test_split \n",
    "xtrain, xtest, ytrain, ytest=train_test_split(x,y,test_size=0.30,random_state=2)\n",
    "\n",
    "from sklearn.neighbors import KNeighborsClassifier\n",
    "neigh = KNeighborsClassifier(n_neighbors=93)\n",
    "\n",
    "neigh.fit(xtrain,ytrain)"
   ]
  },
  {
   "cell_type": "code",
   "execution_count": 91,
   "id": "290f313f",
   "metadata": {},
   "outputs": [
    {
     "name": "stdout",
     "output_type": "stream",
     "text": [
      "Male\n"
     ]
    }
   ],
   "source": [
    "if neigh.predict([[73.847017, 241.893563]]) == 1:\n",
    "    print(\"Male\")\n",
    "else:\n",
    "    print(\"Female\")"
   ]
  },
  {
   "cell_type": "code",
   "execution_count": 92,
   "id": "19e3bcac",
   "metadata": {},
   "outputs": [
    {
     "name": "stdout",
     "output_type": "stream",
     "text": [
      "Female\n"
     ]
    }
   ],
   "source": [
    "if neigh.predict([[65.968019, 156.802083]]) == 1:\n",
    "    print(\"Female\")\n",
    "else:\n",
    "    print(\"Male\")"
   ]
  },
  {
   "cell_type": "code",
   "execution_count": 93,
   "id": "279ddd8c",
   "metadata": {},
   "outputs": [
    {
     "data": {
      "text/plain": [
       "array([0, 0, 1, ..., 1, 0, 1])"
      ]
     },
     "execution_count": 93,
     "metadata": {},
     "output_type": "execute_result"
    }
   ],
   "source": [
    "y_prediction =  neigh.predict(xtest)\n",
    "y_prediction"
   ]
  },
  {
   "cell_type": "markdown",
   "id": "a208914b",
   "metadata": {},
   "source": [
    "# Classification Report"
   ]
  },
  {
   "cell_type": "code",
   "execution_count": 94,
   "id": "638b790a",
   "metadata": {},
   "outputs": [],
   "source": [
    "from sklearn.metrics import classification_report, accuracy_score, confusion_matrix, roc_curve, plot_roc_curve "
   ]
  },
  {
   "cell_type": "code",
   "execution_count": 95,
   "id": "9b9ee862",
   "metadata": {},
   "outputs": [
    {
     "name": "stdout",
     "output_type": "stream",
     "text": [
      "              precision    recall  f1-score   support\n",
      "\n",
      "           0       0.90      0.90      0.90      1058\n",
      "           1       0.93      0.93      0.93      1509\n",
      "\n",
      "    accuracy                           0.92      2567\n",
      "   macro avg       0.91      0.91      0.91      2567\n",
      "weighted avg       0.92      0.92      0.92      2567\n",
      "\n"
     ]
    }
   ],
   "source": [
    "print(classification_report(ytest, y_prediction))"
   ]
  },
  {
   "cell_type": "code",
   "execution_count": 96,
   "id": "04560671",
   "metadata": {},
   "outputs": [
    {
     "data": {
      "text/plain": [
       "array([[ 948,  110],\n",
       "       [ 105, 1404]], dtype=int64)"
      ]
     },
     "execution_count": 96,
     "metadata": {},
     "output_type": "execute_result"
    }
   ],
   "source": [
    "cm = confusion_matrix(ytest, y_prediction)\n",
    "cm"
   ]
  },
  {
   "cell_type": "code",
   "execution_count": 97,
   "id": "91a9807c",
   "metadata": {},
   "outputs": [
    {
     "data": {
      "text/plain": [
       "0.9162446435527853"
      ]
     },
     "execution_count": 97,
     "metadata": {},
     "output_type": "execute_result"
    }
   ],
   "source": [
    "neigh.score(xtest, ytest)"
   ]
  },
  {
   "cell_type": "code",
   "execution_count": 98,
   "id": "4cde22a3",
   "metadata": {},
   "outputs": [
    {
     "data": {
      "text/plain": [
       "0.9162446435527853"
      ]
     },
     "execution_count": 98,
     "metadata": {},
     "output_type": "execute_result"
    }
   ],
   "source": [
    "from sklearn import metrics\n",
    "metrics.accuracy_score(ytest, y_prediction)"
   ]
  },
  {
   "cell_type": "code",
   "execution_count": 99,
   "id": "86140beb",
   "metadata": {},
   "outputs": [
    {
     "data": {
      "text/plain": [
       "<AxesSubplot:>"
      ]
     },
     "execution_count": 99,
     "metadata": {},
     "output_type": "execute_result"
    },
    {
     "data": {
      "image/png": "[encoded data removed]",
      "text/plain": [
       "<Figure size 1000x1000 with 2 Axes>"
      ]
     },
     "metadata": {},
     "output_type": "display_data"
    }
   ],
   "source": [
    "plt.figure(figsize=(10,10))\n",
    "sns.heatmap(cm , annot = True)"
   ]
  },
  {
   "cell_type": "code",
   "execution_count": 100,
   "id": "0bd832e4",
   "metadata": {},
   "outputs": [
    {
     "data": {
      "text/plain": [
       "[<matplotlib.lines.Line2D at 0x18faad47df0>]"
      ]
     },
     "execution_count": 100,
     "metadata": {},
     "output_type": "execute_result"
    },
    {
     "data": {
      "image/png": "[encoded data removed]",
      "text/plain": [
       "<Figure size 640x480 with 1 Axes>"
      ]
     },
     "metadata": {},
     "output_type": "display_data"
    }
   ],
   "source": [
    "plot_roc_curve(neigh, xtest, ytest)\n",
    "plt.plot([0,1], [0,1], 'go--')"
   ]
  },
  {
   "cell_type": "code",
   "execution_count": 101,
   "id": "db70451f",
   "metadata": {},
   "outputs": [
    {
     "name": "stdout",
     "output_type": "stream",
     "text": [
      "        Metric      Value\n",
      "0           TP   948.0000\n",
      "1           TN  1404.0000\n",
      "2           FP   105.0000\n",
      "3           FN   110.0000\n",
      "4   Population  2567.0000\n",
      "5   Prevalence     0.4100\n",
      "6     Accuracy     0.9162\n",
      "7    Precision     0.9003\n",
      "8          NPV     0.9273\n",
      "9          FDR     0.0997\n",
      "10         TPR     0.8960\n",
      "11      Recall     0.8960\n",
      "12         FPR     0.0696\n",
      "13         FNR     0.1040\n",
      "14         TNR     0.9304\n",
      "15         CSI     0.8151\n",
      "16  F1_measure     0.8982\n",
      "17          F1     0.8981\n",
      "18          BA     0.9132\n"
     ]
    }
   ],
   "source": [
    "import sklearn.metrics\n",
    "import math\n",
    "\n",
    "def matrix_metrix(ytest,y_prediction):\n",
    "   CM = confusion_matrix(ytest,y_prediction)\n",
    "\n",
    "   TP = CM[0][0]\n",
    "   TN = CM[1][1]\n",
    "   FP = CM[1][0] \n",
    "   FN = CM[0][1]\n",
    "   \n",
    "   Population = TN+FN+TP+FP\n",
    "   Prevalence = round( (TP+FP) / Population,2)\n",
    "   Accuracy   = round( (TP+TN) / Population,4)\n",
    "   Precision  = round( TP / (TP+FP),4 )         # positive predictive rate (ppv)     \n",
    "   NPV        = round( TN / (TN+FN),4 )\n",
    "   FDR        = round( FP / (TP+FP),4 )         # false discovery rate\n",
    "   TPR        = round( TP / (TP+FN),4 )         # true positive rate\n",
    "   \n",
    "   \n",
    "   Recall     = round( TP / (TP+FN),4 )         # true positive rate\n",
    "   FPR        = round( FP / (TN+FP),4 )         # false positive rate or 1-specificity\n",
    "   FNR        = round( FN / (TP+FN),4 )\n",
    "   TNR        = round( TN / (TN+FP),4 )         # specificity\n",
    "   CSI        = round( TP / (TP+FN+FP),4 )      # threat score (TS) or crticical success index CSI\n",
    "   \n",
    "   \n",
    "   \n",
    "   F1_measure = round ( ((Precision+Recall) / 2),4)   #  F1 measure\n",
    "   F1         = round ( 2 * ((Precision*Recall)/(Precision+Recall)),4)    #  harmonic mean or F1 score\n",
    "   \n",
    "   BA         = round ( ((TPR+ TNR) / 2),4)     #balanced accuracy\n",
    "   \n",
    "   mat_met = pd.DataFrame({\n",
    "\n",
    "'Metric':['TP','TN','FP','FN','Population','Prevalence','Accuracy','Precision','NPV','FDR','TPR','Recall','FPR','FNR','TNR','CSI','F1_measure','F1','BA'],     'Value':[TP,TN,FP,FN,Population,Prevalence,Accuracy,Precision,NPV,FDR,TPR,Recall,FPR,FNR,TNR,CSI,F1_measure,F1,BA]})\n",
    "   return (mat_met)\n",
    "\n",
    "\n",
    "mat_met = matrix_metrix(ytest,y_prediction)\n",
    "print (mat_met)\n",
    "\n",
    "\n"
   ]
  },
  {
   "cell_type": "markdown",
   "id": "32bf917f",
   "metadata": {},
   "source": [
    "# Decision Tree"
   ]
  },
  {
   "cell_type": "code",
   "execution_count": 102,
   "id": "65261735",
   "metadata": {},
   "outputs": [
    {
     "data": {
      "text/html": [
       "<div>\n",
       "<style scoped>\n",
       "    .dataframe tbody tr th:only-of-type {\n",
       "        vertical-align: middle;\n",
       "    }\n",
       "\n",
       "    .dataframe tbody tr th {\n",
       "        vertical-align: top;\n",
       "    }\n",
       "\n",
       "    .dataframe thead th {\n",
       "        text-align: right;\n",
       "    }\n",
       "</style>\n",
       "<table border=\"1\" class=\"dataframe\">\n",
       "  <thead>\n",
       "    <tr style=\"text-align: right;\">\n",
       "      <th></th>\n",
       "      <th>Gender</th>\n",
       "      <th>Height</th>\n",
       "      <th>Weight</th>\n",
       "    </tr>\n",
       "  </thead>\n",
       "  <tbody>\n",
       "    <tr>\n",
       "      <th>0</th>\n",
       "      <td>1</td>\n",
       "      <td>1.827233</td>\n",
       "      <td>2.380023</td>\n",
       "    </tr>\n",
       "    <tr>\n",
       "      <th>1</th>\n",
       "      <td>1</td>\n",
       "      <td>0.512039</td>\n",
       "      <td>-0.103684</td>\n",
       "    </tr>\n",
       "    <tr>\n",
       "      <th>2</th>\n",
       "      <td>1</td>\n",
       "      <td>1.895545</td>\n",
       "      <td>1.470197</td>\n",
       "    </tr>\n",
       "    <tr>\n",
       "      <th>3</th>\n",
       "      <td>1</td>\n",
       "      <td>1.277788</td>\n",
       "      <td>1.698073</td>\n",
       "    </tr>\n",
       "    <tr>\n",
       "      <th>4</th>\n",
       "      <td>1</td>\n",
       "      <td>0.797634</td>\n",
       "      <td>1.270738</td>\n",
       "    </tr>\n",
       "  </tbody>\n",
       "</table>\n",
       "</div>"
      ],
      "text/plain": [
       "   Gender    Height    Weight\n",
       "0       1  1.827233  2.380023\n",
       "1       1  0.512039 -0.103684\n",
       "2       1  1.895545  1.470197\n",
       "3       1  1.277788  1.698073\n",
       "4       1  0.797634  1.270738"
      ]
     },
     "execution_count": 102,
     "metadata": {},
     "output_type": "execute_result"
    }
   ],
   "source": [
    "df5=df2\n",
    "df5.head()"
   ]
  },
  {
   "cell_type": "code",
   "execution_count": 103,
   "id": "c6b1a28a",
   "metadata": {},
   "outputs": [
    {
     "data": {
      "text/plain": [
       "DecisionTreeClassifier()"
      ]
     },
     "execution_count": 103,
     "metadata": {},
     "output_type": "execute_result"
    }
   ],
   "source": [
    "from sklearn.model_selection import train_test_split\n",
    "x_train, x_test, y_train, y_test = train_test_split(x,y, test_size=.30, random_state=1)\n",
    "\n",
    "from sklearn.tree import DecisionTreeClassifier\n",
    "clf = DecisionTreeClassifier()\n",
    "clf.fit(x_train,y_train)"
   ]
  },
  {
   "cell_type": "code",
   "execution_count": 104,
   "id": "908e225b",
   "metadata": {},
   "outputs": [
    {
     "data": {
      "text/plain": [
       "array([1, 1, 1, ..., 0, 1, 1])"
      ]
     },
     "execution_count": 104,
     "metadata": {},
     "output_type": "execute_result"
    }
   ],
   "source": [
    "y_prediction = clf.predict(x_test)\n",
    "y_prediction"
   ]
  },
  {
   "cell_type": "code",
   "execution_count": 105,
   "id": "763d5001",
   "metadata": {},
   "outputs": [
    {
     "name": "stdout",
     "output_type": "stream",
     "text": [
      "              precision    recall  f1-score   support\n",
      "\n",
      "           0       0.87      0.84      0.86      1055\n",
      "           1       0.89      0.91      0.90      1512\n",
      "\n",
      "    accuracy                           0.88      2567\n",
      "   macro avg       0.88      0.88      0.88      2567\n",
      "weighted avg       0.88      0.88      0.88      2567\n",
      "\n"
     ]
    }
   ],
   "source": [
    "from sklearn.metrics import   classification_report,accuracy_score,confusion_matrix, roc_curve, plot_roc_curve\n",
    "print(classification_report(y_test, y_prediction))"
   ]
  },
  {
   "cell_type": "code",
   "execution_count": 106,
   "id": "293ebe12",
   "metadata": {},
   "outputs": [
    {
     "data": {
      "text/plain": [
       "array([[ 890,  165],\n",
       "       [ 133, 1379]], dtype=int64)"
      ]
     },
     "execution_count": 106,
     "metadata": {},
     "output_type": "execute_result"
    }
   ],
   "source": [
    "cm = confusion_matrix(y_test, y_prediction)\n",
    "cm"
   ]
  },
  {
   "cell_type": "code",
   "execution_count": 107,
   "id": "f77e02ae",
   "metadata": {},
   "outputs": [
    {
     "data": {
      "text/plain": [
       "0.8839111803661862"
      ]
     },
     "execution_count": 107,
     "metadata": {},
     "output_type": "execute_result"
    }
   ],
   "source": [
    "clf.score(x_test, y_test)"
   ]
  },
  {
   "cell_type": "code",
   "execution_count": 108,
   "id": "b880457b",
   "metadata": {},
   "outputs": [
    {
     "name": "stdout",
     "output_type": "stream",
     "text": [
      "0.8839111803661862\n"
     ]
    }
   ],
   "source": [
    "accuracy = accuracy_score(y_test, y_prediction)\n",
    "print(accuracy)"
   ]
  },
  {
   "cell_type": "code",
   "execution_count": 109,
   "id": "67d40bcc",
   "metadata": {},
   "outputs": [
    {
     "data": {
      "text/plain": [
       "<AxesSubplot:>"
      ]
     },
     "execution_count": 109,
     "metadata": {},
     "output_type": "execute_result"
    },
    {
     "data": {
      "image/png": "[encoded data removed]",
      "text/plain": [
       "<Figure size 600x400 with 2 Axes>"
      ]
     },
     "metadata": {},
     "output_type": "display_data"
    }
   ],
   "source": [
    "plt.figure(figsize=(6,4))\n",
    "sns.heatmap(cm , annot = True)"
   ]
  },
  {
   "cell_type": "markdown",
   "id": "c8ad6c82",
   "metadata": {},
   "source": [
    "# ROC CURVE"
   ]
  },
  {
   "cell_type": "code",
   "execution_count": 110,
   "id": "13cfa7e5",
   "metadata": {},
   "outputs": [
    {
     "data": {
      "text/plain": [
       "[<matplotlib.lines.Line2D at 0x18faaf277f0>]"
      ]
     },
     "execution_count": 110,
     "metadata": {},
     "output_type": "execute_result"
    },
    {
     "data": {
      "image/png": "[encoded data removed]",
      "text/plain": [
       "<Figure size 640x480 with 1 Axes>"
      ]
     },
     "metadata": {},
     "output_type": "display_data"
    }
   ],
   "source": [
    "plot_roc_curve(clf, x_test, y_test)\n",
    "plt.plot([0,1],[0,1], 'go--')"
   ]
  },
  {
   "cell_type": "code",
   "execution_count": 111,
   "id": "8bf54bda",
   "metadata": {},
   "outputs": [
    {
     "name": "stdout",
     "output_type": "stream",
     "text": [
      "        Metric      Value\n",
      "0           TP   890.0000\n",
      "1           TN  1379.0000\n",
      "2           FP   133.0000\n",
      "3           FN   165.0000\n",
      "4   Population  2567.0000\n",
      "5   Prevalence     0.4000\n",
      "6     Accuracy     0.8839\n",
      "7    Precision     0.8700\n",
      "8          NPV     0.8931\n",
      "9          FDR     0.1300\n",
      "10         TPR     0.8436\n",
      "11      Recall     0.8436\n",
      "12         FPR     0.0880\n",
      "13         FNR     0.1564\n",
      "14         TNR     0.9120\n",
      "15         CSI     0.7492\n",
      "16  F1_measure     0.8568\n",
      "17          F1     0.8566\n",
      "18          BA     0.8778\n"
     ]
    }
   ],
   "source": [
    "import sklearn.metrics\n",
    "import math\n",
    "\n",
    "def matrix_metrix(y_test,y_prediction):\n",
    "   CM = confusion_matrix(y_test,y_prediction)\n",
    "\n",
    "   TP = CM[0][0]\n",
    "   TN = CM[1][1]\n",
    "   FP = CM[1][0] \n",
    "   FN = CM[0][1]\n",
    "   \n",
    "   Population = TN+FN+TP+FP\n",
    "   Prevalence = round( (TP+FP) / Population,2)\n",
    "   Accuracy   = round( (TP+TN) / Population,4)\n",
    "   Precision  = round( TP / (TP+FP),4 )         # positive predictive rate (ppv)     \n",
    "   NPV        = round( TN / (TN+FN),4 )\n",
    "   FDR        = round( FP / (TP+FP),4 )         # false discovery rate\n",
    "   TPR        = round( TP / (TP+FN),4 )         # true positive rate\n",
    "   \n",
    "   \n",
    "   Recall     = round( TP / (TP+FN),4 )         # true positive rate\n",
    "   FPR        = round( FP / (TN+FP),4 )         # false positive rate or 1-specificity\n",
    "   FNR        = round( FN / (TP+FN),4 )\n",
    "   TNR        = round( TN / (TN+FP),4 )         # specificity\n",
    "   CSI        = round( TP / (TP+FN+FP),4 )      # threat score (TS) or crticical success index CSI\n",
    "   \n",
    "   \n",
    "   \n",
    "   F1_measure = round ( ((Precision+Recall) / 2),4)   #  F1 measure\n",
    "   F1         = round ( 2 * ((Precision*Recall)/(Precision+Recall)),4)    #  harmonic mean or F1 score\n",
    "   \n",
    "   BA         = round ( ((TPR+ TNR) / 2),4)     #balanced accuracy\n",
    "   \n",
    "   mat_met = pd.DataFrame({\n",
    "\n",
    "'Metric':['TP','TN','FP','FN','Population','Prevalence','Accuracy','Precision','NPV','FDR','TPR','Recall','FPR','FNR','TNR','CSI','F1_measure','F1','BA'],     'Value':[TP,TN,FP,FN,Population,Prevalence,Accuracy,Precision,NPV,FDR,TPR,Recall,FPR,FNR,TNR,CSI,F1_measure,F1,BA]})\n",
    "   return (mat_met)\n",
    "\n",
    "mat_met = matrix_metrix(y_test,y_prediction)\n",
    "print (mat_met)"
   ]
  },
  {
   "cell_type": "code",
   "execution_count": null,
   "id": "f8c10a71",
   "metadata": {},
   "outputs": [],
   "source": []
  },
  {
   "cell_type": "code",
   "execution_count": null,
   "id": "dec1fbb6",
   "metadata": {},
   "outputs": [],
   "source": []
  }
 ],
 "metadata": {
  "kernelspec": {
   "display_name": "Python 3 (ipykernel)",
   "language": "python",
   "name": "python3"
  },
  "language_info": {
   "codemirror_mode": {
    "name": "ipython",
    "version": 3
   },
   "file_extension": ".py",
   "mimetype": "text/x-python",
   "name": "python",
   "nbconvert_exporter": "python",
   "pygments_lexer": "ipython3",
   "version": "3.9.13"
  }
 },
 "nbformat": 4,
 "nbformat_minor": 5
}
