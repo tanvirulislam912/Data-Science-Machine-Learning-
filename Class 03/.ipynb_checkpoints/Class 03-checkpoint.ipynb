{
 "cells": [
  {
   "cell_type": "markdown",
   "id": "ea5814f0",
   "metadata": {},
   "source": [
    "# Data Structures in python"
   ]
  },
  {
   "cell_type": "markdown",
   "id": "7dd5f72a",
   "metadata": {},
   "source": [
    "# List"
   ]
  },
  {
   "cell_type": "markdown",
   "id": "939e68c2",
   "metadata": {},
   "source": [
    " 1.Ordered\n",
    " 2.Changeable\n",
    " 3.Allow Duplicates"
   ]
  },
  {
   "cell_type": "code",
   "execution_count": 1,
   "id": "245d3bc0",
   "metadata": {},
   "outputs": [],
   "source": [
    "l1=['data','science', 1,2,3,4,100,True,False,[1,2,3,4,5]]"
   ]
  },
  {
   "cell_type": "code",
   "execution_count": 2,
   "id": "e80900e0",
   "metadata": {},
   "outputs": [
    {
     "data": {
      "text/plain": [
       "['data', 'science', 1, 2, 3, 4, 100, True, False, [1, 2, 3, 4, 5]]"
      ]
     },
     "execution_count": 2,
     "metadata": {},
     "output_type": "execute_result"
    }
   ],
   "source": [
    "l1"
   ]
  },
  {
   "cell_type": "code",
   "execution_count": 3,
   "id": "b25ced14",
   "metadata": {},
   "outputs": [
    {
     "data": {
      "text/plain": [
       "136"
      ]
     },
     "execution_count": 3,
     "metadata": {},
     "output_type": "execute_result"
    }
   ],
   "source": [
    "import sys        #size of list\n",
    "sys.getsizeof(l1)    "
   ]
  },
  {
   "cell_type": "code",
   "execution_count": 4,
   "id": "0c57f937",
   "metadata": {},
   "outputs": [],
   "source": [
    "t1=('data','science', 1,2,3,4,100,True,False,[1,2,3,4,5])"
   ]
  },
  {
   "cell_type": "code",
   "execution_count": 5,
   "id": "28e98ee7",
   "metadata": {},
   "outputs": [
    {
     "data": {
      "text/plain": [
       "120"
      ]
     },
     "execution_count": 5,
     "metadata": {},
     "output_type": "execute_result"
    }
   ],
   "source": [
    "sys.getsizeof(t1)  #size of touple"
   ]
  },
  {
   "cell_type": "code",
   "execution_count": 6,
   "id": "5a9d88b4",
   "metadata": {},
   "outputs": [
    {
     "data": {
      "text/plain": [
       "[1, 2, 3, 4, 5]"
      ]
     },
     "execution_count": 6,
     "metadata": {},
     "output_type": "execute_result"
    }
   ],
   "source": [
    "t1[-1]"
   ]
  },
  {
   "cell_type": "code",
   "execution_count": 7,
   "id": "6ee01faf",
   "metadata": {},
   "outputs": [
    {
     "data": {
      "text/plain": [
       "3"
      ]
     },
     "execution_count": 7,
     "metadata": {},
     "output_type": "execute_result"
    }
   ],
   "source": [
    "t1[-1][2]"
   ]
  },
  {
   "cell_type": "code",
   "execution_count": 8,
   "id": "8cbdfa60",
   "metadata": {},
   "outputs": [
    {
     "data": {
      "text/plain": [
       "3"
      ]
     },
     "execution_count": 8,
     "metadata": {},
     "output_type": "execute_result"
    }
   ],
   "source": [
    "l1[-1][2]"
   ]
  },
  {
   "cell_type": "code",
   "execution_count": 10,
   "id": "9e016887",
   "metadata": {},
   "outputs": [
    {
     "data": {
      "text/plain": [
       "['data', 'science', 1, 2, 3, 4, 100, True, False, [1, 2, 3, 4, 5]]"
      ]
     },
     "execution_count": 10,
     "metadata": {},
     "output_type": "execute_result"
    }
   ],
   "source": [
    "l1"
   ]
  },
  {
   "cell_type": "code",
   "execution_count": 11,
   "id": "c64011db",
   "metadata": {},
   "outputs": [
    {
     "data": {
      "text/plain": [
       "'data'"
      ]
     },
     "execution_count": 11,
     "metadata": {},
     "output_type": "execute_result"
    }
   ],
   "source": [
    "l1[0]"
   ]
  },
  {
   "cell_type": "code",
   "execution_count": 12,
   "id": "d3e30664",
   "metadata": {},
   "outputs": [],
   "source": [
    "l1[0]='Tanvir'"
   ]
  },
  {
   "cell_type": "code",
   "execution_count": 13,
   "id": "cab3eceb",
   "metadata": {},
   "outputs": [
    {
     "data": {
      "text/plain": [
       "['Tanvir', 'science', 1, 2, 3, 4, 100, True, False, [1, 2, 3, 4, 5]]"
      ]
     },
     "execution_count": 13,
     "metadata": {},
     "output_type": "execute_result"
    }
   ],
   "source": [
    "l1"
   ]
  },
  {
   "cell_type": "code",
   "execution_count": 14,
   "id": "155b4f72",
   "metadata": {},
   "outputs": [
    {
     "data": {
      "text/plain": [
       "('data', 'science', 1, 2, 3, 4, 100, True, False, [1, 2, 3, 4, 5])"
      ]
     },
     "execution_count": 14,
     "metadata": {},
     "output_type": "execute_result"
    }
   ],
   "source": [
    "t1"
   ]
  },
  {
   "cell_type": "code",
   "execution_count": 15,
   "id": "3232935a",
   "metadata": {},
   "outputs": [
    {
     "ename": "TypeError",
     "evalue": "'tuple' object does not support item assignment",
     "output_type": "error",
     "traceback": [
      "\u001b[1;31m---------------------------------------------------------------------------\u001b[0m",
      "\u001b[1;31mTypeError\u001b[0m                                 Traceback (most recent call last)",
      "Cell \u001b[1;32mIn[15], line 1\u001b[0m\n\u001b[1;32m----> 1\u001b[0m \u001b[43mt1\u001b[49m\u001b[43m[\u001b[49m\u001b[38;5;241;43m0\u001b[39;49m\u001b[43m]\u001b[49m\u001b[38;5;241m=\u001b[39m\u001b[38;5;124m'\u001b[39m\u001b[38;5;124mIslam\u001b[39m\u001b[38;5;124m'\u001b[39m\n",
      "\u001b[1;31mTypeError\u001b[0m: 'tuple' object does not support item assignment"
     ]
    }
   ],
   "source": [
    "t1[0]='Islam'"
   ]
  },
  {
   "cell_type": "code",
   "execution_count": 16,
   "id": "f8ceafa1",
   "metadata": {},
   "outputs": [],
   "source": [
    "l1=['data','science', 1,2,3,4,100,True,False,[1,2,3,4,5]]"
   ]
  },
  {
   "cell_type": "code",
   "execution_count": 17,
   "id": "467734e7",
   "metadata": {},
   "outputs": [
    {
     "data": {
      "text/plain": [
       "['data', 'science', 1, 2, 3, 4, 100, True, False, [1, 2, 3, 4, 5]]"
      ]
     },
     "execution_count": 17,
     "metadata": {},
     "output_type": "execute_result"
    }
   ],
   "source": [
    "l1"
   ]
  },
  {
   "cell_type": "code",
   "execution_count": 18,
   "id": "5e565fd0",
   "metadata": {},
   "outputs": [
    {
     "data": {
      "text/plain": [
       "1"
      ]
     },
     "execution_count": 18,
     "metadata": {},
     "output_type": "execute_result"
    }
   ],
   "source": [
    "l1[2]"
   ]
  },
  {
   "cell_type": "code",
   "execution_count": 19,
   "id": "9b4c089f",
   "metadata": {},
   "outputs": [
    {
     "data": {
      "text/plain": [
       "[1, 2, 3, 4]"
      ]
     },
     "execution_count": 19,
     "metadata": {},
     "output_type": "execute_result"
    }
   ],
   "source": [
    "l1[2:6]   #colon means 2 to 6   #initial to (destination-1)"
   ]
  },
  {
   "cell_type": "code",
   "execution_count": 20,
   "id": "ae34d114",
   "metadata": {},
   "outputs": [
    {
     "data": {
      "text/plain": [
       "False"
      ]
     },
     "execution_count": 20,
     "metadata": {},
     "output_type": "execute_result"
    }
   ],
   "source": [
    "l1[-2]"
   ]
  },
  {
   "cell_type": "code",
   "execution_count": 21,
   "id": "ad7f813c",
   "metadata": {},
   "outputs": [
    {
     "data": {
      "text/plain": [
       "'data science'"
      ]
     },
     "execution_count": 21,
     "metadata": {},
     "output_type": "execute_result"
    }
   ],
   "source": [
    "string='data science'\n",
    "string"
   ]
  },
  {
   "cell_type": "code",
   "execution_count": 22,
   "id": "884361c1",
   "metadata": {},
   "outputs": [
    {
     "data": {
      "text/plain": [
       "['data', 'science']"
      ]
     },
     "execution_count": 22,
     "metadata": {},
     "output_type": "execute_result"
    }
   ],
   "source": [
    "string.split()"
   ]
  },
  {
   "cell_type": "code",
   "execution_count": 24,
   "id": "47765284",
   "metadata": {},
   "outputs": [
    {
     "name": "stdout",
     "output_type": "stream",
     "text": [
      "d 0\n",
      "a 1\n",
      "t 2\n",
      "a 3\n",
      "  4\n",
      "s 5\n",
      "c 6\n",
      "i 7\n",
      "e 8\n",
      "n 9\n",
      "c 10\n",
      "e 11\n"
     ]
    }
   ],
   "source": [
    "for x in range(len(string)):\n",
    "   print(string[x],x)"
   ]
  },
  {
   "cell_type": "code",
   "execution_count": 25,
   "id": "f5ab42a6",
   "metadata": {},
   "outputs": [],
   "source": [
    "data=string.split()"
   ]
  },
  {
   "cell_type": "code",
   "execution_count": 26,
   "id": "2ec336f2",
   "metadata": {},
   "outputs": [
    {
     "name": "stdout",
     "output_type": "stream",
     "text": [
      "data 0\n",
      "science 1\n"
     ]
    }
   ],
   "source": [
    "for x in range(len(data)):\n",
    "   print(data[x],x)"
   ]
  },
  {
   "cell_type": "code",
   "execution_count": 28,
   "id": "bb21daad",
   "metadata": {},
   "outputs": [
    {
     "data": {
      "text/plain": [
       "'data science'"
      ]
     },
     "execution_count": 28,
     "metadata": {},
     "output_type": "execute_result"
    }
   ],
   "source": [
    "string='data science'\n",
    "string"
   ]
  },
  {
   "cell_type": "code",
   "execution_count": 32,
   "id": "bf7e3724",
   "metadata": {},
   "outputs": [
    {
     "data": {
      "text/plain": [
       "['data', 'science']"
      ]
     },
     "execution_count": 32,
     "metadata": {},
     "output_type": "execute_result"
    }
   ],
   "source": [
    "string.split()"
   ]
  },
  {
   "cell_type": "code",
   "execution_count": 33,
   "id": "4861fbbc",
   "metadata": {},
   "outputs": [
    {
     "data": {
      "text/plain": [
       "'data'"
      ]
     },
     "execution_count": 33,
     "metadata": {},
     "output_type": "execute_result"
    }
   ],
   "source": [
    "string.split()[0]"
   ]
  },
  {
   "cell_type": "code",
   "execution_count": 35,
   "id": "085093a4",
   "metadata": {},
   "outputs": [
    {
     "data": {
      "text/plain": [
       "'t'"
      ]
     },
     "execution_count": 35,
     "metadata": {},
     "output_type": "execute_result"
    }
   ],
   "source": [
    "string.split()[0][2]"
   ]
  },
  {
   "cell_type": "code",
   "execution_count": 36,
   "id": "ca81b46e",
   "metadata": {},
   "outputs": [
    {
     "data": {
      "text/plain": [
       "['data', 'science', 1, 2, 3, 4, 100, True, False, [1, 2, 3, 4, 5]]"
      ]
     },
     "execution_count": 36,
     "metadata": {},
     "output_type": "execute_result"
    }
   ],
   "source": [
    "l1"
   ]
  },
  {
   "cell_type": "code",
   "execution_count": 42,
   "id": "f4e8e168",
   "metadata": {},
   "outputs": [
    {
     "data": {
      "text/plain": [
       "['data',\n",
       " 'science',\n",
       " 1,\n",
       " 2,\n",
       " 3,\n",
       " 4,\n",
       " 100,\n",
       " True,\n",
       " False,\n",
       " [1, 2, 3, 4, 5],\n",
       " 'Tanvir',\n",
       " 'Tanvir',\n",
       " 'Tanvir',\n",
       " 'Tanvir',\n",
       " 'Tanvir']"
      ]
     },
     "execution_count": 42,
     "metadata": {},
     "output_type": "execute_result"
    }
   ],
   "source": [
    "l1.append('Tanvir')\n",
    "l1"
   ]
  },
  {
   "cell_type": "code",
   "execution_count": 43,
   "id": "f4b1d29a",
   "metadata": {},
   "outputs": [],
   "source": [
    "l1=['data', 'science', 1, 2, 3, 4, 100, True, False, [1, 2, 3, 4, 5]]"
   ]
  },
  {
   "cell_type": "code",
   "execution_count": 44,
   "id": "fa170a01",
   "metadata": {},
   "outputs": [
    {
     "data": {
      "text/plain": [
       "['data', 'science', 1, 2, 3, 4, 100, True, False, [1, 2, 3, 4, 5]]"
      ]
     },
     "execution_count": 44,
     "metadata": {},
     "output_type": "execute_result"
    }
   ],
   "source": [
    "l1"
   ]
  },
  {
   "cell_type": "code",
   "execution_count": 45,
   "id": "490e2320",
   "metadata": {},
   "outputs": [],
   "source": [
    "l1.append('Sohan')"
   ]
  },
  {
   "cell_type": "code",
   "execution_count": 46,
   "id": "f4f131d8",
   "metadata": {},
   "outputs": [
    {
     "data": {
      "text/plain": [
       "['data', 'science', 1, 2, 3, 4, 100, True, False, [1, 2, 3, 4, 5], 'Sohan']"
      ]
     },
     "execution_count": 46,
     "metadata": {},
     "output_type": "execute_result"
    }
   ],
   "source": [
    "l1"
   ]
  },
  {
   "cell_type": "code",
   "execution_count": 48,
   "id": "d5278e35",
   "metadata": {},
   "outputs": [],
   "source": [
    "l1.append(\"Saha\")"
   ]
  },
  {
   "cell_type": "code",
   "execution_count": 49,
   "id": "77622e79",
   "metadata": {},
   "outputs": [
    {
     "data": {
      "text/plain": [
       "['data',\n",
       " 'science',\n",
       " 1,\n",
       " 2,\n",
       " 3,\n",
       " 4,\n",
       " 100,\n",
       " True,\n",
       " False,\n",
       " [1, 2, 3, 4, 5],\n",
       " 'Sohan',\n",
       " 'Saha']"
      ]
     },
     "execution_count": 49,
     "metadata": {},
     "output_type": "execute_result"
    }
   ],
   "source": [
    "l1"
   ]
  },
  {
   "cell_type": "code",
   "execution_count": 51,
   "id": "90f9de12",
   "metadata": {},
   "outputs": [],
   "source": [
    "l1.insert(3,'teacher')"
   ]
  },
  {
   "cell_type": "code",
   "execution_count": 52,
   "id": "b24ce22f",
   "metadata": {},
   "outputs": [
    {
     "data": {
      "text/plain": [
       "['data',\n",
       " 'science',\n",
       " 1,\n",
       " 'teacher',\n",
       " 2,\n",
       " 3,\n",
       " 4,\n",
       " 100,\n",
       " True,\n",
       " False,\n",
       " [1, 2, 3, 4, 5],\n",
       " 'Sohan',\n",
       " 'Saha']"
      ]
     },
     "execution_count": 52,
     "metadata": {},
     "output_type": "execute_result"
    }
   ],
   "source": [
    "l1"
   ]
  },
  {
   "cell_type": "code",
   "execution_count": 54,
   "id": "37e3b07e",
   "metadata": {},
   "outputs": [
    {
     "data": {
      "text/plain": [
       "3"
      ]
     },
     "execution_count": 54,
     "metadata": {},
     "output_type": "execute_result"
    }
   ],
   "source": [
    "l1.index('teacher')"
   ]
  },
  {
   "cell_type": "code",
   "execution_count": 56,
   "id": "e259491d",
   "metadata": {},
   "outputs": [],
   "source": [
    "l2=l1"
   ]
  },
  {
   "cell_type": "code",
   "execution_count": 57,
   "id": "789238e7",
   "metadata": {},
   "outputs": [
    {
     "data": {
      "text/plain": [
       "['data',\n",
       " 'science',\n",
       " 1,\n",
       " 'teacher',\n",
       " 2,\n",
       " 3,\n",
       " 4,\n",
       " 100,\n",
       " True,\n",
       " False,\n",
       " [1, 2, 3, 4, 5],\n",
       " 'Sohan',\n",
       " 'Saha']"
      ]
     },
     "execution_count": 57,
     "metadata": {},
     "output_type": "execute_result"
    }
   ],
   "source": [
    "l2"
   ]
  },
  {
   "cell_type": "code",
   "execution_count": 58,
   "id": "0a60835a",
   "metadata": {},
   "outputs": [],
   "source": [
    "l2.append('EDU')"
   ]
  },
  {
   "cell_type": "code",
   "execution_count": 59,
   "id": "5f09ec0d",
   "metadata": {},
   "outputs": [
    {
     "data": {
      "text/plain": [
       "['data',\n",
       " 'science',\n",
       " 1,\n",
       " 'teacher',\n",
       " 2,\n",
       " 3,\n",
       " 4,\n",
       " 100,\n",
       " True,\n",
       " False,\n",
       " [1, 2, 3, 4, 5],\n",
       " 'Sohan',\n",
       " 'Saha',\n",
       " 'EDU']"
      ]
     },
     "execution_count": 59,
     "metadata": {},
     "output_type": "execute_result"
    }
   ],
   "source": [
    "l2"
   ]
  },
  {
   "cell_type": "code",
   "execution_count": 60,
   "id": "e8af79b5",
   "metadata": {},
   "outputs": [
    {
     "data": {
      "text/plain": [
       "['data',\n",
       " 'science',\n",
       " 1,\n",
       " 'teacher',\n",
       " 2,\n",
       " 3,\n",
       " 4,\n",
       " 100,\n",
       " True,\n",
       " False,\n",
       " [1, 2, 3, 4, 5],\n",
       " 'Sohan',\n",
       " 'Saha',\n",
       " 'EDU']"
      ]
     },
     "execution_count": 60,
     "metadata": {},
     "output_type": "execute_result"
    }
   ],
   "source": [
    "l1"
   ]
  },
  {
   "cell_type": "code",
   "execution_count": 61,
   "id": "2e723fb5",
   "metadata": {},
   "outputs": [],
   "source": [
    "l2.remove(1)"
   ]
  },
  {
   "cell_type": "code",
   "execution_count": 62,
   "id": "2aae7f59",
   "metadata": {},
   "outputs": [
    {
     "data": {
      "text/plain": [
       "['data',\n",
       " 'science',\n",
       " 'teacher',\n",
       " 2,\n",
       " 3,\n",
       " 4,\n",
       " 100,\n",
       " True,\n",
       " False,\n",
       " [1, 2, 3, 4, 5],\n",
       " 'Sohan',\n",
       " 'Saha',\n",
       " 'EDU']"
      ]
     },
     "execution_count": 62,
     "metadata": {},
     "output_type": "execute_result"
    }
   ],
   "source": [
    "l2"
   ]
  },
  {
   "cell_type": "code",
   "execution_count": 63,
   "id": "284f896c",
   "metadata": {},
   "outputs": [
    {
     "data": {
      "text/plain": [
       "['data',\n",
       " 'science',\n",
       " 'teacher',\n",
       " 2,\n",
       " 3,\n",
       " 4,\n",
       " 100,\n",
       " True,\n",
       " False,\n",
       " [1, 2, 3, 4, 5],\n",
       " 'Sohan',\n",
       " 'Saha',\n",
       " 'EDU']"
      ]
     },
     "execution_count": 63,
     "metadata": {},
     "output_type": "execute_result"
    }
   ],
   "source": [
    "l1"
   ]
  },
  {
   "cell_type": "code",
   "execution_count": 64,
   "id": "b50b5029",
   "metadata": {},
   "outputs": [
    {
     "data": {
      "text/plain": [
       "2946871377408"
      ]
     },
     "execution_count": 64,
     "metadata": {},
     "output_type": "execute_result"
    }
   ],
   "source": [
    "id(l1)  #memory address"
   ]
  },
  {
   "cell_type": "code",
   "execution_count": 65,
   "id": "0f9378f6",
   "metadata": {},
   "outputs": [
    {
     "data": {
      "text/plain": [
       "2946871377408"
      ]
     },
     "execution_count": 65,
     "metadata": {},
     "output_type": "execute_result"
    }
   ],
   "source": [
    "id(l2)"
   ]
  },
  {
   "cell_type": "code",
   "execution_count": 66,
   "id": "1d980ca6",
   "metadata": {},
   "outputs": [],
   "source": [
    "l3=l2.copy()"
   ]
  },
  {
   "cell_type": "code",
   "execution_count": 67,
   "id": "29114c8d",
   "metadata": {},
   "outputs": [
    {
     "data": {
      "text/plain": [
       "['data',\n",
       " 'science',\n",
       " 'teacher',\n",
       " 2,\n",
       " 3,\n",
       " 4,\n",
       " 100,\n",
       " True,\n",
       " False,\n",
       " [1, 2, 3, 4, 5],\n",
       " 'Sohan',\n",
       " 'Saha',\n",
       " 'EDU']"
      ]
     },
     "execution_count": 67,
     "metadata": {},
     "output_type": "execute_result"
    }
   ],
   "source": [
    "l3"
   ]
  },
  {
   "cell_type": "code",
   "execution_count": 68,
   "id": "e8437f79",
   "metadata": {},
   "outputs": [
    {
     "data": {
      "text/plain": [
       "['data',\n",
       " 'science',\n",
       " 'teacher',\n",
       " 2,\n",
       " 3,\n",
       " 4,\n",
       " 100,\n",
       " True,\n",
       " False,\n",
       " [1, 2, 3, 4, 5],\n",
       " 'Sohan',\n",
       " 'Saha',\n",
       " 'EDU']"
      ]
     },
     "execution_count": 68,
     "metadata": {},
     "output_type": "execute_result"
    }
   ],
   "source": [
    "l2"
   ]
  },
  {
   "cell_type": "code",
   "execution_count": 72,
   "id": "d96df078",
   "metadata": {},
   "outputs": [
    {
     "data": {
      "text/plain": [
       "['data', 'science', 'teacher', 2, 3, 4, 100, True, [1, 2, 3, 4, 5], 'Saha']"
      ]
     },
     "execution_count": 72,
     "metadata": {},
     "output_type": "execute_result"
    }
   ],
   "source": [
    "l3"
   ]
  },
  {
   "cell_type": "code",
   "execution_count": 73,
   "id": "107661bf",
   "metadata": {},
   "outputs": [
    {
     "data": {
      "text/plain": [
       "[1, 2, 3, 4, 5]"
      ]
     },
     "execution_count": 73,
     "metadata": {},
     "output_type": "execute_result"
    }
   ],
   "source": [
    "l3.pop(-2)     # index use in pop\n",
    "               # remove use direct value"
   ]
  },
  {
   "cell_type": "code",
   "execution_count": 74,
   "id": "6bfdc99f",
   "metadata": {},
   "outputs": [
    {
     "data": {
      "text/plain": [
       "['data', 'science', 'teacher', 2, 3, 4, 100, True, 'Saha']"
      ]
     },
     "execution_count": 74,
     "metadata": {},
     "output_type": "execute_result"
    }
   ],
   "source": [
    "l3"
   ]
  },
  {
   "cell_type": "code",
   "execution_count": 75,
   "id": "28831fd0",
   "metadata": {},
   "outputs": [
    {
     "data": {
      "text/plain": [
       "['data',\n",
       " 'science',\n",
       " 'teacher',\n",
       " 2,\n",
       " 3,\n",
       " 4,\n",
       " 100,\n",
       " True,\n",
       " False,\n",
       " [1, 2, 3, 4, 5],\n",
       " 'Sohan',\n",
       " 'Saha',\n",
       " 'EDU']"
      ]
     },
     "execution_count": 75,
     "metadata": {},
     "output_type": "execute_result"
    }
   ],
   "source": [
    "l2"
   ]
  },
  {
   "cell_type": "code",
   "execution_count": 76,
   "id": "bc5472df",
   "metadata": {},
   "outputs": [
    {
     "data": {
      "text/plain": [
       "['data', 'science', 'teacher', 2, 3, 4, 100, True, 'Saha']"
      ]
     },
     "execution_count": 76,
     "metadata": {},
     "output_type": "execute_result"
    }
   ],
   "source": [
    "l3"
   ]
  },
  {
   "cell_type": "code",
   "execution_count": 77,
   "id": "4200877b",
   "metadata": {},
   "outputs": [
    {
     "data": {
      "text/plain": [
       "'\\n1.positive index start from 0\\n2.Negative index start from (-1)\\n'"
      ]
     },
     "execution_count": 77,
     "metadata": {},
     "output_type": "execute_result"
    }
   ],
   "source": [
    "'''\n",
    "1.positive index start from 0 to n-1\n",
    "2.Negative index start from (-1) to ....\n",
    "\n",
    "'''"
   ]
  },
  {
   "cell_type": "code",
   "execution_count": 78,
   "id": "ba37bc7a",
   "metadata": {},
   "outputs": [
    {
     "data": {
      "text/plain": [
       "['data',\n",
       " 'science',\n",
       " 'teacher',\n",
       " 2,\n",
       " 3,\n",
       " 4,\n",
       " 100,\n",
       " True,\n",
       " False,\n",
       " [1, 2, 3, 4, 5],\n",
       " 'Sohan',\n",
       " 'Saha',\n",
       " 'EDU']"
      ]
     },
     "execution_count": 78,
     "metadata": {},
     "output_type": "execute_result"
    }
   ],
   "source": [
    "l2"
   ]
  },
  {
   "cell_type": "code",
   "execution_count": 81,
   "id": "8dd13dd8",
   "metadata": {},
   "outputs": [],
   "source": [
    "del l2[9]"
   ]
  },
  {
   "cell_type": "code",
   "execution_count": 82,
   "id": "7ac78d32",
   "metadata": {},
   "outputs": [
    {
     "data": {
      "text/plain": [
       "['data',\n",
       " 'science',\n",
       " 'teacher',\n",
       " 2,\n",
       " 3,\n",
       " 4,\n",
       " 100,\n",
       " True,\n",
       " False,\n",
       " 'Sohan',\n",
       " 'Saha',\n",
       " 'EDU']"
      ]
     },
     "execution_count": 82,
     "metadata": {},
     "output_type": "execute_result"
    }
   ],
   "source": [
    "l2"
   ]
  },
  {
   "cell_type": "code",
   "execution_count": 83,
   "id": "a334abbe",
   "metadata": {},
   "outputs": [],
   "source": [
    "del l2[10]"
   ]
  },
  {
   "cell_type": "code",
   "execution_count": 84,
   "id": "6f8cc7a6",
   "metadata": {},
   "outputs": [
    {
     "data": {
      "text/plain": [
       "['data', 'science', 'teacher', 2, 3, 4, 100, True, False, 'Sohan', 'EDU']"
      ]
     },
     "execution_count": 84,
     "metadata": {},
     "output_type": "execute_result"
    }
   ],
   "source": [
    "l2"
   ]
  },
  {
   "cell_type": "code",
   "execution_count": 85,
   "id": "0970a63a",
   "metadata": {},
   "outputs": [],
   "source": [
    "l3=[1,5,3,5,1,9,10,6,2,4,8]"
   ]
  },
  {
   "cell_type": "code",
   "execution_count": 86,
   "id": "53337b5e",
   "metadata": {},
   "outputs": [],
   "source": [
    "l3.sort()"
   ]
  },
  {
   "cell_type": "code",
   "execution_count": 87,
   "id": "a7e8e888",
   "metadata": {},
   "outputs": [
    {
     "data": {
      "text/plain": [
       "[1, 1, 2, 3, 4, 5, 5, 6, 8, 9, 10]"
      ]
     },
     "execution_count": 87,
     "metadata": {},
     "output_type": "execute_result"
    }
   ],
   "source": [
    "l3"
   ]
  },
  {
   "cell_type": "code",
   "execution_count": 88,
   "id": "3621d64e",
   "metadata": {},
   "outputs": [],
   "source": [
    "l3.reverse()"
   ]
  },
  {
   "cell_type": "code",
   "execution_count": 89,
   "id": "be7b9318",
   "metadata": {},
   "outputs": [
    {
     "data": {
      "text/plain": [
       "[10, 9, 8, 6, 5, 5, 4, 3, 2, 1, 1]"
      ]
     },
     "execution_count": 89,
     "metadata": {},
     "output_type": "execute_result"
    }
   ],
   "source": [
    "l3\n"
   ]
  },
  {
   "cell_type": "code",
   "execution_count": 90,
   "id": "802d6b09",
   "metadata": {},
   "outputs": [
    {
     "data": {
      "text/plain": [
       "2"
      ]
     },
     "execution_count": 90,
     "metadata": {},
     "output_type": "execute_result"
    }
   ],
   "source": [
    "l3.count(5)"
   ]
  },
  {
   "cell_type": "code",
   "execution_count": 91,
   "id": "bdf33d50",
   "metadata": {},
   "outputs": [],
   "source": [
    "l3.clear()"
   ]
  },
  {
   "cell_type": "code",
   "execution_count": 92,
   "id": "5d44f6f8",
   "metadata": {},
   "outputs": [
    {
     "data": {
      "text/plain": [
       "[]"
      ]
     },
     "execution_count": 92,
     "metadata": {},
     "output_type": "execute_result"
    }
   ],
   "source": [
    "l3"
   ]
  },
  {
   "cell_type": "code",
   "execution_count": 93,
   "id": "6a773b22",
   "metadata": {},
   "outputs": [],
   "source": [
    "l3.append('Tanvir')"
   ]
  },
  {
   "cell_type": "code",
   "execution_count": 94,
   "id": "f336cc68",
   "metadata": {},
   "outputs": [
    {
     "data": {
      "text/plain": [
       "['Tanvir']"
      ]
     },
     "execution_count": 94,
     "metadata": {},
     "output_type": "execute_result"
    }
   ],
   "source": [
    "l3"
   ]
  },
  {
   "cell_type": "code",
   "execution_count": 95,
   "id": "4e66c072",
   "metadata": {},
   "outputs": [
    {
     "data": {
      "text/plain": [
       "[]"
      ]
     },
     "execution_count": 95,
     "metadata": {},
     "output_type": "execute_result"
    }
   ],
   "source": [
    "l3.clear()\n",
    "l3"
   ]
  },
  {
   "cell_type": "code",
   "execution_count": 96,
   "id": "c1eeb3b6",
   "metadata": {},
   "outputs": [
    {
     "data": {
      "text/plain": [
       "[1, 5, 3, 5, 1, 9, 10, 6, 2, 4, 8]"
      ]
     },
     "execution_count": 96,
     "metadata": {},
     "output_type": "execute_result"
    }
   ],
   "source": [
    "l3=[1,5,3,5,1,9,10,6,2,4,8]\n",
    "l3\n",
    "\n"
   ]
  },
  {
   "cell_type": "code",
   "execution_count": 100,
   "id": "e1a61190",
   "metadata": {},
   "outputs": [
    {
     "name": "stdout",
     "output_type": "stream",
     "text": [
      "0\n",
      "1\n",
      "6\n",
      "9\n",
      "14\n",
      "15\n",
      "24\n",
      "34\n",
      "40\n",
      "42\n",
      "46\n",
      "54\n"
     ]
    }
   ],
   "source": [
    "total = 0\n",
    "for x in l3:\n",
    "    print(total)\n",
    "    total += x\n",
    "print(total)    "
   ]
  },
  {
   "cell_type": "markdown",
   "id": "488fa708",
   "metadata": {},
   "source": [
    "# input function"
   ]
  },
  {
   "cell_type": "code",
   "execution_count": 101,
   "id": "befe7ed5",
   "metadata": {},
   "outputs": [
    {
     "data": {
      "text/plain": [
       "30"
      ]
     },
     "execution_count": 101,
     "metadata": {},
     "output_type": "execute_result"
    }
   ],
   "source": [
    "10|+ 20\n"
   ]
  },
  {
   "cell_type": "code",
   "execution_count": 102,
   "id": "46b7de39",
   "metadata": {},
   "outputs": [
    {
     "data": {
      "text/plain": [
       "30"
      ]
     },
     "execution_count": 102,
     "metadata": {},
     "output_type": "execute_result"
    }
   ],
   "source": [
    "x = 10\n",
    "y = 20\n",
    "x+y"
   ]
  },
  {
   "cell_type": "code",
   "execution_count": 103,
   "id": "6b6d2342",
   "metadata": {},
   "outputs": [
    {
     "data": {
      "text/plain": [
       "200"
      ]
     },
     "execution_count": 103,
     "metadata": {},
     "output_type": "execute_result"
    }
   ],
   "source": [
    "x*y\n"
   ]
  },
  {
   "cell_type": "code",
   "execution_count": 104,
   "id": "82ed2b8e",
   "metadata": {},
   "outputs": [
    {
     "data": {
      "text/plain": [
       "10"
      ]
     },
     "execution_count": 104,
     "metadata": {},
     "output_type": "execute_result"
    }
   ],
   "source": [
    "x%y\n"
   ]
  },
  {
   "cell_type": "code",
   "execution_count": 105,
   "id": "6594d2e1",
   "metadata": {},
   "outputs": [
    {
     "data": {
      "text/plain": [
       "0.5"
      ]
     },
     "execution_count": 105,
     "metadata": {},
     "output_type": "execute_result"
    }
   ],
   "source": [
    "x/y"
   ]
  },
  {
   "cell_type": "code",
   "execution_count": 106,
   "id": "3e26b87b",
   "metadata": {},
   "outputs": [
    {
     "data": {
      "text/plain": [
       "2.0"
      ]
     },
     "execution_count": 106,
     "metadata": {},
     "output_type": "execute_result"
    }
   ],
   "source": [
    "y/x\n"
   ]
  },
  {
   "cell_type": "code",
   "execution_count": 107,
   "id": "c9d8f158",
   "metadata": {},
   "outputs": [
    {
     "data": {
      "text/plain": [
       "0"
      ]
     },
     "execution_count": 107,
     "metadata": {},
     "output_type": "execute_result"
    }
   ],
   "source": [
    "y%x\n"
   ]
  },
  {
   "cell_type": "code",
   "execution_count": 108,
   "id": "a37c7be9",
   "metadata": {},
   "outputs": [
    {
     "name": "stdout",
     "output_type": "stream",
     "text": [
      "10\n",
      "10\n"
     ]
    },
    {
     "data": {
      "text/plain": [
       "'1010'"
      ]
     },
     "execution_count": 108,
     "metadata": {},
     "output_type": "execute_result"
    }
   ],
   "source": [
    "x = input()\n",
    "y = input()\n",
    "x + y\n"
   ]
  },
  {
   "cell_type": "code",
   "execution_count": 109,
   "id": "7de22aba",
   "metadata": {},
   "outputs": [
    {
     "name": "stdout",
     "output_type": "stream",
     "text": [
      "10\n",
      "10\n"
     ]
    },
    {
     "data": {
      "text/plain": [
       "20"
      ]
     },
     "execution_count": 109,
     "metadata": {},
     "output_type": "execute_result"
    }
   ],
   "source": [
    "x = int(input())\n",
    "y = int(input())\n",
    "x + y\n"
   ]
  },
  {
   "cell_type": "code",
   "execution_count": 1,
   "id": "2de34cdc",
   "metadata": {},
   "outputs": [
    {
     "name": "stdout",
     "output_type": "stream",
     "text": [
      "Enter your first number:  10\n",
      "Enter your second number: 20\n"
     ]
    },
    {
     "data": {
      "text/plain": [
       "30"
      ]
     },
     "execution_count": 1,
     "metadata": {},
     "output_type": "execute_result"
    }
   ],
   "source": [
    "x = int(input('Enter your first number:  '))\n",
    "y = int(input('Enter your second number: '))\n",
    "x + y"
   ]
  },
  {
   "cell_type": "code",
   "execution_count": 2,
   "id": "5f158b41",
   "metadata": {},
   "outputs": [
    {
     "data": {
      "text/plain": [
       "10"
      ]
     },
     "execution_count": 2,
     "metadata": {},
     "output_type": "execute_result"
    }
   ],
   "source": [
    "x"
   ]
  },
  {
   "cell_type": "code",
   "execution_count": 3,
   "id": "c05993a8",
   "metadata": {},
   "outputs": [
    {
     "data": {
      "text/plain": [
       "20"
      ]
     },
     "execution_count": 3,
     "metadata": {},
     "output_type": "execute_result"
    }
   ],
   "source": [
    "y"
   ]
  },
  {
   "cell_type": "markdown",
   "id": "2bb89c52",
   "metadata": {},
   "source": [
    "# List Input"
   ]
  },
  {
   "cell_type": "code",
   "execution_count": 9,
   "id": "1f1e594c",
   "metadata": {},
   "outputs": [
    {
     "name": "stdout",
     "output_type": "stream",
     "text": [
      "3\n",
      "2\n",
      "[2]\n",
      "3\n",
      "[2, 3]\n",
      "4\n",
      "[2, 3, 4]\n"
     ]
    }
   ],
   "source": [
    "list1 = []\n",
    "n = int(input())\n",
    "for i in range (n):\n",
    "    new_element = int(input())\n",
    "    list1.append(new_element)\n",
    "    print (list1)\n",
    "    "
   ]
  },
  {
   "cell_type": "code",
   "execution_count": 8,
   "id": "d5cbf4dc",
   "metadata": {},
   "outputs": [
    {
     "data": {
      "text/plain": [
       "['tanvir', 'data', 'science']"
      ]
     },
     "execution_count": 8,
     "metadata": {},
     "output_type": "execute_result"
    }
   ],
   "source": [
    "list1"
   ]
  },
  {
   "cell_type": "code",
   "execution_count": 10,
   "id": "bf81b937",
   "metadata": {},
   "outputs": [
    {
     "data": {
      "text/plain": [
       "[2, 3, 4]"
      ]
     },
     "execution_count": 10,
     "metadata": {},
     "output_type": "execute_result"
    }
   ],
   "source": [
    "list1"
   ]
  },
  {
   "cell_type": "markdown",
   "id": "87a9b057",
   "metadata": {},
   "source": [
    "# Tuple in Python"
   ]
  },
  {
   "cell_type": "code",
   "execution_count": 11,
   "id": "8cd2fd79",
   "metadata": {},
   "outputs": [],
   "source": [
    "tup1 =  'data science'"
   ]
  },
  {
   "cell_type": "code",
   "execution_count": 12,
   "id": "ec041e2e",
   "metadata": {},
   "outputs": [
    {
     "data": {
      "text/plain": [
       "'data science'"
      ]
     },
     "execution_count": 12,
     "metadata": {},
     "output_type": "execute_result"
    }
   ],
   "source": [
    "tup1"
   ]
  },
  {
   "cell_type": "code",
   "execution_count": 13,
   "id": "a55077df",
   "metadata": {},
   "outputs": [
    {
     "data": {
      "text/plain": [
       "str"
      ]
     },
     "execution_count": 13,
     "metadata": {},
     "output_type": "execute_result"
    }
   ],
   "source": [
    "type(tup1)"
   ]
  },
  {
   "cell_type": "code",
   "execution_count": 14,
   "id": "e3acadc8",
   "metadata": {},
   "outputs": [],
   "source": [
    "tup1 = ('data science',)"
   ]
  },
  {
   "cell_type": "code",
   "execution_count": 15,
   "id": "e79c2159",
   "metadata": {},
   "outputs": [
    {
     "data": {
      "text/plain": [
       "('data science',)"
      ]
     },
     "execution_count": 15,
     "metadata": {},
     "output_type": "execute_result"
    }
   ],
   "source": [
    "tup1"
   ]
  },
  {
   "cell_type": "code",
   "execution_count": 16,
   "id": "bb20abb4",
   "metadata": {},
   "outputs": [
    {
     "data": {
      "text/plain": [
       "tuple"
      ]
     },
     "execution_count": 16,
     "metadata": {},
     "output_type": "execute_result"
    }
   ],
   "source": [
    "type(tup1)"
   ]
  },
  {
   "cell_type": "code",
   "execution_count": 17,
   "id": "37d40f46",
   "metadata": {},
   "outputs": [],
   "source": [
    "tup1 = ('data science', 'AI')"
   ]
  },
  {
   "cell_type": "code",
   "execution_count": 18,
   "id": "8922bb51",
   "metadata": {},
   "outputs": [
    {
     "data": {
      "text/plain": [
       "tuple"
      ]
     },
     "execution_count": 18,
     "metadata": {},
     "output_type": "execute_result"
    }
   ],
   "source": [
    "type(tup1)"
   ]
  },
  {
   "cell_type": "code",
   "execution_count": 20,
   "id": "5fc8e6d0",
   "metadata": {},
   "outputs": [
    {
     "ename": "TypeError",
     "evalue": "'tuple' object does not support item assignment",
     "output_type": "error",
     "traceback": [
      "\u001b[1;31m---------------------------------------------------------------------------\u001b[0m",
      "\u001b[1;31mTypeError\u001b[0m                                 Traceback (most recent call last)",
      "Cell \u001b[1;32mIn[20], line 1\u001b[0m\n\u001b[1;32m----> 1\u001b[0m \u001b[43mtup1\u001b[49m\u001b[43m[\u001b[49m\u001b[38;5;241;43m0\u001b[39;49m\u001b[43m]\u001b[49m \u001b[38;5;241m=\u001b[39m \u001b[38;5;241m1\u001b[39m\n",
      "\u001b[1;31mTypeError\u001b[0m: 'tuple' object does not support item assignment"
     ]
    }
   ],
   "source": [
    "tup1[0] = 1"
   ]
  },
  {
   "cell_type": "code",
   "execution_count": 21,
   "id": "766ab76a",
   "metadata": {},
   "outputs": [],
   "source": [
    "#tup to list"
   ]
  },
  {
   "cell_type": "code",
   "execution_count": 22,
   "id": "b4b0ebe4",
   "metadata": {},
   "outputs": [],
   "source": [
    "tup2 = list(tup1)"
   ]
  },
  {
   "cell_type": "code",
   "execution_count": 23,
   "id": "88cdefe8",
   "metadata": {},
   "outputs": [
    {
     "data": {
      "text/plain": [
       "['data science', 'AI']"
      ]
     },
     "execution_count": 23,
     "metadata": {},
     "output_type": "execute_result"
    }
   ],
   "source": [
    "tup2"
   ]
  },
  {
   "cell_type": "code",
   "execution_count": 24,
   "id": "50a59450",
   "metadata": {},
   "outputs": [],
   "source": [
    "tup2[0]= 1"
   ]
  },
  {
   "cell_type": "code",
   "execution_count": 25,
   "id": "dc3bcf84",
   "metadata": {},
   "outputs": [
    {
     "data": {
      "text/plain": [
       "[1, 'AI']"
      ]
     },
     "execution_count": 25,
     "metadata": {},
     "output_type": "execute_result"
    }
   ],
   "source": [
    "tup2"
   ]
  },
  {
   "cell_type": "code",
   "execution_count": 26,
   "id": "c0b888f4",
   "metadata": {},
   "outputs": [],
   "source": [
    "tup1 = tuple(tup2)"
   ]
  },
  {
   "cell_type": "code",
   "execution_count": 27,
   "id": "7c8369f1",
   "metadata": {},
   "outputs": [
    {
     "data": {
      "text/plain": [
       "(1, 'AI')"
      ]
     },
     "execution_count": 27,
     "metadata": {},
     "output_type": "execute_result"
    }
   ],
   "source": [
    "tup1"
   ]
  },
  {
   "cell_type": "code",
   "execution_count": 28,
   "id": "6ca3bb89",
   "metadata": {},
   "outputs": [
    {
     "data": {
      "text/plain": [
       "tuple"
      ]
     },
     "execution_count": 28,
     "metadata": {},
     "output_type": "execute_result"
    }
   ],
   "source": [
    "type(tup1)"
   ]
  },
  {
   "cell_type": "code",
   "execution_count": 29,
   "id": "8afb203e",
   "metadata": {},
   "outputs": [
    {
     "data": {
      "text/plain": [
       "True"
      ]
     },
     "execution_count": 29,
     "metadata": {},
     "output_type": "execute_result"
    }
   ],
   "source": [
    "'AI' in tup2"
   ]
  },
  {
   "cell_type": "code",
   "execution_count": 30,
   "id": "0f75c76d",
   "metadata": {},
   "outputs": [
    {
     "data": {
      "text/plain": [
       "True"
      ]
     },
     "execution_count": 30,
     "metadata": {},
     "output_type": "execute_result"
    }
   ],
   "source": [
    "'AI' in tup1"
   ]
  },
  {
   "cell_type": "code",
   "execution_count": 32,
   "id": "4b9101d9",
   "metadata": {},
   "outputs": [
    {
     "data": {
      "text/plain": [
       "False"
      ]
     },
     "execution_count": 32,
     "metadata": {},
     "output_type": "execute_result"
    }
   ],
   "source": [
    "10 in tup2"
   ]
  },
  {
   "cell_type": "code",
   "execution_count": 33,
   "id": "92dc793a",
   "metadata": {},
   "outputs": [
    {
     "data": {
      "text/plain": [
       "False"
      ]
     },
     "execution_count": 33,
     "metadata": {},
     "output_type": "execute_result"
    }
   ],
   "source": [
    "10 in tup1"
   ]
  },
  {
   "cell_type": "code",
   "execution_count": 34,
   "id": "9c302737",
   "metadata": {},
   "outputs": [
    {
     "data": {
      "text/plain": [
       "[1, 'AI']"
      ]
     },
     "execution_count": 34,
     "metadata": {},
     "output_type": "execute_result"
    }
   ],
   "source": [
    "tup2"
   ]
  },
  {
   "cell_type": "code",
   "execution_count": 35,
   "id": "16e7e5f6",
   "metadata": {},
   "outputs": [
    {
     "ename": "TypeError",
     "evalue": "'tuple' object doesn't support item deletion",
     "output_type": "error",
     "traceback": [
      "\u001b[1;31m---------------------------------------------------------------------------\u001b[0m",
      "\u001b[1;31mTypeError\u001b[0m                                 Traceback (most recent call last)",
      "Cell \u001b[1;32mIn[35], line 1\u001b[0m\n\u001b[1;32m----> 1\u001b[0m \u001b[38;5;28;01mdel\u001b[39;00m tup1[\u001b[38;5;241m1\u001b[39m]\n",
      "\u001b[1;31mTypeError\u001b[0m: 'tuple' object doesn't support item deletion"
     ]
    }
   ],
   "source": [
    "del tup1[1]"
   ]
  },
  {
   "cell_type": "code",
   "execution_count": 39,
   "id": "957f35c6",
   "metadata": {},
   "outputs": [
    {
     "ename": "AttributeError",
     "evalue": "'tuple' object has no attribute 'remove'",
     "output_type": "error",
     "traceback": [
      "\u001b[1;31m---------------------------------------------------------------------------\u001b[0m",
      "\u001b[1;31mAttributeError\u001b[0m                            Traceback (most recent call last)",
      "Cell \u001b[1;32mIn[39], line 1\u001b[0m\n\u001b[1;32m----> 1\u001b[0m \u001b[43mtup1\u001b[49m\u001b[38;5;241;43m.\u001b[39;49m\u001b[43mremove\u001b[49m(\u001b[38;5;241m1\u001b[39m)\n",
      "\u001b[1;31mAttributeError\u001b[0m: 'tuple' object has no attribute 'remove'"
     ]
    }
   ],
   "source": [
    "tup1.remove(1)"
   ]
  },
  {
   "cell_type": "code",
   "execution_count": 40,
   "id": "875474cb",
   "metadata": {},
   "outputs": [
    {
     "data": {
      "text/plain": [
       "(1, 'AI')"
      ]
     },
     "execution_count": 40,
     "metadata": {},
     "output_type": "execute_result"
    }
   ],
   "source": [
    "tup1"
   ]
  },
  {
   "cell_type": "code",
   "execution_count": 42,
   "id": "baf2ba59",
   "metadata": {},
   "outputs": [
    {
     "data": {
      "text/plain": [
       "('AI',)"
      ]
     },
     "execution_count": 42,
     "metadata": {},
     "output_type": "execute_result"
    }
   ],
   "source": [
    "slice = tup1[1:2]\n",
    "slice"
   ]
  },
  {
   "cell_type": "code",
   "execution_count": 44,
   "id": "1e8dbd97",
   "metadata": {},
   "outputs": [
    {
     "data": {
      "text/plain": [
       "(1,)"
      ]
     },
     "execution_count": 44,
     "metadata": {},
     "output_type": "execute_result"
    }
   ],
   "source": [
    "tup1[:1]"
   ]
  },
  {
   "cell_type": "code",
   "execution_count": 45,
   "id": "a5a78f12",
   "metadata": {},
   "outputs": [
    {
     "data": {
      "text/plain": [
       "(1, 'AI')"
      ]
     },
     "execution_count": 45,
     "metadata": {},
     "output_type": "execute_result"
    }
   ],
   "source": [
    "tup1[:1] + tup1[1:2]"
   ]
  },
  {
   "cell_type": "code",
   "execution_count": null,
   "id": "ad1eba7c",
   "metadata": {},
   "outputs": [],
   "source": []
  }
 ],
 "metadata": {
  "kernelspec": {
   "display_name": "Python 3 (ipykernel)",
   "language": "python",
   "name": "python3"
  },
  "language_info": {
   "codemirror_mode": {
    "name": "ipython",
    "version": 3
   },
   "file_extension": ".py",
   "mimetype": "text/x-python",
   "name": "python",
   "nbconvert_exporter": "python",
   "pygments_lexer": "ipython3",
   "version": "3.9.13"
  }
 },
 "nbformat": 4,
 "nbformat_minor": 5
}
