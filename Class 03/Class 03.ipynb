{
 "cells": [
  {
   "cell_type": "markdown",
   "id": "9370b4ef",
   "metadata": {},
   "source": [
    "# Data Structures in python"
   ]
  },
  {
   "cell_type": "markdown",
   "id": "0fa00fdf",
   "metadata": {},
   "source": [
    "# List"
   ]
  },
  {
   "cell_type": "markdown",
   "id": "8bcb9c10",
   "metadata": {},
   "source": [
    " 1.Ordered\n",
    " 2.Changeable\n",
    " 3.Allow Duplicates"
   ]
  },
  {
   "cell_type": "code",
   "execution_count": 1,
   "id": "84f18dec",
   "metadata": {},
   "outputs": [],
   "source": [
    "l1=['data','science', 1,2,3,4,100,True,False,[1,2,3,4,5]]"
   ]
  },
  {
   "cell_type": "code",
   "execution_count": 2,
   "id": "812bddf3",
   "metadata": {},
   "outputs": [
    {
     "data": {
      "text/plain": [
       "['data', 'science', 1, 2, 3, 4, 100, True, False, [1, 2, 3, 4, 5]]"
      ]
     },
     "execution_count": 2,
     "metadata": {},
     "output_type": "execute_result"
    }
   ],
   "source": [
    "l1"
   ]
  },
  {
   "cell_type": "code",
   "execution_count": 3,
   "id": "5d75ecc8",
   "metadata": {},
   "outputs": [
    {
     "data": {
      "text/plain": [
       "136"
      ]
     },
     "execution_count": 3,
     "metadata": {},
     "output_type": "execute_result"
    }
   ],
   "source": [
    "import sys        #size of list\n",
    "sys.getsizeof(l1)    "
   ]
  },
  {
   "cell_type": "code",
   "execution_count": 4,
   "id": "48b11ce6",
   "metadata": {},
   "outputs": [],
   "source": [
    "t1=('data','science', 1,2,3,4,100,True,False,[1,2,3,4,5])"
   ]
  },
  {
   "cell_type": "code",
   "execution_count": 5,
   "id": "f70c1f46",
   "metadata": {},
   "outputs": [
    {
     "data": {
      "text/plain": [
       "120"
      ]
     },
     "execution_count": 5,
     "metadata": {},
     "output_type": "execute_result"
    }
   ],
   "source": [
    "sys.getsizeof(t1)  #size of touple"
   ]
  },
  {
   "cell_type": "code",
   "execution_count": 6,
   "id": "03d321cd",
   "metadata": {},
   "outputs": [
    {
     "data": {
      "text/plain": [
       "[1, 2, 3, 4, 5]"
      ]
     },
     "execution_count": 6,
     "metadata": {},
     "output_type": "execute_result"
    }
   ],
   "source": [
    "t1[-1]"
   ]
  },
  {
   "cell_type": "code",
   "execution_count": 7,
   "id": "11fe464b",
   "metadata": {},
   "outputs": [
    {
     "data": {
      "text/plain": [
       "3"
      ]
     },
     "execution_count": 7,
     "metadata": {},
     "output_type": "execute_result"
    }
   ],
   "source": [
    "t1[-1][2]"
   ]
  },
  {
   "cell_type": "code",
   "execution_count": 8,
   "id": "b64a1740",
   "metadata": {},
   "outputs": [
    {
     "data": {
      "text/plain": [
       "3"
      ]
     },
     "execution_count": 8,
     "metadata": {},
     "output_type": "execute_result"
    }
   ],
   "source": [
    "l1[-1][2]"
   ]
  },
  {
   "cell_type": "code",
   "execution_count": 10,
   "id": "abc9553f",
   "metadata": {},
   "outputs": [
    {
     "data": {
      "text/plain": [
       "['data', 'science', 1, 2, 3, 4, 100, True, False, [1, 2, 3, 4, 5]]"
      ]
     },
     "execution_count": 10,
     "metadata": {},
     "output_type": "execute_result"
    }
   ],
   "source": [
    "l1"
   ]
  },
  {
   "cell_type": "code",
   "execution_count": 11,
   "id": "edd47011",
   "metadata": {},
   "outputs": [
    {
     "data": {
      "text/plain": [
       "'data'"
      ]
     },
     "execution_count": 11,
     "metadata": {},
     "output_type": "execute_result"
    }
   ],
   "source": [
    "l1[0]"
   ]
  },
  {
   "cell_type": "code",
   "execution_count": 12,
   "id": "f4b1b91e",
   "metadata": {},
   "outputs": [],
   "source": [
    "l1[0]='Tanvir'"
   ]
  },
  {
   "cell_type": "code",
   "execution_count": 13,
   "id": "8c7b42b3",
   "metadata": {},
   "outputs": [
    {
     "data": {
      "text/plain": [
       "['Tanvir', 'science', 1, 2, 3, 4, 100, True, False, [1, 2, 3, 4, 5]]"
      ]
     },
     "execution_count": 13,
     "metadata": {},
     "output_type": "execute_result"
    }
   ],
   "source": [
    "l1"
   ]
  },
  {
   "cell_type": "code",
   "execution_count": 14,
   "id": "0c87c858",
   "metadata": {},
   "outputs": [
    {
     "data": {
      "text/plain": [
       "('data', 'science', 1, 2, 3, 4, 100, True, False, [1, 2, 3, 4, 5])"
      ]
     },
     "execution_count": 14,
     "metadata": {},
     "output_type": "execute_result"
    }
   ],
   "source": [
    "t1"
   ]
  },
  {
   "cell_type": "code",
   "execution_count": 15,
   "id": "c584a75e",
   "metadata": {},
   "outputs": [
    {
     "ename": "TypeError",
     "evalue": "'tuple' object does not support item assignment",
     "output_type": "error",
     "traceback": [
      "\u001b[1;31m---------------------------------------------------------------------------\u001b[0m",
      "\u001b[1;31mTypeError\u001b[0m                                 Traceback (most recent call last)",
      "Cell \u001b[1;32mIn[15], line 1\u001b[0m\n\u001b[1;32m----> 1\u001b[0m \u001b[43mt1\u001b[49m\u001b[43m[\u001b[49m\u001b[38;5;241;43m0\u001b[39;49m\u001b[43m]\u001b[49m\u001b[38;5;241m=\u001b[39m\u001b[38;5;124m'\u001b[39m\u001b[38;5;124mIslam\u001b[39m\u001b[38;5;124m'\u001b[39m\n",
      "\u001b[1;31mTypeError\u001b[0m: 'tuple' object does not support item assignment"
     ]
    }
   ],
   "source": [
    "t1[0]='Islam'"
   ]
  },
  {
   "cell_type": "code",
   "execution_count": 16,
   "id": "e603f2dd",
   "metadata": {},
   "outputs": [],
   "source": [
    "l1=['data','science', 1,2,3,4,100,True,False,[1,2,3,4,5]]"
   ]
  },
  {
   "cell_type": "code",
   "execution_count": 17,
   "id": "735ac8fd",
   "metadata": {},
   "outputs": [
    {
     "data": {
      "text/plain": [
       "['data', 'science', 1, 2, 3, 4, 100, True, False, [1, 2, 3, 4, 5]]"
      ]
     },
     "execution_count": 17,
     "metadata": {},
     "output_type": "execute_result"
    }
   ],
   "source": [
    "l1"
   ]
  },
  {
   "cell_type": "code",
   "execution_count": 18,
   "id": "57d3aef2",
   "metadata": {},
   "outputs": [
    {
     "data": {
      "text/plain": [
       "1"
      ]
     },
     "execution_count": 18,
     "metadata": {},
     "output_type": "execute_result"
    }
   ],
   "source": [
    "l1[2]"
   ]
  },
  {
   "cell_type": "code",
   "execution_count": 19,
   "id": "54d5b7c6",
   "metadata": {},
   "outputs": [
    {
     "data": {
      "text/plain": [
       "[1, 2, 3, 4]"
      ]
     },
     "execution_count": 19,
     "metadata": {},
     "output_type": "execute_result"
    }
   ],
   "source": [
    "l1[2:6]   #colon means 2 to 6   #initial to (destination-1)"
   ]
  },
  {
   "cell_type": "code",
   "execution_count": 20,
   "id": "9cf32261",
   "metadata": {},
   "outputs": [
    {
     "data": {
      "text/plain": [
       "False"
      ]
     },
     "execution_count": 20,
     "metadata": {},
     "output_type": "execute_result"
    }
   ],
   "source": [
    "l1[-2]"
   ]
  },
  {
   "cell_type": "code",
   "execution_count": 21,
   "id": "3356d33c",
   "metadata": {},
   "outputs": [
    {
     "data": {
      "text/plain": [
       "'data science'"
      ]
     },
     "execution_count": 21,
     "metadata": {},
     "output_type": "execute_result"
    }
   ],
   "source": [
    "string='data science'\n",
    "string"
   ]
  },
  {
   "cell_type": "code",
   "execution_count": 22,
   "id": "a4f30ae7",
   "metadata": {},
   "outputs": [
    {
     "data": {
      "text/plain": [
       "['data', 'science']"
      ]
     },
     "execution_count": 22,
     "metadata": {},
     "output_type": "execute_result"
    }
   ],
   "source": [
    "string.split()"
   ]
  },
  {
   "cell_type": "code",
   "execution_count": 24,
   "id": "b02a435c",
   "metadata": {},
   "outputs": [
    {
     "name": "stdout",
     "output_type": "stream",
     "text": [
      "d 0\n",
      "a 1\n",
      "t 2\n",
      "a 3\n",
      "  4\n",
      "s 5\n",
      "c 6\n",
      "i 7\n",
      "e 8\n",
      "n 9\n",
      "c 10\n",
      "e 11\n"
     ]
    }
   ],
   "source": [
    "for x in range(len(string)):\n",
    "   print(string[x],x)"
   ]
  },
  {
   "cell_type": "code",
   "execution_count": 25,
   "id": "fecfa324",
   "metadata": {},
   "outputs": [],
   "source": [
    "data=string.split()"
   ]
  },
  {
   "cell_type": "code",
   "execution_count": 26,
   "id": "2b7e1312",
   "metadata": {},
   "outputs": [
    {
     "name": "stdout",
     "output_type": "stream",
     "text": [
      "data 0\n",
      "science 1\n"
     ]
    }
   ],
   "source": [
    "for x in range(len(data)):\n",
    "   print(data[x],x)"
   ]
  },
  {
   "cell_type": "code",
   "execution_count": 28,
   "id": "16f08e07",
   "metadata": {},
   "outputs": [
    {
     "data": {
      "text/plain": [
       "'data science'"
      ]
     },
     "execution_count": 28,
     "metadata": {},
     "output_type": "execute_result"
    }
   ],
   "source": [
    "string='data science'\n",
    "string"
   ]
  },
  {
   "cell_type": "code",
   "execution_count": 32,
   "id": "003e3868",
   "metadata": {},
   "outputs": [
    {
     "data": {
      "text/plain": [
       "['data', 'science']"
      ]
     },
     "execution_count": 32,
     "metadata": {},
     "output_type": "execute_result"
    }
   ],
   "source": [
    "string.split()"
   ]
  },
  {
   "cell_type": "code",
   "execution_count": 33,
   "id": "0595e5b4",
   "metadata": {},
   "outputs": [
    {
     "data": {
      "text/plain": [
       "'data'"
      ]
     },
     "execution_count": 33,
     "metadata": {},
     "output_type": "execute_result"
    }
   ],
   "source": [
    "string.split()[0]"
   ]
  },
  {
   "cell_type": "code",
   "execution_count": 35,
   "id": "cb43dc9d",
   "metadata": {},
   "outputs": [
    {
     "data": {
      "text/plain": [
       "'t'"
      ]
     },
     "execution_count": 35,
     "metadata": {},
     "output_type": "execute_result"
    }
   ],
   "source": [
    "string.split()[0][2]"
   ]
  },
  {
   "cell_type": "code",
   "execution_count": 36,
   "id": "aa67e964",
   "metadata": {},
   "outputs": [
    {
     "data": {
      "text/plain": [
       "['data', 'science', 1, 2, 3, 4, 100, True, False, [1, 2, 3, 4, 5]]"
      ]
     },
     "execution_count": 36,
     "metadata": {},
     "output_type": "execute_result"
    }
   ],
   "source": [
    "l1"
   ]
  },
  {
   "cell_type": "code",
   "execution_count": 42,
   "id": "8fb6b221",
   "metadata": {},
   "outputs": [
    {
     "data": {
      "text/plain": [
       "['data',\n",
       " 'science',\n",
       " 1,\n",
       " 2,\n",
       " 3,\n",
       " 4,\n",
       " 100,\n",
       " True,\n",
       " False,\n",
       " [1, 2, 3, 4, 5],\n",
       " 'Tanvir',\n",
       " 'Tanvir',\n",
       " 'Tanvir',\n",
       " 'Tanvir',\n",
       " 'Tanvir']"
      ]
     },
     "execution_count": 42,
     "metadata": {},
     "output_type": "execute_result"
    }
   ],
   "source": [
    "l1.append('Tanvir')\n",
    "l1"
   ]
  },
  {
   "cell_type": "code",
   "execution_count": 43,
   "id": "ee48a385",
   "metadata": {},
   "outputs": [],
   "source": [
    "l1=['data', 'science', 1, 2, 3, 4, 100, True, False, [1, 2, 3, 4, 5]]"
   ]
  },
  {
   "cell_type": "code",
   "execution_count": 44,
   "id": "d9912ece",
   "metadata": {},
   "outputs": [
    {
     "data": {
      "text/plain": [
       "['data', 'science', 1, 2, 3, 4, 100, True, False, [1, 2, 3, 4, 5]]"
      ]
     },
     "execution_count": 44,
     "metadata": {},
     "output_type": "execute_result"
    }
   ],
   "source": [
    "l1"
   ]
  },
  {
   "cell_type": "code",
   "execution_count": 45,
   "id": "cc2872ce",
   "metadata": {},
   "outputs": [],
   "source": [
    "l1.append('Sohan')"
   ]
  },
  {
   "cell_type": "code",
   "execution_count": 46,
   "id": "741058ad",
   "metadata": {},
   "outputs": [
    {
     "data": {
      "text/plain": [
       "['data', 'science', 1, 2, 3, 4, 100, True, False, [1, 2, 3, 4, 5], 'Sohan']"
      ]
     },
     "execution_count": 46,
     "metadata": {},
     "output_type": "execute_result"
    }
   ],
   "source": [
    "l1"
   ]
  },
  {
   "cell_type": "code",
   "execution_count": 48,
   "id": "cb5e4229",
   "metadata": {},
   "outputs": [],
   "source": [
    "l1.append(\"Saha\")"
   ]
  },
  {
   "cell_type": "code",
   "execution_count": 49,
   "id": "08d7da01",
   "metadata": {},
   "outputs": [
    {
     "data": {
      "text/plain": [
       "['data',\n",
       " 'science',\n",
       " 1,\n",
       " 2,\n",
       " 3,\n",
       " 4,\n",
       " 100,\n",
       " True,\n",
       " False,\n",
       " [1, 2, 3, 4, 5],\n",
       " 'Sohan',\n",
       " 'Saha']"
      ]
     },
     "execution_count": 49,
     "metadata": {},
     "output_type": "execute_result"
    }
   ],
   "source": [
    "l1"
   ]
  },
  {
   "cell_type": "code",
   "execution_count": 51,
   "id": "c917efbb",
   "metadata": {},
   "outputs": [],
   "source": [
    "l1.insert(3,'teacher')"
   ]
  },
  {
   "cell_type": "code",
   "execution_count": 52,
   "id": "7211c3d1",
   "metadata": {},
   "outputs": [
    {
     "data": {
      "text/plain": [
       "['data',\n",
       " 'science',\n",
       " 1,\n",
       " 'teacher',\n",
       " 2,\n",
       " 3,\n",
       " 4,\n",
       " 100,\n",
       " True,\n",
       " False,\n",
       " [1, 2, 3, 4, 5],\n",
       " 'Sohan',\n",
       " 'Saha']"
      ]
     },
     "execution_count": 52,
     "metadata": {},
     "output_type": "execute_result"
    }
   ],
   "source": [
    "l1"
   ]
  },
  {
   "cell_type": "code",
   "execution_count": 54,
   "id": "f3f0c8f8",
   "metadata": {},
   "outputs": [
    {
     "data": {
      "text/plain": [
       "3"
      ]
     },
     "execution_count": 54,
     "metadata": {},
     "output_type": "execute_result"
    }
   ],
   "source": [
    "l1.index('teacher')"
   ]
  },
  {
   "cell_type": "code",
   "execution_count": 56,
   "id": "384ed593",
   "metadata": {},
   "outputs": [],
   "source": [
    "l2=l1"
   ]
  },
  {
   "cell_type": "code",
   "execution_count": 57,
   "id": "b9639389",
   "metadata": {},
   "outputs": [
    {
     "data": {
      "text/plain": [
       "['data',\n",
       " 'science',\n",
       " 1,\n",
       " 'teacher',\n",
       " 2,\n",
       " 3,\n",
       " 4,\n",
       " 100,\n",
       " True,\n",
       " False,\n",
       " [1, 2, 3, 4, 5],\n",
       " 'Sohan',\n",
       " 'Saha']"
      ]
     },
     "execution_count": 57,
     "metadata": {},
     "output_type": "execute_result"
    }
   ],
   "source": [
    "l2"
   ]
  },
  {
   "cell_type": "code",
   "execution_count": 58,
   "id": "86fdf0f1",
   "metadata": {},
   "outputs": [],
   "source": [
    "l2.append('EDU')"
   ]
  },
  {
   "cell_type": "code",
   "execution_count": 59,
   "id": "ab2ef36a",
   "metadata": {},
   "outputs": [
    {
     "data": {
      "text/plain": [
       "['data',\n",
       " 'science',\n",
       " 1,\n",
       " 'teacher',\n",
       " 2,\n",
       " 3,\n",
       " 4,\n",
       " 100,\n",
       " True,\n",
       " False,\n",
       " [1, 2, 3, 4, 5],\n",
       " 'Sohan',\n",
       " 'Saha',\n",
       " 'EDU']"
      ]
     },
     "execution_count": 59,
     "metadata": {},
     "output_type": "execute_result"
    }
   ],
   "source": [
    "l2"
   ]
  },
  {
   "cell_type": "code",
   "execution_count": 60,
   "id": "b3a079be",
   "metadata": {},
   "outputs": [
    {
     "data": {
      "text/plain": [
       "['data',\n",
       " 'science',\n",
       " 1,\n",
       " 'teacher',\n",
       " 2,\n",
       " 3,\n",
       " 4,\n",
       " 100,\n",
       " True,\n",
       " False,\n",
       " [1, 2, 3, 4, 5],\n",
       " 'Sohan',\n",
       " 'Saha',\n",
       " 'EDU']"
      ]
     },
     "execution_count": 60,
     "metadata": {},
     "output_type": "execute_result"
    }
   ],
   "source": [
    "l1"
   ]
  },
  {
   "cell_type": "code",
   "execution_count": 61,
   "id": "d48c41ba",
   "metadata": {},
   "outputs": [],
   "source": [
    "l2.remove(1)"
   ]
  },
  {
   "cell_type": "code",
   "execution_count": 62,
   "id": "0beafb69",
   "metadata": {},
   "outputs": [
    {
     "data": {
      "text/plain": [
       "['data',\n",
       " 'science',\n",
       " 'teacher',\n",
       " 2,\n",
       " 3,\n",
       " 4,\n",
       " 100,\n",
       " True,\n",
       " False,\n",
       " [1, 2, 3, 4, 5],\n",
       " 'Sohan',\n",
       " 'Saha',\n",
       " 'EDU']"
      ]
     },
     "execution_count": 62,
     "metadata": {},
     "output_type": "execute_result"
    }
   ],
   "source": [
    "l2"
   ]
  },
  {
   "cell_type": "code",
   "execution_count": 63,
   "id": "1eda712e",
   "metadata": {},
   "outputs": [
    {
     "data": {
      "text/plain": [
       "['data',\n",
       " 'science',\n",
       " 'teacher',\n",
       " 2,\n",
       " 3,\n",
       " 4,\n",
       " 100,\n",
       " True,\n",
       " False,\n",
       " [1, 2, 3, 4, 5],\n",
       " 'Sohan',\n",
       " 'Saha',\n",
       " 'EDU']"
      ]
     },
     "execution_count": 63,
     "metadata": {},
     "output_type": "execute_result"
    }
   ],
   "source": [
    "l1"
   ]
  },
  {
   "cell_type": "code",
   "execution_count": 64,
   "id": "035b60ab",
   "metadata": {},
   "outputs": [
    {
     "data": {
      "text/plain": [
       "2946871377408"
      ]
     },
     "execution_count": 64,
     "metadata": {},
     "output_type": "execute_result"
    }
   ],
   "source": [
    "id(l1)  #memory address"
   ]
  },
  {
   "cell_type": "code",
   "execution_count": 65,
   "id": "473cca3c",
   "metadata": {},
   "outputs": [
    {
     "data": {
      "text/plain": [
       "2946871377408"
      ]
     },
     "execution_count": 65,
     "metadata": {},
     "output_type": "execute_result"
    }
   ],
   "source": [
    "id(l2)"
   ]
  },
  {
   "cell_type": "code",
   "execution_count": 66,
   "id": "a228a9f1",
   "metadata": {},
   "outputs": [],
   "source": [
    "l3=l2.copy()"
   ]
  },
  {
   "cell_type": "code",
   "execution_count": 67,
   "id": "8e1936d3",
   "metadata": {},
   "outputs": [
    {
     "data": {
      "text/plain": [
       "['data',\n",
       " 'science',\n",
       " 'teacher',\n",
       " 2,\n",
       " 3,\n",
       " 4,\n",
       " 100,\n",
       " True,\n",
       " False,\n",
       " [1, 2, 3, 4, 5],\n",
       " 'Sohan',\n",
       " 'Saha',\n",
       " 'EDU']"
      ]
     },
     "execution_count": 67,
     "metadata": {},
     "output_type": "execute_result"
    }
   ],
   "source": [
    "l3"
   ]
  },
  {
   "cell_type": "code",
   "execution_count": 68,
   "id": "0217a0fc",
   "metadata": {},
   "outputs": [
    {
     "data": {
      "text/plain": [
       "['data',\n",
       " 'science',\n",
       " 'teacher',\n",
       " 2,\n",
       " 3,\n",
       " 4,\n",
       " 100,\n",
       " True,\n",
       " False,\n",
       " [1, 2, 3, 4, 5],\n",
       " 'Sohan',\n",
       " 'Saha',\n",
       " 'EDU']"
      ]
     },
     "execution_count": 68,
     "metadata": {},
     "output_type": "execute_result"
    }
   ],
   "source": [
    "l2"
   ]
  },
  {
   "cell_type": "code",
   "execution_count": 72,
   "id": "d63893f0",
   "metadata": {},
   "outputs": [
    {
     "data": {
      "text/plain": [
       "['data', 'science', 'teacher', 2, 3, 4, 100, True, [1, 2, 3, 4, 5], 'Saha']"
      ]
     },
     "execution_count": 72,
     "metadata": {},
     "output_type": "execute_result"
    }
   ],
   "source": [
    "l3"
   ]
  },
  {
   "cell_type": "code",
   "execution_count": 73,
   "id": "9e99f50f",
   "metadata": {},
   "outputs": [
    {
     "data": {
      "text/plain": [
       "[1, 2, 3, 4, 5]"
      ]
     },
     "execution_count": 73,
     "metadata": {},
     "output_type": "execute_result"
    }
   ],
   "source": [
    "l3.pop(-2)     # index use in pop\n",
    "               # remove use direct value"
   ]
  },
  {
   "cell_type": "code",
   "execution_count": 74,
   "id": "7f06c4b4",
   "metadata": {},
   "outputs": [
    {
     "data": {
      "text/plain": [
       "['data', 'science', 'teacher', 2, 3, 4, 100, True, 'Saha']"
      ]
     },
     "execution_count": 74,
     "metadata": {},
     "output_type": "execute_result"
    }
   ],
   "source": [
    "l3"
   ]
  },
  {
   "cell_type": "code",
   "execution_count": 75,
   "id": "a1ab4199",
   "metadata": {},
   "outputs": [
    {
     "data": {
      "text/plain": [
       "['data',\n",
       " 'science',\n",
       " 'teacher',\n",
       " 2,\n",
       " 3,\n",
       " 4,\n",
       " 100,\n",
       " True,\n",
       " False,\n",
       " [1, 2, 3, 4, 5],\n",
       " 'Sohan',\n",
       " 'Saha',\n",
       " 'EDU']"
      ]
     },
     "execution_count": 75,
     "metadata": {},
     "output_type": "execute_result"
    }
   ],
   "source": [
    "l2"
   ]
  },
  {
   "cell_type": "code",
   "execution_count": 76,
   "id": "bdaa1835",
   "metadata": {},
   "outputs": [
    {
     "data": {
      "text/plain": [
       "['data', 'science', 'teacher', 2, 3, 4, 100, True, 'Saha']"
      ]
     },
     "execution_count": 76,
     "metadata": {},
     "output_type": "execute_result"
    }
   ],
   "source": [
    "l3"
   ]
  },
  {
   "cell_type": "code",
   "execution_count": 77,
   "id": "fa4c5fd6",
   "metadata": {},
   "outputs": [
    {
     "data": {
      "text/plain": [
       "'\\n1.positive index start from 0\\n2.Negative index start from (-1)\\n'"
      ]
     },
     "execution_count": 77,
     "metadata": {},
     "output_type": "execute_result"
    }
   ],
   "source": [
    "'''\n",
    "1.positive index start from 0 to n-1\n",
    "2.Negative index start from (-1) to ....\n",
    "\n",
    "'''"
   ]
  },
  {
   "cell_type": "code",
   "execution_count": 78,
   "id": "24a8acde",
   "metadata": {},
   "outputs": [
    {
     "data": {
      "text/plain": [
       "['data',\n",
       " 'science',\n",
       " 'teacher',\n",
       " 2,\n",
       " 3,\n",
       " 4,\n",
       " 100,\n",
       " True,\n",
       " False,\n",
       " [1, 2, 3, 4, 5],\n",
       " 'Sohan',\n",
       " 'Saha',\n",
       " 'EDU']"
      ]
     },
     "execution_count": 78,
     "metadata": {},
     "output_type": "execute_result"
    }
   ],
   "source": [
    "l2"
   ]
  },
  {
   "cell_type": "code",
   "execution_count": 81,
   "id": "4c71e97f",
   "metadata": {},
   "outputs": [],
   "source": [
    "del l2[9]"
   ]
  },
  {
   "cell_type": "code",
   "execution_count": 82,
   "id": "b9a16aaa",
   "metadata": {},
   "outputs": [
    {
     "data": {
      "text/plain": [
       "['data',\n",
       " 'science',\n",
       " 'teacher',\n",
       " 2,\n",
       " 3,\n",
       " 4,\n",
       " 100,\n",
       " True,\n",
       " False,\n",
       " 'Sohan',\n",
       " 'Saha',\n",
       " 'EDU']"
      ]
     },
     "execution_count": 82,
     "metadata": {},
     "output_type": "execute_result"
    }
   ],
   "source": [
    "l2"
   ]
  },
  {
   "cell_type": "code",
   "execution_count": 83,
   "id": "ad1eb106",
   "metadata": {},
   "outputs": [],
   "source": [
    "del l2[10]"
   ]
  },
  {
   "cell_type": "code",
   "execution_count": 84,
   "id": "ca929a2d",
   "metadata": {},
   "outputs": [
    {
     "data": {
      "text/plain": [
       "['data', 'science', 'teacher', 2, 3, 4, 100, True, False, 'Sohan', 'EDU']"
      ]
     },
     "execution_count": 84,
     "metadata": {},
     "output_type": "execute_result"
    }
   ],
   "source": [
    "l2"
   ]
  },
  {
   "cell_type": "code",
   "execution_count": 85,
   "id": "97660039",
   "metadata": {},
   "outputs": [],
   "source": [
    "l3=[1,5,3,5,1,9,10,6,2,4,8]"
   ]
  },
  {
   "cell_type": "code",
   "execution_count": 86,
   "id": "a7eabcbb",
   "metadata": {},
   "outputs": [],
   "source": [
    "l3.sort()"
   ]
  },
  {
   "cell_type": "code",
   "execution_count": 87,
   "id": "9f0a0057",
   "metadata": {},
   "outputs": [
    {
     "data": {
      "text/plain": [
       "[1, 1, 2, 3, 4, 5, 5, 6, 8, 9, 10]"
      ]
     },
     "execution_count": 87,
     "metadata": {},
     "output_type": "execute_result"
    }
   ],
   "source": [
    "l3"
   ]
  },
  {
   "cell_type": "code",
   "execution_count": 88,
   "id": "c84e68ab",
   "metadata": {},
   "outputs": [],
   "source": [
    "l3.reverse()"
   ]
  },
  {
   "cell_type": "code",
   "execution_count": 89,
   "id": "d6cb37fb",
   "metadata": {},
   "outputs": [
    {
     "data": {
      "text/plain": [
       "[10, 9, 8, 6, 5, 5, 4, 3, 2, 1, 1]"
      ]
     },
     "execution_count": 89,
     "metadata": {},
     "output_type": "execute_result"
    }
   ],
   "source": [
    "l3\n"
   ]
  },
  {
   "cell_type": "code",
   "execution_count": 90,
   "id": "f86eff81",
   "metadata": {},
   "outputs": [
    {
     "data": {
      "text/plain": [
       "2"
      ]
     },
     "execution_count": 90,
     "metadata": {},
     "output_type": "execute_result"
    }
   ],
   "source": [
    "l3.count(5)"
   ]
  },
  {
   "cell_type": "code",
   "execution_count": 91,
   "id": "9d1629af",
   "metadata": {},
   "outputs": [],
   "source": [
    "l3.clear()"
   ]
  },
  {
   "cell_type": "code",
   "execution_count": 92,
   "id": "f555a524",
   "metadata": {},
   "outputs": [
    {
     "data": {
      "text/plain": [
       "[]"
      ]
     },
     "execution_count": 92,
     "metadata": {},
     "output_type": "execute_result"
    }
   ],
   "source": [
    "l3"
   ]
  },
  {
   "cell_type": "code",
   "execution_count": 93,
   "id": "50b4a63e",
   "metadata": {},
   "outputs": [],
   "source": [
    "l3.append('Tanvir')"
   ]
  },
  {
   "cell_type": "code",
   "execution_count": 94,
   "id": "a6eedbd1",
   "metadata": {},
   "outputs": [
    {
     "data": {
      "text/plain": [
       "['Tanvir']"
      ]
     },
     "execution_count": 94,
     "metadata": {},
     "output_type": "execute_result"
    }
   ],
   "source": [
    "l3"
   ]
  },
  {
   "cell_type": "code",
   "execution_count": 95,
   "id": "f97273b6",
   "metadata": {},
   "outputs": [
    {
     "data": {
      "text/plain": [
       "[]"
      ]
     },
     "execution_count": 95,
     "metadata": {},
     "output_type": "execute_result"
    }
   ],
   "source": [
    "l3.clear()\n",
    "l3"
   ]
  },
  {
   "cell_type": "code",
   "execution_count": 96,
   "id": "f75d9c39",
   "metadata": {},
   "outputs": [
    {
     "data": {
      "text/plain": [
       "[1, 5, 3, 5, 1, 9, 10, 6, 2, 4, 8]"
      ]
     },
     "execution_count": 96,
     "metadata": {},
     "output_type": "execute_result"
    }
   ],
   "source": [
    "l3=[1,5,3,5,1,9,10,6,2,4,8]\n",
    "l3\n",
    "\n"
   ]
  },
  {
   "cell_type": "code",
   "execution_count": 100,
   "id": "060f2b85",
   "metadata": {},
   "outputs": [
    {
     "name": "stdout",
     "output_type": "stream",
     "text": [
      "0\n",
      "1\n",
      "6\n",
      "9\n",
      "14\n",
      "15\n",
      "24\n",
      "34\n",
      "40\n",
      "42\n",
      "46\n",
      "54\n"
     ]
    }
   ],
   "source": [
    "total = 0\n",
    "for x in l3:\n",
    "    print(total)\n",
    "    total += x\n",
    "print(total)    "
   ]
  },
  {
   "cell_type": "markdown",
   "id": "04c066a4",
   "metadata": {},
   "source": [
    "# input function"
   ]
  },
  {
   "cell_type": "code",
   "execution_count": null,
   "id": "7cbc38ea",
   "metadata": {},
   "outputs": [],
   "source": []
  }
 ],
 "metadata": {
  "kernelspec": {
   "display_name": "Python 3 (ipykernel)",
   "language": "python",
   "name": "python3"
  },
  "language_info": {
   "codemirror_mode": {
    "name": "ipython",
    "version": 3
   },
   "file_extension": ".py",
   "mimetype": "text/x-python",
   "name": "python",
   "nbconvert_exporter": "python",
   "pygments_lexer": "ipython3",
   "version": "3.9.13"
  }
 },
 "nbformat": 4,
 "nbformat_minor": 5
}
